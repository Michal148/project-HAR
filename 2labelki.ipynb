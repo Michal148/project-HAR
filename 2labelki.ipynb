{
 "cells": [
  {
   "cell_type": "code",
   "execution_count": 1,
   "metadata": {},
   "outputs": [],
   "source": [
    "from sklearn.metrics import accuracy_score, confusion_matrix\n",
    "import pandas as pd\n",
    "import seaborn as sns\n",
    "import matplotlib.pyplot as plt\n",
    "import numpy as np\n",
    "\n",
    "from tabpfn import TabPFNClassifier"
   ]
  },
  {
   "cell_type": "code",
   "execution_count": 2,
   "metadata": {},
   "outputs": [
    {
     "data": {
      "text/plain": [
       "sitting       1273\n",
       "walking       1224\n",
       "squats         555\n",
       "standing       504\n",
       "lying          492\n",
       "downstairs     357\n",
       "upstairs       284\n",
       "jogging        273\n",
       "Name: activity, dtype: int64"
      ]
     },
     "execution_count": 2,
     "metadata": {},
     "output_type": "execute_result"
    }
   ],
   "source": [
    "dataset= pd.read_csv(\"./merged_data.csv\")\n",
    "dataset[\"activity\"].value_counts()"
   ]
  },
  {
   "cell_type": "code",
   "execution_count": 3,
   "metadata": {},
   "outputs": [],
   "source": [
    "filtered_df = dataset[dataset['activity'].isin(['sitting', 'walking'])]"
   ]
  },
  {
   "cell_type": "code",
   "execution_count": 4,
   "metadata": {},
   "outputs": [],
   "source": [
    "df1 = filtered_df.drop(['acc_x_wilson_amp', 'acc_x_mpf', 'acc_y_mpf', 'acc_z_mpf', 'acc_x_entropy', 'acc_y_entropy', 'acc_z_entropy', \n",
    "                    'acc_z_enwacto_1', 'acc_z_enwacto_2', 'acc_z_enwacto_3', 'acc_z_enwacto_4', 'acc_z_enwacto_5', 'acc_z_enwacto_6', \n",
    "                    'acc_z_enwacto_7', 'acc_y_enwacto_1', 'acc_y_enwacto_2', 'acc_y_enwacto_3', 'acc_y_enwacto_4', 'acc_y_enwacto_5', 'acc_y_enwacto_6',\n",
    "                    'acc_y_enwacto_7', 'acc_x_enwacto_1', 'acc_x_enwacto_2', 'acc_x_enwacto_3', 'acc_x_enwacto_4', 'acc_x_enwacto_5', 'acc_x_enwacto_6',\n",
    "                    'acc_x_enwacto_7'], axis=1)\n",
    "\n",
    "wOkuba = df1[~df1['name'].str.lower().str.contains('kuba')].drop(columns=['name'], axis=1)\n",
    "kuba = df1[df1['name'].str.lower().str.contains('kuba')].drop(columns=['name'], axis=1)\n",
    "\n",
    "X_train = wOkuba.drop(columns=['activity'])\n",
    "Y_train =  np.ravel(wOkuba[['activity']])\n",
    "X_test = kuba.drop(columns=['activity'])\n",
    "Y_test = np.ravel(kuba[['activity']])"
   ]
  },
  {
   "cell_type": "code",
   "execution_count": 6,
   "metadata": {},
   "outputs": [
    {
     "name": "stderr",
     "output_type": "stream",
     "text": [
      "F:\\anaconda\\lib\\site-packages\\sklearn\\svm\\_base.py:1244: ConvergenceWarning: Liblinear failed to converge, increase the number of iterations.\n",
      "  warnings.warn(\n"
     ]
    },
    {
     "name": "stdout",
     "output_type": "stream",
     "text": [
      "Accuracy 1.0\n"
     ]
    },
    {
     "data": {
      "text/plain": [
       "Text(34.0, 0.5, 'True Labels')"
      ]
     },
     "execution_count": 6,
     "metadata": {},
     "output_type": "execute_result"
    },
    {
     "data": {
      "image/png": "[encoded data removed]",
      "text/plain": [
       "<Figure size 432x288 with 2 Axes>"
      ]
     },
     "metadata": {
      "needs_background": "light"
     },
     "output_type": "display_data"
    }
   ],
   "source": [
    "from sklearn.svm import LinearSVC\n",
    "clf = LinearSVC(random_state=42, tol=1e-5, max_iter=1000)\n",
    "clf.fit(X_train,Y_train)\n",
    "score = clf.score(X_test, Y_test)\n",
    "y_eval = clf.predict(X_test)\n",
    "print('Accuracy', score)\n",
    "confusion_mat = confusion_matrix(Y_test, y_eval)\n",
    "sns.heatmap(confusion_mat, annot=True, cmap=\"Blues\")\n",
    "plt.xlabel(\"Predicted Labels\")\n",
    "plt.ylabel(\"True Labels\")"
   ]
  },
  {
   "cell_type": "code",
   "execution_count": 31,
   "metadata": {},
   "outputs": [
    {
     "name": "stdout",
     "output_type": "stream",
     "text": [
      "Loading model that can be used for inference only\n",
      "Using a Transformer with 25.82 M parameters\n",
      "Accuracy 0.6666666666666666\n"
     ]
    },
    {
     "data": {
      "text/plain": [
       "Text(33.0, 0.5, 'True Labels')"
      ]
     },
     "execution_count": 31,
     "metadata": {},
     "output_type": "execute_result"
    },
    {
     "data": {
      "image/png": "[encoded data removed]",
      "text/plain": [
       "<Figure size 432x288 with 2 Axes>"
      ]
     },
     "metadata": {
      "needs_background": "light"
     },
     "output_type": "display_data"
    }
   ],
   "source": [
    "classifier = TabPFNClassifier(device='cpu', N_ensemble_configurations=32)\n",
    "classifier.fit(X_train, Y_train, overwrite_warning=True)\n",
    "y_eval, p_eval = classifier.predict(X_test, return_winning_probability=True)\n",
    "\n",
    "print('Accuracy', accuracy_score(Y_test, y_eval))\n",
    "confusion_mat = confusion_matrix(Y_test, y_eval)\n",
    "sns.heatmap(confusion_mat, annot=True, cmap=\"Blues\")\n",
    "plt.xlabel(\"Predicted Labels\")\n",
    "plt.ylabel(\"True Labels\")"
   ]
  }
 ],
 "metadata": {
  "kernelspec": {
   "display_name": "Python 3 (ipykernel)",
   "language": "python",
   "name": "python3"
  },
  "language_info": {
   "codemirror_mode": {
    "name": "ipython",
    "version": 3
   },
   "file_extension": ".py",
   "mimetype": "text/x-python",
   "name": "python",
   "nbconvert_exporter": "python",
   "pygments_lexer": "ipython3",
   "version": "3.8.8"
  }
 },
 "nbformat": 4,
 "nbformat_minor": 2
}
