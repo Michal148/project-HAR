{
 "cells": [
  {
   "cell_type": "code",
   "execution_count": 11,
   "metadata": {},
   "outputs": [
    {
     "name": "stdout",
     "output_type": "stream",
     "text": [
      "Epoch 1/10\n",
      "397/397 [==============================] - 11s 27ms/step - loss: 1.7502 - accuracy: 0.3322\n",
      "Epoch 2/10\n",
      "397/397 [==============================] - 10s 25ms/step - loss: 1.3004 - accuracy: 0.4907\n",
      "Epoch 3/10\n",
      "397/397 [==============================] - 10s 25ms/step - loss: 1.1263 - accuracy: 0.5570\n",
      "Epoch 4/10\n",
      "397/397 [==============================] - 9s 23ms/step - loss: 1.0134 - accuracy: 0.6077\n",
      "Epoch 5/10\n",
      "397/397 [==============================] - 9s 23ms/step - loss: 0.9613 - accuracy: 0.6153\n",
      "Epoch 6/10\n",
      "397/397 [==============================] - 9s 23ms/step - loss: 0.8758 - accuracy: 0.6488\n",
      "Epoch 7/10\n",
      "397/397 [==============================] - 9s 23ms/step - loss: 0.8062 - accuracy: 0.6723\n",
      "Epoch 8/10\n",
      "397/397 [==============================] - 9s 23ms/step - loss: 0.7798 - accuracy: 0.6963\n",
      "Epoch 9/10\n",
      "397/397 [==============================] - 9s 23ms/step - loss: 0.7292 - accuracy: 0.7159\n",
      "Epoch 10/10\n",
      "397/397 [==============================] - 9s 23ms/step - loss: 0.6744 - accuracy: 0.7369\n",
      "31/31 [==============================] - 0s 14ms/step - loss: 0.7345 - accuracy: 0.7218\n",
      "Accuracy: 72.18%\n"
     ]
    }
   ],
   "source": [
    "import pandas as pd\n",
    "import numpy as np\n",
    "from sklearn.model_selection import train_test_split\n",
    "from keras.models import Sequential\n",
    "from keras.layers import LSTM, Dense, Input, Dropout\n",
    "from sklearn.preprocessing import LabelEncoder\n",
    "\n",
    "# load your dataframe\n",
    "df = pd.read_csv('merged_data.csv').drop(columns=['name'])\n",
    "le = LabelEncoder()\n",
    "\n",
    "from sklearn.preprocessing import LabelBinarizer\n",
    "encoder = LabelBinarizer()\n",
    "y = encoder.fit_transform(df['activity'])\n",
    "\n",
    "# df['activity'] = le.fit_transform(df['activity'])\n",
    "# y = df['activity']\n",
    "X = df.drop(['activity'], axis=1)\n",
    "X_train, X_test, y_train, y_test = train_test_split(X, y, test_size=0.2)\n",
    "X_test = X_test.iloc[:, :-1].values\n",
    "X_train = X_train.iloc[:, :-1].values\n",
    "X_test = np.array(X_test).reshape(X_test.shape[0], X_test.shape[1], 1)\n",
    "X_train = np.array(X_train).reshape(X_train.shape[0], X_train.shape[1], 1)\n",
    "model = Sequential()\n",
    "model.add(LSTM(100, input_shape=(114, 1)))\n",
    "model.add(Dropout(0.2))\n",
    "model.add(Dense(100))\n",
    "model.add(Dense(8, activation='softmax'))\n",
    "\n",
    "model.compile(loss='categorical_crossentropy', optimizer='adam', metrics=['accuracy'])\n",
    "model.fit(X_train, y_train, epochs=10, batch_size=10)\n",
    "\n",
    "loss, accuracy = model.evaluate(X_test, y_test)\n",
    "print('Accuracy: {:.2f}%'.format(accuracy * 100))\n"
   ]
  }
 ],
 "metadata": {
  "kernelspec": {
   "display_name": "Python 3 (ipykernel)",
   "language": "python",
   "name": "python3"
  },
  "language_info": {
   "codemirror_mode": {
    "name": "ipython",
    "version": 3
   },
   "file_extension": ".py",
   "mimetype": "text/x-python",
   "name": "python",
   "nbconvert_exporter": "python",
   "pygments_lexer": "ipython3",
   "version": "3.8.12"
  }
 },
 "nbformat": 4,
 "nbformat_minor": 2
}
