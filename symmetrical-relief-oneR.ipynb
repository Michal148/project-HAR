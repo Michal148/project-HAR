{
 "cells": [
  {
   "cell_type": "code",
   "execution_count": 1,
   "metadata": {},
   "outputs": [],
   "source": [
    "import pandas as pd\n",
    "\n",
    "data = pd.read_csv('merged_data.csv').drop(columns=['name'], axis=1).dropna()\n",
    "X = data.drop(columns=['activity'], axis=1)\n",
    "y = data['activity']\n"
   ]
  },
  {
   "attachments": {},
   "cell_type": "markdown",
   "metadata": {},
   "source": [
    "## RelieF"
   ]
  },
  {
   "cell_type": "code",
   "execution_count": 3,
   "metadata": {},
   "outputs": [
    {
     "data": {
      "text/plain": "{'acc_x_mpf1': 1.8253675726928618,\n 'acc_y_mpf1': 1.7437167641185711,\n 'acc_z_mpf1': 1.2685883695658873,\n 'acc_x_iqr': 2.299401197604791,\n 'acc_y_iqr': 2.560878243512974,\n 'acc_z_iqr': 1.5748502994011975,\n 'acc_x_wilson_amp': 59.46,\n 'acc_y_wilson_amp': 51.48,\n 'acc_z_wilson_amp': 61.52,\n 'acc_x_crossco': 200902.5077725391,\n 'acc_y_crossco': 613720.4750072868,\n 'acc_z_crossco': 278202.52855451277,\n 'acc_x_three_quarters': 2.5389221556886223,\n 'acc_y_three_quarters': 2.758483033932136,\n 'acc_z_three_quarters': 1.7764471057884235,\n 'acc_x_one_quarter': 0.43512974051896214,\n 'acc_y_one_quarter': 0.46506986027944114,\n 'acc_z_one_quarter': 0.4570858283433134,\n 'acc_x_corecoef': 0.40722257293250425,\n 'acc_y_corecoef': 0.5765557028248463,\n 'acc_z_corecoef': 0.4603167380456739,\n 'acc_mpf': 7.251566771442257,\n 'acc_x_slope_change': 5.33,\n 'acc_y_slope_change': 5.16,\n 'acc_z_slope_change': 6.3,\n 'acc_x_rms': 5.594616869651346,\n 'acc_y_rms': 3.1137423258590866,\n 'acc_z_rms': 6.521787151324162,\n 'acc_x_stdev': 72.27576871906054,\n 'acc_y_stdev': 33.94199269958821,\n 'acc_z_stdev': 23.784527865191205,\n 'acc_x_mean': 5.412309230217178,\n 'acc_y_mean': 3.1088312642629985,\n 'acc_z_mean': 6.6026747344736805,\n 'acc_x_mad': 2.7691461570670675,\n 'acc_y_mad': 1.3524104195689786,\n 'acc_z_mad': 1.4330944078017627,\n 'acc_x_zerocr': 5.33,\n 'acc_y_zerocr': 5.16,\n 'acc_z_zerocr': 6.3,\n 'acc_x_wf': 52.969853191100725,\n 'acc_y_wf': 39.82025110778523,\n 'acc_z_wf': 50.63582862807485,\n 'acc_x_mav': 2780.001026392205,\n 'acc_y_mav': 1469.8128782524445,\n 'acc_z_mav': 3286.986517616649,\n 'acc_x_p2p': 11.457895723223812,\n 'acc_y_p2p': 8.849460489633325,\n 'acc_z_p2p': 7.4794822098532165,\n 'acc_x_median_frequency': 2.03,\n 'acc_y_median_frequency': 3.06,\n 'acc_z_median_frequency': 2.5,\n 'acc_x_entropy': 2.767054613013631e-05,\n 'acc_y_entropy': 0.0,\n 'acc_z_entropy': 5.534109226027262e-05,\n 'acc_x_kurtosis_t': 1.554239756988482,\n 'acc_y_kurtosis_t': 1.9140913546202876,\n 'acc_z_kurtosis_t': 1.8134142387781902,\n 'acc_x_kurtosis_f': 47.75618421271448,\n 'acc_y_kurtosis_f': 48.29470552496583,\n 'acc_z_kurtosis_f': 31.113764969852944,\n 'acc_x_skewness_t': 0.728883467641031,\n 'acc_y_skewness_t': 0.7661629779888607,\n 'acc_z_skewness_t': 0.6844395239313609,\n 'acc_x_skewness_f': 1.7954701467015584,\n 'acc_y_skewness_f': 1.8152922257001334,\n 'acc_z_skewness_f': 1.2891462508439988,\n 'acc_x_top3': 3.88,\n 'acc_y_top3': 6.14,\n 'acc_z_top3': 13.56,\n 'acc_x_autoregyw_1': 0.5850832494198775,\n 'acc_x_autoregyw_2': 1.0745962654405266,\n 'acc_x_autoregyw_3': 0.9127775704671219,\n 'acc_x_autoregyw_4': 0.4021456791677447,\n 'acc_y_autoregyw_1': 0.4538278028171615,\n 'acc_y_autoregyw_2': 0.664789667804611,\n 'acc_y_autoregyw_3': 0.5547212113735558,\n 'acc_y_autoregyw_4': 0.3202955549006926,\n 'acc_z_autoregyw_1': 1.5256548005173858,\n 'acc_z_autoregyw_2': 1.740375232285674,\n 'acc_z_autoregyw_3': 1.672604722533542,\n 'acc_z_autoregyw_4': 1.3540359723721271,\n 'acc_x_autoregburg_1': 0.3698412196403089,\n 'acc_x_autoregburg_2': 0.4783351427568483,\n 'acc_x_autoregburg_3': 0.33956864146522825,\n 'acc_x_autoregburg_4': 0.17949704921063414,\n 'acc_y_autoregburg_1': 0.3513253420412478,\n 'acc_y_autoregburg_2': 0.4632417615902839,\n 'acc_y_autoregburg_3': 0.34135025126777324,\n 'acc_y_autoregburg_4': 0.16489767647199646,\n 'acc_z_autoregburg_1': 0.3816578292186691,\n 'acc_z_autoregburg_2': 0.4635360768440453,\n 'acc_z_autoregburg_3': 0.34341856118335706,\n 'acc_z_autoregburg_4': 0.15233164537322508,\n 'acc_z_enwacto_1': 4.0013282487703155,\n 'acc_z_enwacto_2': 0.5360009861782146,\n 'acc_z_enwacto_3': 0.2223077720847394,\n 'acc_z_enwacto_4': 0.07241855996366571,\n 'acc_z_enwacto_5': 0.03310705408033687,\n 'acc_z_enwacto_6': 0.014785922785109016,\n 'acc_z_enwacto_7': 0.00570767213439721,\n 'acc_y_enwacto_1': 2.5687230752417265,\n 'acc_y_enwacto_2': 0.40696629731342104,\n 'acc_y_enwacto_3': 0.17900201563626797,\n 'acc_y_enwacto_4': 0.05458815516281473,\n 'acc_y_enwacto_5': 0.031060907521986474,\n 'acc_y_enwacto_6': 0.016514306644404647,\n 'acc_y_enwacto_7': 0.0067918239157431035,\n 'acc_x_enwacto_1': 3.8997211240844747,\n 'acc_x_enwacto_2': 0.5236043631589489,\n 'acc_x_enwacto_3': 0.19032259583357444,\n 'acc_x_enwacto_4': 0.08529758463055911,\n 'acc_x_enwacto_5': 0.03395806533316809,\n 'acc_x_enwacto_6': 0.010337370996192802,\n 'acc_x_enwacto_7': 0.007066312048656606}"
     },
     "execution_count": 3,
     "metadata": {},
     "output_type": "execute_result"
    }
   ],
   "source": [
    "import sklearn_relief as relief\n",
    "import numpy as np\n",
    "\n",
    "# Load some data and put it in a numpy.array matrix\n",
    "my_input_matrix = np.array(X)\n",
    "\n",
    "# Load the label vector\n",
    "my_label_vector = np.array(y)\n",
    "\n",
    "r = relief.Relief(\n",
    "    n_features=5 # Choose the best 3 features\n",
    ") # Will run by default on all processors concurrently\n",
    "\n",
    "my_transformed_matrix = r.fit_transform(\n",
    "    my_input_matrix,\n",
    "    my_label_vector\n",
    ")\n",
    "\n",
    "# my_transformed_matrix will now contain the 3 highest-ranked feature\n",
    "# vectors from my_input_matrix.\n",
    "\n",
    "# If you are interested in the computed weights, print them with\n",
    "# print(r.w_) # Each i-th weight will be the weight of the i-th feature\n",
    "empty = {}\n",
    "i = 0\n",
    "for col in X.columns:\n",
    "    empty[col] = r.w_[i]\n",
    "    i += 1\n",
    "\n",
    "empty"
   ]
  },
  {
   "attachments": {},
   "cell_type": "markdown",
   "metadata": {},
   "source": [
    "## One-R"
   ]
  },
  {
   "cell_type": "code",
   "execution_count": 4,
   "metadata": {},
   "outputs": [
    {
     "name": "stdout",
     "output_type": "stream",
     "text": [
      "Index(['acc_x_wilson_amp', 'acc_y_wilson_amp', 'acc_z_wilson_amp',\n",
      "       'acc_x_one_quarter', 'acc_y_stdev', 'acc_x_mad', 'acc_y_mad',\n",
      "       'acc_z_mad', 'acc_x_wf', 'acc_y_wf', 'acc_z_wf', 'acc_x_p2p',\n",
      "       'acc_y_p2p', 'acc_z_p2p', 'acc_x_median_frequency', 'acc_x_kurtosis_f',\n",
      "       'acc_x_skewness_f', 'acc_x_autoregburg_1', 'acc_x_autoregburg_2',\n",
      "       'acc_x_autoregburg_3', 'acc_x_autoregburg_4', 'acc_y_autoregburg_1',\n",
      "       'acc_y_autoregburg_2', 'acc_y_autoregburg_3', 'acc_z_autoregburg_1',\n",
      "       'acc_z_autoregburg_2', 'acc_z_autoregburg_3', 'acc_z_enwacto_2',\n",
      "       'acc_z_enwacto_3', 'acc_z_enwacto_4', 'acc_z_enwacto_5',\n",
      "       'acc_z_enwacto_6', 'acc_y_enwacto_3', 'acc_y_enwacto_4',\n",
      "       'acc_y_enwacto_5', 'acc_x_enwacto_2', 'acc_x_enwacto_3',\n",
      "       'acc_x_enwacto_4', 'acc_x_enwacto_5', 'acc_x_enwacto_6'],\n",
      "      dtype='object')\n"
     ]
    }
   ],
   "source": [
    "import pandas as pd\n",
    "from sklearn.feature_selection import SelectKBest\n",
    "from sklearn.feature_selection import f_classif\n",
    "from sklearn.tree import DecisionTreeClassifier\n",
    "from sklearn.model_selection import train_test_split\n",
    "from sklearn.metrics import accuracy_score\n",
    "\n",
    "# Load the data from the CSV file\n",
    "data = pd.read_csv('merged_data.csv')\n",
    "\n",
    "# Drop the 'name' column\n",
    "data.drop('name', axis=1, inplace=True)\n",
    "\n",
    "# Split the data into features (X) and labels (y)\n",
    "X = data.drop('activity', axis=1)\n",
    "y = data['activity']\n",
    "\n",
    "# Split the data into training and testing sets\n",
    "X_train, X_test, y_train, y_test = train_test_split(X, y, test_size=0.3, random_state=42)\n",
    "\n",
    "# Perform feature selection using the One-R method\n",
    "selector = SelectKBest(score_func=f_classif, k=40)\n",
    "selector.fit(X_train, y_train)\n",
    "selected_features = X_train.columns[selector.get_support()]\n",
    "print(selected_features)"
   ]
  },
  {
   "attachments": {},
   "cell_type": "markdown",
   "metadata": {},
   "source": [
    "## Symmetrical Uncertainity"
   ]
  },
  {
   "cell_type": "code",
   "execution_count": 5,
   "metadata": {},
   "outputs": [
    {
     "name": "stdout",
     "output_type": "stream",
     "text": [
      "Index(['acc_x_wilson_amp', 'acc_y_wilson_amp', 'acc_z_wilson_amp',\n",
      "       'acc_x_crossco', 'acc_y_crossco', 'acc_z_crossco', 'acc_mpf',\n",
      "       'acc_x_rms', 'acc_y_rms', 'acc_z_rms', 'acc_x_stdev', 'acc_y_stdev',\n",
      "       'acc_z_stdev', 'acc_x_mean', 'acc_y_mean', 'acc_z_mean', 'acc_x_mad',\n",
      "       'acc_y_mad', 'acc_z_mad', 'acc_x_wf', 'acc_y_wf', 'acc_z_wf',\n",
      "       'acc_x_mav', 'acc_y_mav', 'acc_z_mav', 'acc_x_p2p', 'acc_y_p2p',\n",
      "       'acc_z_p2p', 'acc_x_kurtosis_f', 'acc_y_kurtosis_f', 'acc_z_kurtosis_f',\n",
      "       'acc_x_skewness_f', 'acc_y_skewness_f', 'acc_z_skewness_f',\n",
      "       'acc_x_top3', 'acc_z_enwacto_1', 'acc_z_enwacto_2', 'acc_y_enwacto_1',\n",
      "       'acc_x_enwacto_1', 'acc_x_enwacto_2'],\n",
      "      dtype='object')\n"
     ]
    }
   ],
   "source": [
    "import pandas as pd\n",
    "from sklearn.feature_selection import SelectKBest, mutual_info_classif\n",
    "\n",
    "# Load the merged data\n",
    "data = pd.read_csv('merged_data.csv')\n",
    "\n",
    "# Separate the features and labels\n",
    "X = data.drop(['name', 'activity'], axis=1) # Drop the 'name' column and use all other columns as features\n",
    "y = data['activity'] # Use the 'activity' column as the label\n",
    "\n",
    "# Use the SelectKBest function with mutual information as the scoring metric\n",
    "kbest = SelectKBest(score_func=mutual_info_classif, k=40) # Select the top 10 features\n",
    "kbest.fit(X, y)\n",
    "\n",
    "# Print the selected features\n",
    "features = X.columns[kbest.get_support()]\n",
    "print(features)\n"
   ]
  },
  {
   "attachments": {},
   "cell_type": "markdown",
   "metadata": {},
   "source": [
    "## MRMR"
   ]
  },
  {
   "cell_type": "code",
   "execution_count": 60,
   "metadata": {},
   "outputs": [
    {
     "ename": "MemoryError",
     "evalue": "bad array new length",
     "output_type": "error",
     "traceback": [
      "\u001B[1;31m---------------------------------------------------------------------------\u001B[0m",
      "\u001B[1;31mMemoryError\u001B[0m                               Traceback (most recent call last)",
      "\u001B[1;32mc:\\Users\\Kasper Kornak\\Desktop\\TabPFN\\symmetrical-relief-oneR.ipynb Cell 9\u001B[0m in \u001B[0;36m<cell line: 13>\u001B[1;34m()\u001B[0m\n\u001B[0;32m     <a href='vscode-notebook-cell:/c%3A/Users/Kasper%20Kornak/Desktop/TabPFN/symmetrical-relief-oneR.ipynb#X10sZmlsZQ%3D%3D?line=9'>10</a>\u001B[0m activity_col \u001B[39m=\u001B[39m data\u001B[39m.\u001B[39mpop(\u001B[39m'\u001B[39m\u001B[39mactivity\u001B[39m\u001B[39m'\u001B[39m)\n\u001B[0;32m     <a href='vscode-notebook-cell:/c%3A/Users/Kasper%20Kornak/Desktop/TabPFN/symmetrical-relief-oneR.ipynb#X10sZmlsZQ%3D%3D?line=10'>11</a>\u001B[0m data\u001B[39m.\u001B[39minsert(\u001B[39m0\u001B[39m, \u001B[39m'\u001B[39m\u001B[39mactivity\u001B[39m\u001B[39m'\u001B[39m, activity_col)\n\u001B[1;32m---> <a href='vscode-notebook-cell:/c%3A/Users/Kasper%20Kornak/Desktop/TabPFN/symmetrical-relief-oneR.ipynb#X10sZmlsZQ%3D%3D?line=12'>13</a>\u001B[0m pymrmr\u001B[39m.\u001B[39;49mmRMR(data, \u001B[39m'\u001B[39;49m\u001B[39mMID\u001B[39;49m\u001B[39m'\u001B[39;49m, \u001B[39m50\u001B[39;49m)\n",
      "File \u001B[1;32mc:\\Users\\Kasper Kornak\\AppData\\Local\\Programs\\Python\\Python310\\lib\\site-packages\\pymrmr\\pymrmr.pyx:26\u001B[0m, in \u001B[0;36mpymrmr.mRMR\u001B[1;34m()\u001B[0m\n",
      "\u001B[1;31mMemoryError\u001B[0m: bad array new length"
     ]
    }
   ],
   "source": [
    "import pymrmr\n",
    "from sklearn.preprocessing import LabelEncoder\n",
    "data = pd.read_csv('merged_data.csv').drop(columns=['name'], axis=1).dropna()\n",
    "\n",
    "\n",
    "le = LabelEncoder()\n",
    "le.fit(data['activity'])\n",
    "data['activity'] = le.transform(data['activity'])\n",
    "\n",
    "activity_col = data.pop('activity')\n",
    "data.insert(0, 'activity', activity_col)\n",
    "\n",
    "pymrmr.mRMR(data, 'MID', 50)"
   ]
  }
 ],
 "metadata": {
  "kernelspec": {
   "display_name": "Python 3",
   "language": "python",
   "name": "python3"
  },
  "language_info": {
   "codemirror_mode": {
    "name": "ipython",
    "version": 3
   },
   "file_extension": ".py",
   "mimetype": "text/x-python",
   "name": "python",
   "nbconvert_exporter": "python",
   "pygments_lexer": "ipython3",
   "version": "3.10.5"
  },
  "orig_nbformat": 4
 },
 "nbformat": 4,
 "nbformat_minor": 2
}
