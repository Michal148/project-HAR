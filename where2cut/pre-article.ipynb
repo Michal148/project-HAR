{
 "cells": [
  {
   "cell_type": "code",
   "execution_count": 1,
   "outputs": [],
   "source": [
    "import pandas as pd\n",
    "import os\n",
    "import matplotlib.pyplot as plt\n",
    "from sklearn.metrics import precision_recall_fscore_support"
   ],
   "metadata": {
    "collapsed": false
   }
  },
  {
   "cell_type": "code",
   "execution_count": 2,
   "outputs": [],
   "source": [
    "def split_dataframe_to_windows(df, window_length, p1, p2):\n",
    "    windows = []\n",
    "    start = 0\n",
    "    end = 0\n",
    "    windows_label = []\n",
    "    window_times = []\n",
    "    while end < len(df) - 1:\n",
    "        end = start\n",
    "        while end < len(df) and df.iloc[end]['time'] - df.iloc[start]['time'] < window_length:\n",
    "            end += 1\n",
    "        window = df.iloc[start:end]\n",
    "        if end != len(df) or df.iloc[end-1]['time'] - df.iloc[start]['time'] >= window_length:\n",
    "            windows.append(window)\n",
    "            window_times.append([df.iloc[start]['time'], df.iloc[end-1]['time']])\n",
    "            if df.iloc[start]['time'] < float(p1):\n",
    "                windows_label.append(0)\n",
    "            elif df.iloc[end]['time'] > float(p2):\n",
    "                windows_label.append(0)\n",
    "            else:\n",
    "                windows_label.append(1)\n",
    "        start = end\n",
    "\n",
    "    return windows, windows_label, window_times"
   ],
   "metadata": {
    "collapsed": false
   }
  },
  {
   "cell_type": "code",
   "execution_count": 3,
   "outputs": [],
   "source": [
    "def calculate_rise_fall_times(windows):\n",
    "    rise_times_list = []\n",
    "    fall_times_list = []\n",
    "    for window in windows:\n",
    "        rise_times = {'r_x': 0, 'r_y': 0, 'r_z': 0, 'r_mag': 0}\n",
    "        fall_times = {'f_x': 0, 'f_y': 0, 'f_z': 0, 'f_mag': 0}\n",
    "        for column in ['x', 'y', 'z', 'mag']:\n",
    "            for i in range(1, len(window)):\n",
    "                if window.iloc[i][column] > window.iloc[i-1][column]:\n",
    "                    rise_times[\"r_\"+column] += abs(window.iloc[i]['time'] - window.iloc[i-1]['time'])\n",
    "                elif window.iloc[i][column] < window.iloc[i-1][column]:\n",
    "                    fall_times[\"f_\"+column] += abs(window.iloc[i]['time'] - window.iloc[i-1]['time'])\n",
    "        rise_times_list.append(rise_times)\n",
    "        fall_times_list.append(fall_times)\n",
    "\n",
    "    return rise_times_list, fall_times_list"
   ],
   "metadata": {
    "collapsed": false
   }
  },
  {
   "cell_type": "code",
   "execution_count": 4,
   "outputs": [],
   "source": [
    "def calculate_rise_fall_times_optimized(windows):\n",
    "    rise_times_list = []\n",
    "    fall_times_list = []\n",
    "    time_step = 0.01\n",
    "    for window in windows:\n",
    "        rise_times = {'r_x': 0, 'r_y': 0, 'r_z': 0, 'r_mag': 0}\n",
    "        fall_times = {'f_x': 0, 'f_y': 0, 'f_z': 0, 'f_mag': 0}\n",
    "\n",
    "        for i in range(1, len(window)):\n",
    "            prev_row = window.iloc[i - 1]\n",
    "            curr_row = window.iloc[i]\n",
    "\n",
    "            for column in ['x', 'y', 'z', 'mag']:\n",
    "                if curr_row[column] > prev_row[column]:\n",
    "                    rise_times[\"r_\"+column] += time_step\n",
    "                elif curr_row[column] < prev_row[column]:\n",
    "                    fall_times[\"f_\"+column] += time_step\n",
    "        rise_times_list.append(rise_times)\n",
    "        fall_times_list.append(fall_times)\n",
    "\n",
    "    return rise_times_list, fall_times_list\n"
   ],
   "metadata": {
    "collapsed": false
   }
  },
  {
   "cell_type": "code",
   "execution_count": 23,
   "outputs": [],
   "source": [
    "import scipy.stats as stat\n",
    "def calculate_statistics(windows):\n",
    "    statistics_list = []\n",
    "\n",
    "    for window in windows:\n",
    "        stats = {}\n",
    "        for column in ['x', 'y', 'z', 'mag']:\n",
    "            series = window[column]\n",
    "            stats[column + '_mean'] = np.mean(series)\n",
    "            stats[column + '_median'] = np.median(series)\n",
    "            stats[column + '_std'] = np.std(series)\n",
    "            stats[column + '_var'] = np.var(series)\n",
    "            stats[column + '_min'] = np.min(series)\n",
    "            stats[column + '_max'] = np.max(series)\n",
    "            stats[column + '_range'] = np.ptp(series)\n",
    "            stats[column + '_skew'] = stat.skew(series)\n",
    "            stats[column + '_kurtosis'] = stat.kurtosis(series)\n",
    "            stats[column + '_q1'] = np.percentile(series, 25)\n",
    "            stats[column + '_q3'] = np.percentile(series, 75)\n",
    "            stats[column + '_iqr'] = stat.iqr(series)\n",
    "        statistics_list.append(stats)\n",
    "\n",
    "    return statistics_list"
   ],
   "metadata": {
    "collapsed": false
   }
  },
  {
   "cell_type": "code",
   "execution_count": 27,
   "outputs": [],
   "source": [
    "def calculate_statistics_selected(windows):\n",
    "    statistics_list = []\n",
    "\n",
    "    for window in windows:\n",
    "        stats = {}\n",
    "        for column in ['x', 'y', 'z']:\n",
    "            series = window[column]\n",
    "            stats[column + '_mean'] = np.mean(series)\n",
    "            stats[column + '_median'] = np.median(series)\n",
    "            stats[column + '_std'] = np.std(series)\n",
    "            stats[column + '_var'] = np.var(series)\n",
    "            stats[column + '_min'] = np.min(series)\n",
    "            stats[column + '_max'] = np.max(series)\n",
    "            stats[column + '_range'] = np.ptp(series)\n",
    "            stats[column + '_q1'] = np.percentile(series, 25)\n",
    "            stats[column + '_q3'] = np.percentile(series, 75)\n",
    "            stats[column + '_iqr'] = stat.iqr(series)\n",
    "        statistics_list.append(stats)\n",
    "\n",
    "    return statistics_list"
   ],
   "metadata": {
    "collapsed": false
   }
  },
  {
   "cell_type": "code",
   "execution_count": 6,
   "outputs": [],
   "source": [
    "def duration_above_below_ma(windows):\n",
    "    above_times_list = []\n",
    "    below_times_list = []\n",
    "    time_step = 0.01\n",
    "    ma_window = 5\n",
    "    for window in windows:\n",
    "        above_times = {'a_x': 0, 'a_y': 0, 'a_z': 0, 'a_mag': 0}\n",
    "        below_times = {'b_x': 0, 'b_y': 0, 'b_z': 0, 'b_mag': 0}\n",
    "\n",
    "        for column in ['x', 'y', 'z', 'mag']:\n",
    "            ma = window[column].rolling(window=ma_window).mean()\n",
    "            for i in range(ma_window, len(window)):\n",
    "                if window.iloc[i][column] > ma.iloc[i]:\n",
    "                    above_times[\"a_\"+column] += time_step\n",
    "                elif window.iloc[i][column] < ma.iloc[i]:\n",
    "                    below_times[\"b_\"+column] += time_step\n",
    "        above_times_list.append(above_times)\n",
    "        below_times_list.append(below_times)\n",
    "\n",
    "    return above_times_list, below_times_list"
   ],
   "metadata": {
    "collapsed": false
   }
  },
  {
   "cell_type": "code",
   "execution_count": 7,
   "outputs": [],
   "source": [
    "import numpy as np\n",
    "def calculate_rise_fall_times_optimized_v3(windows):\n",
    "\n",
    "    time_step = 0.01\n",
    "    rise_times_list = []\n",
    "    fall_times_list = []\n",
    "    time_step = 0.01\n",
    "    for window in windows:\n",
    "        window_np = window.to_numpy()\n",
    "        derivatives = np.diff(window_np, axis=0)\n",
    "        rise_times = {'r_x': 0, 'r_y': 0, 'r_z': 0, 'r_mag': 0}\n",
    "        fall_times = {'f_x': 0, 'f_y': 0, 'f_z': 0, 'f_mag': 0}\n",
    "        for i in range(derivatives.shape[0]):\n",
    "            for idx, column in enumerate(['x', 'y', 'z']): # moze add mag\n",
    "                if derivatives[i, idx] > 0:\n",
    "                    rise_times[\"r_\"+column] += time_step\n",
    "                elif derivatives[i, idx] < 0:\n",
    "                    fall_times[\"f_\"+column] += time_step\n",
    "        rise_times_list.append(rise_times)\n",
    "        fall_times_list.append(fall_times)\n",
    "\n",
    "    return rise_times_list, fall_times_list\n"
   ],
   "metadata": {
    "collapsed": false
   }
  },
  {
   "cell_type": "code",
   "execution_count": 8,
   "outputs": [],
   "source": [
    "# function for setting train data\n",
    "def get_indexes(window_times, labels, safe_length_side, safe_length_middle):\n",
    "    indexes = []\n",
    "    middle_part = round(len(window_times)/2)\n",
    "    middle_sec = (window_times[middle_part][0] + window_times[middle_part][1])/2\n",
    "    for i, row in enumerate(window_times):\n",
    "        if (row[1] <= safe_length_side) and labels[i]==0:\n",
    "            indexes.append(i)\n",
    "        elif (row[0] >= (window_times[-1][0] - safe_length_side)) and labels[i]==0:\n",
    "            indexes.append(i)\n",
    "        elif (row[0] >= (middle_sec - safe_length_middle)) and (row[1] <= (middle_sec + safe_length_middle)) and labels[i]==1:\n",
    "            indexes.append(i)\n",
    "    return indexes"
   ],
   "metadata": {
    "collapsed": false
   }
  },
  {
   "cell_type": "code",
   "execution_count": 9,
   "outputs": [],
   "source": [
    "def modify_list(input_list):\n",
    "    first_one = input_list.index(1)\n",
    "    last_one = len(input_list) - 1 - input_list[::-1].index(1)\n",
    "    modified_list = input_list.copy()\n",
    "    for i in range(first_one, last_one + 1):\n",
    "        modified_list[i] = 1\n",
    "    return modified_list"
   ],
   "metadata": {
    "collapsed": false
   }
  },
  {
   "cell_type": "code",
   "execution_count": 10,
   "outputs": [],
   "source": [
    "def modify_list2(input_list):\n",
    "    first_one = input_list.index(1)\n",
    "    last_one = len(input_list) - 1 - input_list[::-1].index(1)\n",
    "    modified_list = input_list.copy()\n",
    "    modified_list[first_one] = 0\n",
    "    modified_list[last_one] = 0\n",
    "    return modified_list"
   ],
   "metadata": {
    "collapsed": false
   }
  },
  {
   "cell_type": "code",
   "execution_count": 11,
   "outputs": [
    {
     "name": "stdout",
     "output_type": "stream",
     "text": [
      "['InterpolationAccelerometerMichalWalking17.csv', 'InterpolationAccelerometerMichalWalking16.csv', 'InterpolationAccelerometerMichalWalking15.csv', 'InterpolationAccelerometerMichalWalking14.csv', 'InterpolationAccelerometerMichalWalking13.csv', 'InterpolationAccelerometerMichalWalking9.csv', 'InterpolationAccelerometerMichalWalking.csv', 'InterpolationAccelerometerMichalWalking20.csv', 'InterpolationAccelerometerMichalWalking19.csv', 'InterpolationAccelerometerMichalWalking18.csv', 'InterpolationAccelerometerMichalWalking12.csv', 'InterpolationAccelerometerMichalWalking11.csv', 'InterpolationAccelerometerMichalWalking10.csv', 'InterpolationAccelerometerMichalWalking8.csv', 'InterpolationAccelerometerMichalWalking7.csv', 'InterpolationAccelerometerMichalWalking6.csv', 'InterpolationAccelerometerMichalWalking6.csv', 'InterpolationAccelerometerMichalWalking4.csv', 'InterpolationAccelerometerMichalWalking2.csv']\n"
     ]
    }
   ],
   "source": [
    "list1 = pd.read_csv('corrupted_signals.csv', sep=';', decimal=\",\").iloc[:,0].values.tolist()\n",
    "list2 = pd.read_csv('inside_startend_points.csv', sep=';', decimal=\",\").drop([\"p1\",\"p2\"], axis=1).iloc[:,0].values.tolist()\n",
    "files_drop = list1 + list2\n",
    "print(files_drop)"
   ],
   "metadata": {
    "collapsed": false
   }
  },
  {
   "cell_type": "code",
   "execution_count": 12,
   "outputs": [],
   "source": [
    "from sklearn.svm import LinearSVC, SVC\n",
    "from sklearn.ensemble import RandomForestClassifier\n",
    "from sklearn.neighbors import KNeighborsClassifier\n",
    "from sklearn.naive_bayes import GaussianNB\n",
    "from sklearn.tree import DecisionTreeClassifier\n",
    "from sklearn.linear_model import LogisticRegression\n",
    "from sklearn.metrics import classification_report, accuracy_score\n",
    "lista_modeli =[\n",
    "    [GaussianNB(), \"NB_default\"],\n",
    "    [LogisticRegression(), \"Logistic_Regression\"],\n",
    "    [DecisionTreeClassifier(criterion='gini'), \"Decision_Tree_Gini\"],\n",
    "    [DecisionTreeClassifier(criterion='entropy'), \"Decision_Tree_entropy\"],\n",
    "    # [LinearSVC(random_state=42, tol=1e-5, class_weight={0:0.9, 1:0.1}), \"LinearSVC_default\"],\n",
    "    [SVC(kernel='poly', degree=5, probability=False, class_weight={0:0.9, 1:0.1}), \"SVC_p5\"],\n",
    "    [SVC(kernel='poly', degree=4, probability=False, class_weight={0:0.9, 1:0.1}), \"SVC_p4\"],\n",
    "    [SVC(kernel='poly', degree=3, probability=False, class_weight={0:0.9, 1:0.1}), \"SVC_p3\"],\n",
    "    [SVC(C=0.00001, kernel='poly', degree=5, probability=False, class_weight={0:0.9, 1:0.1}), \"SVC_optimized\"],\n",
    "    [RandomForestClassifier(class_weight={0:0.9, 1:0.1}), \"RF_default\"],\n",
    "    [KNeighborsClassifier(n_neighbors=1), \"knn_1\"],\n",
    "    [KNeighborsClassifier(n_neighbors=1), \"knn_2\"],\n",
    "    [KNeighborsClassifier(n_neighbors=1), \"knn_3\"],\n",
    "    [KNeighborsClassifier(n_neighbors=1), \"knn_4\"],\n",
    "]"
   ],
   "metadata": {
    "collapsed": false
   }
  },
  {
   "cell_type": "code",
   "execution_count": 28,
   "outputs": [
    {
     "name": "stdout",
     "output_type": "stream",
     "text": [
      "NB_default\n",
      "filename: InterpolationAccelerometerKubaDownstairs3Apple.csv p1: 3.4 p2: 75.0\n",
      "filename: InterpolationAccelerometerKubaDownstairs2Apple.csv p1: 4.0 p2: 69.0\n",
      "filename: InterpolationAccelerometerKubaSquatsApple.csv p1: 3.8 p2: 124.0\n",
      "filename: InterpolationAccelerometerKubaSittingApple.csv p1: 4.8 p2: 332.0\n",
      "filename: InterpolationAccelerometerKubaSquats2Apple.csv p1: 7.6 p2: 132.3\n",
      "filename: InterpolationAccelerometerKubaSquats3Apple.csv p1: 3.9 p2: 126.1\n",
      "filename: InterpolationAccelerometerKubaStanding2Apple.csv p1: 3.2 p2: 127.6\n",
      "filename: InterpolationAccelerometerKubaStanding3Apple.csv p1: 5.0 p2: 125.0\n",
      "filename: InterpolationAccelerometerKubaWalking2Apple.csv p1: 4.6 p2: 579.6\n",
      "filename: InterpolationAccelerometerKubaDownstairsApple.csv p1: 10.4 p2: 71.5\n",
      "filename: InterpolationAccelerometerKubaSitting2Apple.csv p1: 4.7 p2: 295.3\n",
      "filename: InterpolationAccelerometerKubaUpstairsApple.csv p1: 3.3 p2: 67.0\n",
      "filename: InterpolationAccelerometerKubaWalkingApple.csv p1: 3.5 p2: 340.2\n",
      "filename: InterpolationAccelerometerKubaStandingApple.csv p1: 3.3 p2: 124.5\n",
      "filename: InterpolationAccelerometerKubaUpstairs2Apple.csv p1: 3.3 p2: 81.6\n",
      "filename: InterpolationAccelerometerKubaLying3Apple.csv p1: 8.6 p2: 233.5\n",
      "filename: InterpolationAccelerometerKubaLying2Apple.csv p1: 4.0 p2: 96.2\n",
      "filename: InterpolationAccelerometerKubaLyingApple.csv p1: 5.0 p2: 164.1\n",
      "filename: InterpolationAccelerometerKasperDownstairsApple.csv p1: 0.5 p2: 85.8\n",
      "filename: InterpolationAccelerometerKasperSittingApple.csv p1: 15.2 p2: 227.6\n",
      "filename: InterpolationAccelerometerKasperStandingApple.csv p1: 6.0 p2: 190.0\n",
      "filename: InterpolationAccelerometerKasperUpstairsApple.csv p1: 3.3 p2: 95.9\n",
      "filename: InterpolationAccelerometerKasperWalkingApple.csv p1: 3.4 p2: 219.6\n",
      "filename: InterpolationAccelerometerUserOrientationDownstairs2Apple.csv p1: 1.6 p2: 40.4\n",
      "filename: InterpolationAccelerometerUserOrientationDownstairs3Apple.csv p1: 0.3 p2: 38.8\n",
      "filename: InterpolationAccelerometerUserOrientationJogging2Apple.csv p1: 3.8 p2: 56.0\n",
      "filename: InterpolationAccelerometerUserOrientationJogging3Apple.csv p1: 3.0 p2: 38.35\n",
      "filename: InterpolationAccelerometerUserOrientationLying2Apple.csv p1: 3.4 p2: 109.4\n",
      "filename: InterpolationAccelerometerUserOrientationLying3Apple.csv p1: 5.0 p2: 185.9\n",
      "filename: InterpolationAccelerometerUserOrientationLyingApple.csv p1: 7.0 p2: 122.0\n",
      "filename: InterpolationAccelerometerUserOrientationSitting2Apple.csv p1: 5.9 p2: 130.9\n",
      "filename: InterpolationAccelerometerUserOrientationSitting3Apple.csv p1: 16.7 p2: 241.2\n",
      "filename: InterpolationAccelerometerUserOrientationSitting4Apple.csv p1: 9.4 p2: 155.7\n",
      "filename: InterpolationAccelerometerUserOrientationSquats2Apple.csv p1: 1.7 p2: 21.1\n",
      "filename: InterpolationAccelerometerUserOrientationSquatsApple.csv p1: 2.0 p2: 21.5\n",
      "filename: InterpolationAccelerometerUserOrientationStanding2Apple.csv p1: 3.0 p2: 44.0\n",
      "filename: InterpolationAccelerometerUserOrientationUpstairs2Apple.csv p1: 2.3 p2: 67.2\n",
      "filename: InterpolationAccelerometerUserOrientationUpstairs3Apple.csv p1: 1.7 p2: 36.1\n",
      "filename: InterpolationAccelerometerUserOrientationUpstairsApple.csv p1: 3.1 p2: 38.1\n",
      "filename: InterpolationAccelerometerUserOrientationWalking2Apple.csv p1: 7.7 p2: 817.3\n",
      "filename: InterpolationAccelerometerUserOrientationWalkingApple.csv p1: 6.9 p2: 698.9\n",
      "filename: InterpolationAccelerometerWiktorDownstairs2Apple.csv p1: 6.2 p2: 65.6\n",
      "filename: InterpolationAccelerometerWiktorDownstairs3Apple.csv p1: 2.4 p2: 56.5\n",
      "filename: InterpolationAccelerometerWiktorDownstairsApple.csv p1: 2.1 p2: 58.6\n",
      "filename: InterpolationAccelerometerWiktorJoggingApple.csv p1: 3.4 p2: 135.4\n",
      "filename: InterpolationAccelerometerWiktorLyingApple.csv p1: 7.3 p2: 161.7\n",
      "filename: InterpolationAccelerometerWiktorSitting2Apple.csv p1: 9.6 p2: 123.7\n",
      "filename: InterpolationAccelerometerWiktorSitting3Apple.csv p1: 4.2 p2: 113.0\n",
      "filename: InterpolationAccelerometerWiktorSitting4Apple.csv p1: 1.8 p2: 127.1\n",
      "filename: InterpolationAccelerometerWiktorSittingApple.csv p1: 5.2 p2: 121.2\n",
      "filename: InterpolationAccelerometerWiktorStanding2Apple.csv p1: 3.0 p2: 138.1\n",
      "filename: InterpolationAccelerometerWiktorStandingApple.csv p1: 5.0 p2: 184.1\n",
      "filename: InterpolationAccelerometerWiktorUpstairsApple.csv p1: 2.5 p2: 64.4\n",
      "filename: InterpolationAccelerometerWiktorWalking2Apple.csv p1: 1.4 p2: 90.2\n",
      "filename: InterpolationAccelerometerWiktorWalking3Apple.csv p1: 1.4 p2: 118.5\n",
      "filename: InterpolationAccelerometerWiktorWalkingApple.csv p1: 2.2 p2: 127.6\n",
      "filename: InterpolationAccelerometerKarolJogging.csv p1: 2.9 p2: 130.4\n",
      "filename: InterpolationAccelerometerKarolJogging2.csv p1: 2.1 p2: 133.3\n",
      "filename: InterpolationAccelerometerKarolWalking.csv p1: 2.0 p2: 128.5\n",
      "filename: InterpolationAccelerometerKarolWalking2.csv p1: 2.7 p2: 130.3\n",
      "filename: InterpolationAccelerometerKarolSquats.csv p1: 2.7 p2: 128.3\n",
      "filename: InterpolationAccelerometerKarolUpstairs.csv p1: 2.6 p2: 111.7\n",
      "filename: InterpolationAccelerometerKarolUpstairs2.csv p1: 2.4 p2: 113.8\n",
      "filename: InterpolationAccelerometerKarolDownstairs.csv p1: 3.8 p2: 99.8\n",
      "filename: InterpolationAccelerometerKarolDownstairs2.csv p1: 2.3 p2: 99.0\n",
      "filename: InterpolationAccelerometerMichalWalking5.csv p1: 4.0 p2: 119.0\n",
      "filename: InterpolationAccelerometerMichalWalking3.csv p1: 6.0 p2: 142.0\n",
      "filename: InterpolationAccelerometerMichalUpstairs3.csv p1: 7.0 p2: 42.5\n",
      "filename: InterpolationAccelerometerMichalUpstairs2.csv p1: 7.0 p2: 28.0\n",
      "filename: InterpolationAccelerometerMichalUpstairs.csv p1: 4.1 p2: 35.0\n",
      "filename: InterpolationAccelerometerMichalSquats4.csv p1: 4.0 p2: 93.7\n",
      "filename: InterpolationAccelerometerMichalSquats3.csv p1: 5.5 p2: 129.0\n",
      "filename: InterpolationAccelerometerMichalSquats2.csv p1: 4.5 p2: 124.7\n",
      "filename: InterpolationAccelerometerMichalSquats.csv p1: 4.0 p2: 118.0\n",
      "filename: InterpolationAccelerometerMichalSitting6.csv p1: 4.0 p2: 170.0\n",
      "filename: InterpolationAccelerometerMichalSitting5.csv p1: 5.0 p2: 95.0\n",
      "filename: InterpolationAccelerometerMichalSitting4.csv p1: 5.0 p2: 170.0\n",
      "filename: InterpolationAccelerometerMichalSitting3.csv p1: 4.0 p2: 135.0\n",
      "filename: InterpolationAccelerometerMichalSitting2.csv p1: 4.0 p2: 128.0\n",
      "filename: InterpolationAccelerometerMichalSitting.csv p1: 4.0 p2: 236.0\n",
      "filename: InterpolationAccelerometerMichalDownstairs2.csv p1: 4.5 p2: 49.0\n",
      "filename: InterpolationAccelerometerMichalDownstairs.csv p1: 2.2 p2: 45.7\n",
      "Logistic_Regression\n",
      "filename: InterpolationAccelerometerKubaDownstairs3Apple.csv p1: 3.4 p2: 75.0\n",
      "filename: InterpolationAccelerometerKubaDownstairs2Apple.csv p1: 4.0 p2: 69.0\n",
      "filename: InterpolationAccelerometerKubaSquatsApple.csv p1: 3.8 p2: 124.0\n",
      "filename: InterpolationAccelerometerKubaSittingApple.csv p1: 4.8 p2: 332.0\n",
      "filename: InterpolationAccelerometerKubaSquats2Apple.csv p1: 7.6 p2: 132.3\n",
      "filename: InterpolationAccelerometerKubaSquats3Apple.csv p1: 3.9 p2: 126.1\n",
      "filename: InterpolationAccelerometerKubaStanding2Apple.csv p1: 3.2 p2: 127.6\n",
      "filename: InterpolationAccelerometerKubaStanding3Apple.csv p1: 5.0 p2: 125.0\n",
      "filename: InterpolationAccelerometerKubaWalking2Apple.csv p1: 4.6 p2: 579.6\n",
      "filename: InterpolationAccelerometerKubaDownstairsApple.csv p1: 10.4 p2: 71.5\n",
      "filename: InterpolationAccelerometerKubaSitting2Apple.csv p1: 4.7 p2: 295.3\n",
      "filename: InterpolationAccelerometerKubaUpstairsApple.csv p1: 3.3 p2: 67.0\n",
      "filename: InterpolationAccelerometerKubaWalkingApple.csv p1: 3.5 p2: 340.2\n",
      "filename: InterpolationAccelerometerKubaStandingApple.csv p1: 3.3 p2: 124.5\n",
      "filename: InterpolationAccelerometerKubaUpstairs2Apple.csv p1: 3.3 p2: 81.6\n",
      "filename: InterpolationAccelerometerKubaLying3Apple.csv p1: 8.6 p2: 233.5\n",
      "filename: InterpolationAccelerometerKubaLying2Apple.csv p1: 4.0 p2: 96.2\n",
      "filename: InterpolationAccelerometerKubaLyingApple.csv p1: 5.0 p2: 164.1\n",
      "filename: InterpolationAccelerometerKasperDownstairsApple.csv p1: 0.5 p2: 85.8\n",
      "filename: InterpolationAccelerometerKasperSittingApple.csv p1: 15.2 p2: 227.6\n",
      "filename: InterpolationAccelerometerKasperStandingApple.csv p1: 6.0 p2: 190.0\n",
      "filename: InterpolationAccelerometerKasperUpstairsApple.csv p1: 3.3 p2: 95.9\n",
      "filename: InterpolationAccelerometerKasperWalkingApple.csv p1: 3.4 p2: 219.6\n",
      "filename: InterpolationAccelerometerUserOrientationDownstairs2Apple.csv p1: 1.6 p2: 40.4\n",
      "filename: InterpolationAccelerometerUserOrientationDownstairs3Apple.csv p1: 0.3 p2: 38.8\n",
      "filename: InterpolationAccelerometerUserOrientationJogging2Apple.csv p1: 3.8 p2: 56.0\n",
      "filename: InterpolationAccelerometerUserOrientationJogging3Apple.csv p1: 3.0 p2: 38.35\n",
      "filename: InterpolationAccelerometerUserOrientationLying2Apple.csv p1: 3.4 p2: 109.4\n",
      "filename: InterpolationAccelerometerUserOrientationLying3Apple.csv p1: 5.0 p2: 185.9\n",
      "filename: InterpolationAccelerometerUserOrientationLyingApple.csv p1: 7.0 p2: 122.0\n",
      "filename: InterpolationAccelerometerUserOrientationSitting2Apple.csv p1: 5.9 p2: 130.9\n",
      "filename: InterpolationAccelerometerUserOrientationSitting3Apple.csv p1: 16.7 p2: 241.2\n",
      "filename: InterpolationAccelerometerUserOrientationSitting4Apple.csv p1: 9.4 p2: 155.7\n",
      "filename: InterpolationAccelerometerUserOrientationSquats2Apple.csv p1: 1.7 p2: 21.1\n",
      "filename: InterpolationAccelerometerUserOrientationSquatsApple.csv p1: 2.0 p2: 21.5\n",
      "filename: InterpolationAccelerometerUserOrientationStanding2Apple.csv p1: 3.0 p2: 44.0\n",
      "filename: InterpolationAccelerometerUserOrientationUpstairs2Apple.csv p1: 2.3 p2: 67.2\n",
      "filename: InterpolationAccelerometerUserOrientationUpstairs3Apple.csv p1: 1.7 p2: 36.1\n",
      "filename: InterpolationAccelerometerUserOrientationUpstairsApple.csv p1: 3.1 p2: 38.1\n",
      "filename: InterpolationAccelerometerUserOrientationWalking2Apple.csv p1: 7.7 p2: 817.3\n",
      "filename: InterpolationAccelerometerUserOrientationWalkingApple.csv p1: 6.9 p2: 698.9\n",
      "filename: InterpolationAccelerometerWiktorDownstairs2Apple.csv p1: 6.2 p2: 65.6\n",
      "filename: InterpolationAccelerometerWiktorDownstairs3Apple.csv p1: 2.4 p2: 56.5\n",
      "filename: InterpolationAccelerometerWiktorDownstairsApple.csv p1: 2.1 p2: 58.6\n",
      "filename: InterpolationAccelerometerWiktorJoggingApple.csv p1: 3.4 p2: 135.4\n",
      "filename: InterpolationAccelerometerWiktorLyingApple.csv p1: 7.3 p2: 161.7\n",
      "filename: InterpolationAccelerometerWiktorSitting2Apple.csv p1: 9.6 p2: 123.7\n",
      "filename: InterpolationAccelerometerWiktorSitting3Apple.csv p1: 4.2 p2: 113.0\n",
      "filename: InterpolationAccelerometerWiktorSitting4Apple.csv p1: 1.8 p2: 127.1\n",
      "filename: InterpolationAccelerometerWiktorSittingApple.csv p1: 5.2 p2: 121.2\n",
      "filename: InterpolationAccelerometerWiktorStanding2Apple.csv p1: 3.0 p2: 138.1\n",
      "filename: InterpolationAccelerometerWiktorStandingApple.csv p1: 5.0 p2: 184.1\n",
      "filename: InterpolationAccelerometerWiktorUpstairsApple.csv p1: 2.5 p2: 64.4\n",
      "filename: InterpolationAccelerometerWiktorWalking2Apple.csv p1: 1.4 p2: 90.2\n",
      "filename: InterpolationAccelerometerWiktorWalking3Apple.csv p1: 1.4 p2: 118.5\n",
      "filename: InterpolationAccelerometerWiktorWalkingApple.csv p1: 2.2 p2: 127.6\n",
      "filename: InterpolationAccelerometerKarolJogging.csv p1: 2.9 p2: 130.4\n",
      "filename: InterpolationAccelerometerKarolJogging2.csv p1: 2.1 p2: 133.3\n",
      "filename: InterpolationAccelerometerKarolWalking.csv p1: 2.0 p2: 128.5\n",
      "filename: InterpolationAccelerometerKarolWalking2.csv p1: 2.7 p2: 130.3\n",
      "filename: InterpolationAccelerometerKarolSquats.csv p1: 2.7 p2: 128.3\n",
      "filename: InterpolationAccelerometerKarolUpstairs.csv p1: 2.6 p2: 111.7\n",
      "filename: InterpolationAccelerometerKarolUpstairs2.csv p1: 2.4 p2: 113.8\n",
      "filename: InterpolationAccelerometerKarolDownstairs.csv p1: 3.8 p2: 99.8\n",
      "filename: InterpolationAccelerometerKarolDownstairs2.csv p1: 2.3 p2: 99.0\n",
      "filename: InterpolationAccelerometerMichalWalking5.csv p1: 4.0 p2: 119.0\n",
      "filename: InterpolationAccelerometerMichalWalking3.csv p1: 6.0 p2: 142.0\n",
      "filename: InterpolationAccelerometerMichalUpstairs3.csv p1: 7.0 p2: 42.5\n",
      "filename: InterpolationAccelerometerMichalUpstairs2.csv p1: 7.0 p2: 28.0\n",
      "filename: InterpolationAccelerometerMichalUpstairs.csv p1: 4.1 p2: 35.0\n",
      "filename: InterpolationAccelerometerMichalSquats4.csv p1: 4.0 p2: 93.7\n",
      "filename: InterpolationAccelerometerMichalSquats3.csv p1: 5.5 p2: 129.0\n",
      "filename: InterpolationAccelerometerMichalSquats2.csv p1: 4.5 p2: 124.7\n",
      "filename: InterpolationAccelerometerMichalSquats.csv p1: 4.0 p2: 118.0\n",
      "filename: InterpolationAccelerometerMichalSitting6.csv p1: 4.0 p2: 170.0\n",
      "filename: InterpolationAccelerometerMichalSitting5.csv p1: 5.0 p2: 95.0\n",
      "filename: InterpolationAccelerometerMichalSitting4.csv p1: 5.0 p2: 170.0\n",
      "filename: InterpolationAccelerometerMichalSitting3.csv p1: 4.0 p2: 135.0\n",
      "filename: InterpolationAccelerometerMichalSitting2.csv p1: 4.0 p2: 128.0\n",
      "filename: InterpolationAccelerometerMichalSitting.csv p1: 4.0 p2: 236.0\n",
      "filename: InterpolationAccelerometerMichalDownstairs2.csv p1: 4.5 p2: 49.0\n",
      "filename: InterpolationAccelerometerMichalDownstairs.csv p1: 2.2 p2: 45.7\n",
      "Decision_Tree_Gini\n",
      "filename: InterpolationAccelerometerKubaDownstairs3Apple.csv p1: 3.4 p2: 75.0\n",
      "filename: InterpolationAccelerometerKubaDownstairs2Apple.csv p1: 4.0 p2: 69.0\n",
      "filename: InterpolationAccelerometerKubaSquatsApple.csv p1: 3.8 p2: 124.0\n",
      "filename: InterpolationAccelerometerKubaSittingApple.csv p1: 4.8 p2: 332.0\n",
      "filename: InterpolationAccelerometerKubaSquats2Apple.csv p1: 7.6 p2: 132.3\n",
      "filename: InterpolationAccelerometerKubaSquats3Apple.csv p1: 3.9 p2: 126.1\n",
      "filename: InterpolationAccelerometerKubaStanding2Apple.csv p1: 3.2 p2: 127.6\n",
      "filename: InterpolationAccelerometerKubaStanding3Apple.csv p1: 5.0 p2: 125.0\n",
      "filename: InterpolationAccelerometerKubaWalking2Apple.csv p1: 4.6 p2: 579.6\n",
      "filename: InterpolationAccelerometerKubaDownstairsApple.csv p1: 10.4 p2: 71.5\n",
      "filename: InterpolationAccelerometerKubaSitting2Apple.csv p1: 4.7 p2: 295.3\n",
      "filename: InterpolationAccelerometerKubaUpstairsApple.csv p1: 3.3 p2: 67.0\n",
      "filename: InterpolationAccelerometerKubaWalkingApple.csv p1: 3.5 p2: 340.2\n",
      "filename: InterpolationAccelerometerKubaStandingApple.csv p1: 3.3 p2: 124.5\n",
      "filename: InterpolationAccelerometerKubaUpstairs2Apple.csv p1: 3.3 p2: 81.6\n",
      "filename: InterpolationAccelerometerKubaLying3Apple.csv p1: 8.6 p2: 233.5\n",
      "filename: InterpolationAccelerometerKubaLying2Apple.csv p1: 4.0 p2: 96.2\n",
      "filename: InterpolationAccelerometerKubaLyingApple.csv p1: 5.0 p2: 164.1\n",
      "filename: InterpolationAccelerometerKasperDownstairsApple.csv p1: 0.5 p2: 85.8\n",
      "filename: InterpolationAccelerometerKasperSittingApple.csv p1: 15.2 p2: 227.6\n",
      "filename: InterpolationAccelerometerKasperStandingApple.csv p1: 6.0 p2: 190.0\n",
      "filename: InterpolationAccelerometerKasperUpstairsApple.csv p1: 3.3 p2: 95.9\n",
      "filename: InterpolationAccelerometerKasperWalkingApple.csv p1: 3.4 p2: 219.6\n",
      "filename: InterpolationAccelerometerUserOrientationDownstairs2Apple.csv p1: 1.6 p2: 40.4\n",
      "filename: InterpolationAccelerometerUserOrientationDownstairs3Apple.csv p1: 0.3 p2: 38.8\n",
      "filename: InterpolationAccelerometerUserOrientationJogging2Apple.csv p1: 3.8 p2: 56.0\n",
      "filename: InterpolationAccelerometerUserOrientationJogging3Apple.csv p1: 3.0 p2: 38.35\n",
      "filename: InterpolationAccelerometerUserOrientationLying2Apple.csv p1: 3.4 p2: 109.4\n",
      "filename: InterpolationAccelerometerUserOrientationLying3Apple.csv p1: 5.0 p2: 185.9\n",
      "filename: InterpolationAccelerometerUserOrientationLyingApple.csv p1: 7.0 p2: 122.0\n",
      "filename: InterpolationAccelerometerUserOrientationSitting2Apple.csv p1: 5.9 p2: 130.9\n",
      "filename: InterpolationAccelerometerUserOrientationSitting3Apple.csv p1: 16.7 p2: 241.2\n",
      "filename: InterpolationAccelerometerUserOrientationSitting4Apple.csv p1: 9.4 p2: 155.7\n",
      "filename: InterpolationAccelerometerUserOrientationSquats2Apple.csv p1: 1.7 p2: 21.1\n",
      "filename: InterpolationAccelerometerUserOrientationSquatsApple.csv p1: 2.0 p2: 21.5\n",
      "filename: InterpolationAccelerometerUserOrientationStanding2Apple.csv p1: 3.0 p2: 44.0\n",
      "filename: InterpolationAccelerometerUserOrientationUpstairs2Apple.csv p1: 2.3 p2: 67.2\n",
      "filename: InterpolationAccelerometerUserOrientationUpstairs3Apple.csv p1: 1.7 p2: 36.1\n",
      "filename: InterpolationAccelerometerUserOrientationUpstairsApple.csv p1: 3.1 p2: 38.1\n",
      "filename: InterpolationAccelerometerUserOrientationWalking2Apple.csv p1: 7.7 p2: 817.3\n",
      "filename: InterpolationAccelerometerUserOrientationWalkingApple.csv p1: 6.9 p2: 698.9\n",
      "filename: InterpolationAccelerometerWiktorDownstairs2Apple.csv p1: 6.2 p2: 65.6\n",
      "filename: InterpolationAccelerometerWiktorDownstairs3Apple.csv p1: 2.4 p2: 56.5\n",
      "filename: InterpolationAccelerometerWiktorDownstairsApple.csv p1: 2.1 p2: 58.6\n",
      "filename: InterpolationAccelerometerWiktorJoggingApple.csv p1: 3.4 p2: 135.4\n",
      "filename: InterpolationAccelerometerWiktorLyingApple.csv p1: 7.3 p2: 161.7\n",
      "filename: InterpolationAccelerometerWiktorSitting2Apple.csv p1: 9.6 p2: 123.7\n",
      "filename: InterpolationAccelerometerWiktorSitting3Apple.csv p1: 4.2 p2: 113.0\n",
      "filename: InterpolationAccelerometerWiktorSitting4Apple.csv p1: 1.8 p2: 127.1\n",
      "filename: InterpolationAccelerometerWiktorSittingApple.csv p1: 5.2 p2: 121.2\n",
      "filename: InterpolationAccelerometerWiktorStanding2Apple.csv p1: 3.0 p2: 138.1\n",
      "filename: InterpolationAccelerometerWiktorStandingApple.csv p1: 5.0 p2: 184.1\n",
      "filename: InterpolationAccelerometerWiktorUpstairsApple.csv p1: 2.5 p2: 64.4\n",
      "filename: InterpolationAccelerometerWiktorWalking2Apple.csv p1: 1.4 p2: 90.2\n",
      "filename: InterpolationAccelerometerWiktorWalking3Apple.csv p1: 1.4 p2: 118.5\n",
      "filename: InterpolationAccelerometerWiktorWalkingApple.csv p1: 2.2 p2: 127.6\n",
      "filename: InterpolationAccelerometerKarolJogging.csv p1: 2.9 p2: 130.4\n",
      "filename: InterpolationAccelerometerKarolJogging2.csv p1: 2.1 p2: 133.3\n",
      "filename: InterpolationAccelerometerKarolWalking.csv p1: 2.0 p2: 128.5\n",
      "filename: InterpolationAccelerometerKarolWalking2.csv p1: 2.7 p2: 130.3\n",
      "filename: InterpolationAccelerometerKarolSquats.csv p1: 2.7 p2: 128.3\n",
      "filename: InterpolationAccelerometerKarolUpstairs.csv p1: 2.6 p2: 111.7\n",
      "filename: InterpolationAccelerometerKarolUpstairs2.csv p1: 2.4 p2: 113.8\n",
      "filename: InterpolationAccelerometerKarolDownstairs.csv p1: 3.8 p2: 99.8\n",
      "filename: InterpolationAccelerometerKarolDownstairs2.csv p1: 2.3 p2: 99.0\n",
      "filename: InterpolationAccelerometerMichalWalking5.csv p1: 4.0 p2: 119.0\n",
      "filename: InterpolationAccelerometerMichalWalking3.csv p1: 6.0 p2: 142.0\n",
      "filename: InterpolationAccelerometerMichalUpstairs3.csv p1: 7.0 p2: 42.5\n",
      "filename: InterpolationAccelerometerMichalUpstairs2.csv p1: 7.0 p2: 28.0\n",
      "filename: InterpolationAccelerometerMichalUpstairs.csv p1: 4.1 p2: 35.0\n",
      "filename: InterpolationAccelerometerMichalSquats4.csv p1: 4.0 p2: 93.7\n",
      "filename: InterpolationAccelerometerMichalSquats3.csv p1: 5.5 p2: 129.0\n",
      "filename: InterpolationAccelerometerMichalSquats2.csv p1: 4.5 p2: 124.7\n",
      "filename: InterpolationAccelerometerMichalSquats.csv p1: 4.0 p2: 118.0\n",
      "filename: InterpolationAccelerometerMichalSitting6.csv p1: 4.0 p2: 170.0\n",
      "filename: InterpolationAccelerometerMichalSitting5.csv p1: 5.0 p2: 95.0\n",
      "filename: InterpolationAccelerometerMichalSitting4.csv p1: 5.0 p2: 170.0\n",
      "filename: InterpolationAccelerometerMichalSitting3.csv p1: 4.0 p2: 135.0\n",
      "filename: InterpolationAccelerometerMichalSitting2.csv p1: 4.0 p2: 128.0\n",
      "filename: InterpolationAccelerometerMichalSitting.csv p1: 4.0 p2: 236.0\n",
      "filename: InterpolationAccelerometerMichalDownstairs2.csv p1: 4.5 p2: 49.0\n",
      "filename: InterpolationAccelerometerMichalDownstairs.csv p1: 2.2 p2: 45.7\n",
      "Decision_Tree_entropy\n",
      "filename: InterpolationAccelerometerKubaDownstairs3Apple.csv p1: 3.4 p2: 75.0\n",
      "filename: InterpolationAccelerometerKubaDownstairs2Apple.csv p1: 4.0 p2: 69.0\n",
      "filename: InterpolationAccelerometerKubaSquatsApple.csv p1: 3.8 p2: 124.0\n",
      "filename: InterpolationAccelerometerKubaSittingApple.csv p1: 4.8 p2: 332.0\n",
      "filename: InterpolationAccelerometerKubaSquats2Apple.csv p1: 7.6 p2: 132.3\n",
      "filename: InterpolationAccelerometerKubaSquats3Apple.csv p1: 3.9 p2: 126.1\n",
      "filename: InterpolationAccelerometerKubaStanding2Apple.csv p1: 3.2 p2: 127.6\n",
      "filename: InterpolationAccelerometerKubaStanding3Apple.csv p1: 5.0 p2: 125.0\n",
      "filename: InterpolationAccelerometerKubaWalking2Apple.csv p1: 4.6 p2: 579.6\n",
      "filename: InterpolationAccelerometerKubaDownstairsApple.csv p1: 10.4 p2: 71.5\n",
      "filename: InterpolationAccelerometerKubaSitting2Apple.csv p1: 4.7 p2: 295.3\n",
      "filename: InterpolationAccelerometerKubaUpstairsApple.csv p1: 3.3 p2: 67.0\n",
      "filename: InterpolationAccelerometerKubaWalkingApple.csv p1: 3.5 p2: 340.2\n",
      "filename: InterpolationAccelerometerKubaStandingApple.csv p1: 3.3 p2: 124.5\n",
      "filename: InterpolationAccelerometerKubaUpstairs2Apple.csv p1: 3.3 p2: 81.6\n",
      "filename: InterpolationAccelerometerKubaLying3Apple.csv p1: 8.6 p2: 233.5\n",
      "filename: InterpolationAccelerometerKubaLying2Apple.csv p1: 4.0 p2: 96.2\n",
      "filename: InterpolationAccelerometerKubaLyingApple.csv p1: 5.0 p2: 164.1\n",
      "filename: InterpolationAccelerometerKasperDownstairsApple.csv p1: 0.5 p2: 85.8\n",
      "filename: InterpolationAccelerometerKasperSittingApple.csv p1: 15.2 p2: 227.6\n",
      "filename: InterpolationAccelerometerKasperStandingApple.csv p1: 6.0 p2: 190.0\n",
      "filename: InterpolationAccelerometerKasperUpstairsApple.csv p1: 3.3 p2: 95.9\n",
      "filename: InterpolationAccelerometerKasperWalkingApple.csv p1: 3.4 p2: 219.6\n",
      "filename: InterpolationAccelerometerUserOrientationDownstairs2Apple.csv p1: 1.6 p2: 40.4\n",
      "filename: InterpolationAccelerometerUserOrientationDownstairs3Apple.csv p1: 0.3 p2: 38.8\n",
      "filename: InterpolationAccelerometerUserOrientationJogging2Apple.csv p1: 3.8 p2: 56.0\n",
      "filename: InterpolationAccelerometerUserOrientationJogging3Apple.csv p1: 3.0 p2: 38.35\n",
      "filename: InterpolationAccelerometerUserOrientationLying2Apple.csv p1: 3.4 p2: 109.4\n",
      "filename: InterpolationAccelerometerUserOrientationLying3Apple.csv p1: 5.0 p2: 185.9\n",
      "filename: InterpolationAccelerometerUserOrientationLyingApple.csv p1: 7.0 p2: 122.0\n",
      "filename: InterpolationAccelerometerUserOrientationSitting2Apple.csv p1: 5.9 p2: 130.9\n",
      "filename: InterpolationAccelerometerUserOrientationSitting3Apple.csv p1: 16.7 p2: 241.2\n",
      "filename: InterpolationAccelerometerUserOrientationSitting4Apple.csv p1: 9.4 p2: 155.7\n",
      "filename: InterpolationAccelerometerUserOrientationSquats2Apple.csv p1: 1.7 p2: 21.1\n",
      "filename: InterpolationAccelerometerUserOrientationSquatsApple.csv p1: 2.0 p2: 21.5\n",
      "filename: InterpolationAccelerometerUserOrientationStanding2Apple.csv p1: 3.0 p2: 44.0\n",
      "filename: InterpolationAccelerometerUserOrientationUpstairs2Apple.csv p1: 2.3 p2: 67.2\n",
      "filename: InterpolationAccelerometerUserOrientationUpstairs3Apple.csv p1: 1.7 p2: 36.1\n",
      "filename: InterpolationAccelerometerUserOrientationUpstairsApple.csv p1: 3.1 p2: 38.1\n",
      "filename: InterpolationAccelerometerUserOrientationWalking2Apple.csv p1: 7.7 p2: 817.3\n",
      "filename: InterpolationAccelerometerUserOrientationWalkingApple.csv p1: 6.9 p2: 698.9\n",
      "filename: InterpolationAccelerometerWiktorDownstairs2Apple.csv p1: 6.2 p2: 65.6\n",
      "filename: InterpolationAccelerometerWiktorDownstairs3Apple.csv p1: 2.4 p2: 56.5\n",
      "filename: InterpolationAccelerometerWiktorDownstairsApple.csv p1: 2.1 p2: 58.6\n",
      "filename: InterpolationAccelerometerWiktorJoggingApple.csv p1: 3.4 p2: 135.4\n",
      "filename: InterpolationAccelerometerWiktorLyingApple.csv p1: 7.3 p2: 161.7\n",
      "filename: InterpolationAccelerometerWiktorSitting2Apple.csv p1: 9.6 p2: 123.7\n",
      "filename: InterpolationAccelerometerWiktorSitting3Apple.csv p1: 4.2 p2: 113.0\n",
      "filename: InterpolationAccelerometerWiktorSitting4Apple.csv p1: 1.8 p2: 127.1\n",
      "filename: InterpolationAccelerometerWiktorSittingApple.csv p1: 5.2 p2: 121.2\n",
      "filename: InterpolationAccelerometerWiktorStanding2Apple.csv p1: 3.0 p2: 138.1\n",
      "filename: InterpolationAccelerometerWiktorStandingApple.csv p1: 5.0 p2: 184.1\n",
      "filename: InterpolationAccelerometerWiktorUpstairsApple.csv p1: 2.5 p2: 64.4\n",
      "filename: InterpolationAccelerometerWiktorWalking2Apple.csv p1: 1.4 p2: 90.2\n",
      "filename: InterpolationAccelerometerWiktorWalking3Apple.csv p1: 1.4 p2: 118.5\n",
      "filename: InterpolationAccelerometerWiktorWalkingApple.csv p1: 2.2 p2: 127.6\n",
      "filename: InterpolationAccelerometerKarolJogging.csv p1: 2.9 p2: 130.4\n",
      "filename: InterpolationAccelerometerKarolJogging2.csv p1: 2.1 p2: 133.3\n",
      "filename: InterpolationAccelerometerKarolWalking.csv p1: 2.0 p2: 128.5\n",
      "filename: InterpolationAccelerometerKarolWalking2.csv p1: 2.7 p2: 130.3\n",
      "filename: InterpolationAccelerometerKarolSquats.csv p1: 2.7 p2: 128.3\n",
      "filename: InterpolationAccelerometerKarolUpstairs.csv p1: 2.6 p2: 111.7\n",
      "filename: InterpolationAccelerometerKarolUpstairs2.csv p1: 2.4 p2: 113.8\n",
      "filename: InterpolationAccelerometerKarolDownstairs.csv p1: 3.8 p2: 99.8\n",
      "filename: InterpolationAccelerometerKarolDownstairs2.csv p1: 2.3 p2: 99.0\n",
      "filename: InterpolationAccelerometerMichalWalking5.csv p1: 4.0 p2: 119.0\n",
      "filename: InterpolationAccelerometerMichalWalking3.csv p1: 6.0 p2: 142.0\n",
      "filename: InterpolationAccelerometerMichalUpstairs3.csv p1: 7.0 p2: 42.5\n",
      "filename: InterpolationAccelerometerMichalUpstairs2.csv p1: 7.0 p2: 28.0\n",
      "filename: InterpolationAccelerometerMichalUpstairs.csv p1: 4.1 p2: 35.0\n",
      "filename: InterpolationAccelerometerMichalSquats4.csv p1: 4.0 p2: 93.7\n",
      "filename: InterpolationAccelerometerMichalSquats3.csv p1: 5.5 p2: 129.0\n",
      "filename: InterpolationAccelerometerMichalSquats2.csv p1: 4.5 p2: 124.7\n",
      "filename: InterpolationAccelerometerMichalSquats.csv p1: 4.0 p2: 118.0\n",
      "filename: InterpolationAccelerometerMichalSitting6.csv p1: 4.0 p2: 170.0\n",
      "filename: InterpolationAccelerometerMichalSitting5.csv p1: 5.0 p2: 95.0\n",
      "filename: InterpolationAccelerometerMichalSitting4.csv p1: 5.0 p2: 170.0\n",
      "filename: InterpolationAccelerometerMichalSitting3.csv p1: 4.0 p2: 135.0\n",
      "filename: InterpolationAccelerometerMichalSitting2.csv p1: 4.0 p2: 128.0\n",
      "filename: InterpolationAccelerometerMichalSitting.csv p1: 4.0 p2: 236.0\n",
      "filename: InterpolationAccelerometerMichalDownstairs2.csv p1: 4.5 p2: 49.0\n",
      "filename: InterpolationAccelerometerMichalDownstairs.csv p1: 2.2 p2: 45.7\n",
      "LinearSVC_default\n",
      "filename: InterpolationAccelerometerKubaDownstairs3Apple.csv p1: 3.4 p2: 75.0\n",
      "filename: InterpolationAccelerometerKubaDownstairs2Apple.csv p1: 4.0 p2: 69.0\n",
      "filename: InterpolationAccelerometerKubaSquatsApple.csv p1: 3.8 p2: 124.0\n",
      "filename: InterpolationAccelerometerKubaSittingApple.csv p1: 4.8 p2: 332.0\n",
      "filename: InterpolationAccelerometerKubaSquats2Apple.csv p1: 7.6 p2: 132.3\n",
      "filename: InterpolationAccelerometerKubaSquats3Apple.csv p1: 3.9 p2: 126.1\n",
      "filename: InterpolationAccelerometerKubaStanding2Apple.csv p1: 3.2 p2: 127.6\n",
      "filename: InterpolationAccelerometerKubaStanding3Apple.csv p1: 5.0 p2: 125.0\n",
      "filename: InterpolationAccelerometerKubaWalking2Apple.csv p1: 4.6 p2: 579.6\n",
      "filename: InterpolationAccelerometerKubaDownstairsApple.csv p1: 10.4 p2: 71.5\n",
      "filename: InterpolationAccelerometerKubaSitting2Apple.csv p1: 4.7 p2: 295.3\n",
      "filename: InterpolationAccelerometerKubaUpstairsApple.csv p1: 3.3 p2: 67.0\n",
      "filename: InterpolationAccelerometerKubaWalkingApple.csv p1: 3.5 p2: 340.2\n",
      "filename: InterpolationAccelerometerKubaStandingApple.csv p1: 3.3 p2: 124.5\n",
      "filename: InterpolationAccelerometerKubaUpstairs2Apple.csv p1: 3.3 p2: 81.6\n",
      "filename: InterpolationAccelerometerKubaLying3Apple.csv p1: 8.6 p2: 233.5\n",
      "filename: InterpolationAccelerometerKubaLying2Apple.csv p1: 4.0 p2: 96.2\n",
      "filename: InterpolationAccelerometerKubaLyingApple.csv p1: 5.0 p2: 164.1\n",
      "filename: InterpolationAccelerometerKasperDownstairsApple.csv p1: 0.5 p2: 85.8\n",
      "filename: InterpolationAccelerometerKasperSittingApple.csv p1: 15.2 p2: 227.6\n",
      "filename: InterpolationAccelerometerKasperStandingApple.csv p1: 6.0 p2: 190.0\n",
      "filename: InterpolationAccelerometerKasperUpstairsApple.csv p1: 3.3 p2: 95.9\n",
      "filename: InterpolationAccelerometerKasperWalkingApple.csv p1: 3.4 p2: 219.6\n",
      "filename: InterpolationAccelerometerUserOrientationDownstairs2Apple.csv p1: 1.6 p2: 40.4\n",
      "filename: InterpolationAccelerometerUserOrientationDownstairs3Apple.csv p1: 0.3 p2: 38.8\n",
      "filename: InterpolationAccelerometerUserOrientationJogging2Apple.csv p1: 3.8 p2: 56.0\n",
      "filename: InterpolationAccelerometerUserOrientationJogging3Apple.csv p1: 3.0 p2: 38.35\n",
      "filename: InterpolationAccelerometerUserOrientationLying2Apple.csv p1: 3.4 p2: 109.4\n",
      "filename: InterpolationAccelerometerUserOrientationLying3Apple.csv p1: 5.0 p2: 185.9\n",
      "filename: InterpolationAccelerometerUserOrientationLyingApple.csv p1: 7.0 p2: 122.0\n",
      "filename: InterpolationAccelerometerUserOrientationSitting2Apple.csv p1: 5.9 p2: 130.9\n",
      "filename: InterpolationAccelerometerUserOrientationSitting3Apple.csv p1: 16.7 p2: 241.2\n",
      "filename: InterpolationAccelerometerUserOrientationSitting4Apple.csv p1: 9.4 p2: 155.7\n",
      "filename: InterpolationAccelerometerUserOrientationSquats2Apple.csv p1: 1.7 p2: 21.1\n",
      "filename: InterpolationAccelerometerUserOrientationSquatsApple.csv p1: 2.0 p2: 21.5\n",
      "filename: InterpolationAccelerometerUserOrientationStanding2Apple.csv p1: 3.0 p2: 44.0\n",
      "filename: InterpolationAccelerometerUserOrientationUpstairs2Apple.csv p1: 2.3 p2: 67.2\n",
      "filename: InterpolationAccelerometerUserOrientationUpstairs3Apple.csv p1: 1.7 p2: 36.1\n",
      "filename: InterpolationAccelerometerUserOrientationUpstairsApple.csv p1: 3.1 p2: 38.1\n",
      "filename: InterpolationAccelerometerUserOrientationWalking2Apple.csv p1: 7.7 p2: 817.3\n",
      "filename: InterpolationAccelerometerUserOrientationWalkingApple.csv p1: 6.9 p2: 698.9\n",
      "filename: InterpolationAccelerometerWiktorDownstairs2Apple.csv p1: 6.2 p2: 65.6\n",
      "filename: InterpolationAccelerometerWiktorDownstairs3Apple.csv p1: 2.4 p2: 56.5\n",
      "filename: InterpolationAccelerometerWiktorDownstairsApple.csv p1: 2.1 p2: 58.6\n",
      "filename: InterpolationAccelerometerWiktorJoggingApple.csv p1: 3.4 p2: 135.4\n",
      "filename: InterpolationAccelerometerWiktorLyingApple.csv p1: 7.3 p2: 161.7\n",
      "filename: InterpolationAccelerometerWiktorSitting2Apple.csv p1: 9.6 p2: 123.7\n",
      "filename: InterpolationAccelerometerWiktorSitting3Apple.csv p1: 4.2 p2: 113.0\n",
      "filename: InterpolationAccelerometerWiktorSitting4Apple.csv p1: 1.8 p2: 127.1\n",
      "filename: InterpolationAccelerometerWiktorSittingApple.csv p1: 5.2 p2: 121.2\n",
      "filename: InterpolationAccelerometerWiktorStanding2Apple.csv p1: 3.0 p2: 138.1\n",
      "filename: InterpolationAccelerometerWiktorStandingApple.csv p1: 5.0 p2: 184.1\n",
      "filename: InterpolationAccelerometerWiktorUpstairsApple.csv p1: 2.5 p2: 64.4\n",
      "filename: InterpolationAccelerometerWiktorWalking2Apple.csv p1: 1.4 p2: 90.2\n",
      "filename: InterpolationAccelerometerWiktorWalking3Apple.csv p1: 1.4 p2: 118.5\n",
      "filename: InterpolationAccelerometerWiktorWalkingApple.csv p1: 2.2 p2: 127.6\n",
      "filename: InterpolationAccelerometerKarolJogging.csv p1: 2.9 p2: 130.4\n"
     ]
    },
    {
     "name": "stderr",
     "output_type": "stream",
     "text": [
      "F:\\anaconda\\envs\\deeplearning\\lib\\site-packages\\sklearn\\svm\\_base.py:1206: ConvergenceWarning: Liblinear failed to converge, increase the number of iterations.\n",
      "  warnings.warn(\n"
     ]
    },
    {
     "name": "stdout",
     "output_type": "stream",
     "text": [
      "filename: InterpolationAccelerometerKarolJogging2.csv p1: 2.1 p2: 133.3\n",
      "filename: InterpolationAccelerometerKarolWalking.csv p1: 2.0 p2: 128.5\n",
      "filename: InterpolationAccelerometerKarolWalking2.csv p1: 2.7 p2: 130.3\n",
      "filename: InterpolationAccelerometerKarolSquats.csv p1: 2.7 p2: 128.3\n",
      "filename: InterpolationAccelerometerKarolUpstairs.csv p1: 2.6 p2: 111.7\n",
      "filename: InterpolationAccelerometerKarolUpstairs2.csv p1: 2.4 p2: 113.8\n",
      "filename: InterpolationAccelerometerKarolDownstairs.csv p1: 3.8 p2: 99.8\n",
      "filename: InterpolationAccelerometerKarolDownstairs2.csv p1: 2.3 p2: 99.0\n",
      "filename: InterpolationAccelerometerMichalWalking5.csv p1: 4.0 p2: 119.0\n",
      "filename: InterpolationAccelerometerMichalWalking3.csv p1: 6.0 p2: 142.0\n",
      "filename: InterpolationAccelerometerMichalUpstairs3.csv p1: 7.0 p2: 42.5\n",
      "filename: InterpolationAccelerometerMichalUpstairs2.csv p1: 7.0 p2: 28.0\n",
      "filename: InterpolationAccelerometerMichalUpstairs.csv p1: 4.1 p2: 35.0\n",
      "filename: InterpolationAccelerometerMichalSquats4.csv p1: 4.0 p2: 93.7\n",
      "filename: InterpolationAccelerometerMichalSquats3.csv p1: 5.5 p2: 129.0\n",
      "filename: InterpolationAccelerometerMichalSquats2.csv p1: 4.5 p2: 124.7\n",
      "filename: InterpolationAccelerometerMichalSquats.csv p1: 4.0 p2: 118.0\n",
      "filename: InterpolationAccelerometerMichalSitting6.csv p1: 4.0 p2: 170.0\n",
      "filename: InterpolationAccelerometerMichalSitting5.csv p1: 5.0 p2: 95.0\n",
      "filename: InterpolationAccelerometerMichalSitting4.csv p1: 5.0 p2: 170.0\n",
      "filename: InterpolationAccelerometerMichalSitting3.csv p1: 4.0 p2: 135.0\n",
      "filename: InterpolationAccelerometerMichalSitting2.csv p1: 4.0 p2: 128.0\n",
      "filename: InterpolationAccelerometerMichalSitting.csv p1: 4.0 p2: 236.0\n",
      "filename: InterpolationAccelerometerMichalDownstairs2.csv p1: 4.5 p2: 49.0\n",
      "filename: InterpolationAccelerometerMichalDownstairs.csv p1: 2.2 p2: 45.7\n",
      "SVC_p5\n",
      "filename: InterpolationAccelerometerKubaDownstairs3Apple.csv p1: 3.4 p2: 75.0\n",
      "filename: InterpolationAccelerometerKubaDownstairs2Apple.csv p1: 4.0 p2: 69.0\n",
      "filename: InterpolationAccelerometerKubaSquatsApple.csv p1: 3.8 p2: 124.0\n",
      "filename: InterpolationAccelerometerKubaSittingApple.csv p1: 4.8 p2: 332.0\n",
      "filename: InterpolationAccelerometerKubaSquats2Apple.csv p1: 7.6 p2: 132.3\n",
      "filename: InterpolationAccelerometerKubaSquats3Apple.csv p1: 3.9 p2: 126.1\n",
      "filename: InterpolationAccelerometerKubaStanding2Apple.csv p1: 3.2 p2: 127.6\n",
      "filename: InterpolationAccelerometerKubaStanding3Apple.csv p1: 5.0 p2: 125.0\n",
      "filename: InterpolationAccelerometerKubaWalking2Apple.csv p1: 4.6 p2: 579.6\n",
      "filename: InterpolationAccelerometerKubaDownstairsApple.csv p1: 10.4 p2: 71.5\n",
      "filename: InterpolationAccelerometerKubaSitting2Apple.csv p1: 4.7 p2: 295.3\n",
      "filename: InterpolationAccelerometerKubaUpstairsApple.csv p1: 3.3 p2: 67.0\n",
      "filename: InterpolationAccelerometerKubaWalkingApple.csv p1: 3.5 p2: 340.2\n",
      "filename: InterpolationAccelerometerKubaStandingApple.csv p1: 3.3 p2: 124.5\n",
      "filename: InterpolationAccelerometerKubaUpstairs2Apple.csv p1: 3.3 p2: 81.6\n",
      "filename: InterpolationAccelerometerKubaLying3Apple.csv p1: 8.6 p2: 233.5\n",
      "filename: InterpolationAccelerometerKubaLying2Apple.csv p1: 4.0 p2: 96.2\n",
      "filename: InterpolationAccelerometerKubaLyingApple.csv p1: 5.0 p2: 164.1\n",
      "filename: InterpolationAccelerometerKasperDownstairsApple.csv p1: 0.5 p2: 85.8\n",
      "filename: InterpolationAccelerometerKasperSittingApple.csv p1: 15.2 p2: 227.6\n",
      "filename: InterpolationAccelerometerKasperStandingApple.csv p1: 6.0 p2: 190.0\n",
      "filename: InterpolationAccelerometerKasperUpstairsApple.csv p1: 3.3 p2: 95.9\n",
      "filename: InterpolationAccelerometerKasperWalkingApple.csv p1: 3.4 p2: 219.6\n",
      "filename: InterpolationAccelerometerUserOrientationDownstairs2Apple.csv p1: 1.6 p2: 40.4\n",
      "filename: InterpolationAccelerometerUserOrientationDownstairs3Apple.csv p1: 0.3 p2: 38.8\n",
      "filename: InterpolationAccelerometerUserOrientationJogging2Apple.csv p1: 3.8 p2: 56.0\n",
      "filename: InterpolationAccelerometerUserOrientationJogging3Apple.csv p1: 3.0 p2: 38.35\n",
      "filename: InterpolationAccelerometerUserOrientationLying2Apple.csv p1: 3.4 p2: 109.4\n",
      "filename: InterpolationAccelerometerUserOrientationLying3Apple.csv p1: 5.0 p2: 185.9\n",
      "filename: InterpolationAccelerometerUserOrientationLyingApple.csv p1: 7.0 p2: 122.0\n",
      "filename: InterpolationAccelerometerUserOrientationSitting2Apple.csv p1: 5.9 p2: 130.9\n",
      "filename: InterpolationAccelerometerUserOrientationSitting3Apple.csv p1: 16.7 p2: 241.2\n",
      "filename: InterpolationAccelerometerUserOrientationSitting4Apple.csv p1: 9.4 p2: 155.7\n",
      "filename: InterpolationAccelerometerUserOrientationSquats2Apple.csv p1: 1.7 p2: 21.1\n",
      "filename: InterpolationAccelerometerUserOrientationSquatsApple.csv p1: 2.0 p2: 21.5\n",
      "filename: InterpolationAccelerometerUserOrientationStanding2Apple.csv p1: 3.0 p2: 44.0\n",
      "filename: InterpolationAccelerometerUserOrientationUpstairs2Apple.csv p1: 2.3 p2: 67.2\n",
      "filename: InterpolationAccelerometerUserOrientationUpstairs3Apple.csv p1: 1.7 p2: 36.1\n",
      "filename: InterpolationAccelerometerUserOrientationUpstairsApple.csv p1: 3.1 p2: 38.1\n",
      "filename: InterpolationAccelerometerUserOrientationWalking2Apple.csv p1: 7.7 p2: 817.3\n",
      "filename: InterpolationAccelerometerUserOrientationWalkingApple.csv p1: 6.9 p2: 698.9\n",
      "filename: InterpolationAccelerometerWiktorDownstairs2Apple.csv p1: 6.2 p2: 65.6\n",
      "filename: InterpolationAccelerometerWiktorDownstairs3Apple.csv p1: 2.4 p2: 56.5\n",
      "filename: InterpolationAccelerometerWiktorDownstairsApple.csv p1: 2.1 p2: 58.6\n",
      "filename: InterpolationAccelerometerWiktorJoggingApple.csv p1: 3.4 p2: 135.4\n",
      "filename: InterpolationAccelerometerWiktorLyingApple.csv p1: 7.3 p2: 161.7\n",
      "filename: InterpolationAccelerometerWiktorSitting2Apple.csv p1: 9.6 p2: 123.7\n",
      "filename: InterpolationAccelerometerWiktorSitting3Apple.csv p1: 4.2 p2: 113.0\n",
      "filename: InterpolationAccelerometerWiktorSitting4Apple.csv p1: 1.8 p2: 127.1\n",
      "filename: InterpolationAccelerometerWiktorSittingApple.csv p1: 5.2 p2: 121.2\n",
      "filename: InterpolationAccelerometerWiktorStanding2Apple.csv p1: 3.0 p2: 138.1\n",
      "filename: InterpolationAccelerometerWiktorStandingApple.csv p1: 5.0 p2: 184.1\n",
      "filename: InterpolationAccelerometerWiktorUpstairsApple.csv p1: 2.5 p2: 64.4\n",
      "filename: InterpolationAccelerometerWiktorWalking2Apple.csv p1: 1.4 p2: 90.2\n",
      "filename: InterpolationAccelerometerWiktorWalking3Apple.csv p1: 1.4 p2: 118.5\n",
      "filename: InterpolationAccelerometerWiktorWalkingApple.csv p1: 2.2 p2: 127.6\n",
      "filename: InterpolationAccelerometerKarolJogging.csv p1: 2.9 p2: 130.4\n",
      "filename: InterpolationAccelerometerKarolJogging2.csv p1: 2.1 p2: 133.3\n",
      "filename: InterpolationAccelerometerKarolWalking.csv p1: 2.0 p2: 128.5\n",
      "filename: InterpolationAccelerometerKarolWalking2.csv p1: 2.7 p2: 130.3\n",
      "filename: InterpolationAccelerometerKarolSquats.csv p1: 2.7 p2: 128.3\n",
      "filename: InterpolationAccelerometerKarolUpstairs.csv p1: 2.6 p2: 111.7\n",
      "filename: InterpolationAccelerometerKarolUpstairs2.csv p1: 2.4 p2: 113.8\n",
      "filename: InterpolationAccelerometerKarolDownstairs.csv p1: 3.8 p2: 99.8\n",
      "filename: InterpolationAccelerometerKarolDownstairs2.csv p1: 2.3 p2: 99.0\n",
      "filename: InterpolationAccelerometerMichalWalking5.csv p1: 4.0 p2: 119.0\n",
      "filename: InterpolationAccelerometerMichalWalking3.csv p1: 6.0 p2: 142.0\n",
      "filename: InterpolationAccelerometerMichalUpstairs3.csv p1: 7.0 p2: 42.5\n",
      "filename: InterpolationAccelerometerMichalUpstairs2.csv p1: 7.0 p2: 28.0\n",
      "filename: InterpolationAccelerometerMichalUpstairs.csv p1: 4.1 p2: 35.0\n",
      "filename: InterpolationAccelerometerMichalSquats4.csv p1: 4.0 p2: 93.7\n",
      "filename: InterpolationAccelerometerMichalSquats3.csv p1: 5.5 p2: 129.0\n",
      "filename: InterpolationAccelerometerMichalSquats2.csv p1: 4.5 p2: 124.7\n",
      "filename: InterpolationAccelerometerMichalSquats.csv p1: 4.0 p2: 118.0\n",
      "filename: InterpolationAccelerometerMichalSitting6.csv p1: 4.0 p2: 170.0\n",
      "filename: InterpolationAccelerometerMichalSitting5.csv p1: 5.0 p2: 95.0\n",
      "filename: InterpolationAccelerometerMichalSitting4.csv p1: 5.0 p2: 170.0\n",
      "filename: InterpolationAccelerometerMichalSitting3.csv p1: 4.0 p2: 135.0\n",
      "filename: InterpolationAccelerometerMichalSitting2.csv p1: 4.0 p2: 128.0\n",
      "filename: InterpolationAccelerometerMichalSitting.csv p1: 4.0 p2: 236.0\n",
      "filename: InterpolationAccelerometerMichalDownstairs2.csv p1: 4.5 p2: 49.0\n",
      "filename: InterpolationAccelerometerMichalDownstairs.csv p1: 2.2 p2: 45.7\n",
      "SVC_p4\n",
      "filename: InterpolationAccelerometerKubaDownstairs3Apple.csv p1: 3.4 p2: 75.0\n",
      "filename: InterpolationAccelerometerKubaDownstairs2Apple.csv p1: 4.0 p2: 69.0\n",
      "filename: InterpolationAccelerometerKubaSquatsApple.csv p1: 3.8 p2: 124.0\n",
      "filename: InterpolationAccelerometerKubaSittingApple.csv p1: 4.8 p2: 332.0\n",
      "filename: InterpolationAccelerometerKubaSquats2Apple.csv p1: 7.6 p2: 132.3\n",
      "filename: InterpolationAccelerometerKubaSquats3Apple.csv p1: 3.9 p2: 126.1\n",
      "filename: InterpolationAccelerometerKubaStanding2Apple.csv p1: 3.2 p2: 127.6\n",
      "filename: InterpolationAccelerometerKubaStanding3Apple.csv p1: 5.0 p2: 125.0\n",
      "filename: InterpolationAccelerometerKubaWalking2Apple.csv p1: 4.6 p2: 579.6\n",
      "filename: InterpolationAccelerometerKubaDownstairsApple.csv p1: 10.4 p2: 71.5\n",
      "filename: InterpolationAccelerometerKubaSitting2Apple.csv p1: 4.7 p2: 295.3\n",
      "filename: InterpolationAccelerometerKubaUpstairsApple.csv p1: 3.3 p2: 67.0\n",
      "filename: InterpolationAccelerometerKubaWalkingApple.csv p1: 3.5 p2: 340.2\n",
      "filename: InterpolationAccelerometerKubaStandingApple.csv p1: 3.3 p2: 124.5\n",
      "filename: InterpolationAccelerometerKubaUpstairs2Apple.csv p1: 3.3 p2: 81.6\n",
      "filename: InterpolationAccelerometerKubaLying3Apple.csv p1: 8.6 p2: 233.5\n",
      "filename: InterpolationAccelerometerKubaLying2Apple.csv p1: 4.0 p2: 96.2\n",
      "filename: InterpolationAccelerometerKubaLyingApple.csv p1: 5.0 p2: 164.1\n",
      "filename: InterpolationAccelerometerKasperDownstairsApple.csv p1: 0.5 p2: 85.8\n",
      "filename: InterpolationAccelerometerKasperSittingApple.csv p1: 15.2 p2: 227.6\n",
      "filename: InterpolationAccelerometerKasperStandingApple.csv p1: 6.0 p2: 190.0\n",
      "filename: InterpolationAccelerometerKasperUpstairsApple.csv p1: 3.3 p2: 95.9\n",
      "filename: InterpolationAccelerometerKasperWalkingApple.csv p1: 3.4 p2: 219.6\n",
      "filename: InterpolationAccelerometerUserOrientationDownstairs2Apple.csv p1: 1.6 p2: 40.4\n",
      "filename: InterpolationAccelerometerUserOrientationDownstairs3Apple.csv p1: 0.3 p2: 38.8\n",
      "filename: InterpolationAccelerometerUserOrientationJogging2Apple.csv p1: 3.8 p2: 56.0\n",
      "filename: InterpolationAccelerometerUserOrientationJogging3Apple.csv p1: 3.0 p2: 38.35\n",
      "filename: InterpolationAccelerometerUserOrientationLying2Apple.csv p1: 3.4 p2: 109.4\n",
      "filename: InterpolationAccelerometerUserOrientationLying3Apple.csv p1: 5.0 p2: 185.9\n",
      "filename: InterpolationAccelerometerUserOrientationLyingApple.csv p1: 7.0 p2: 122.0\n",
      "filename: InterpolationAccelerometerUserOrientationSitting2Apple.csv p1: 5.9 p2: 130.9\n",
      "filename: InterpolationAccelerometerUserOrientationSitting3Apple.csv p1: 16.7 p2: 241.2\n",
      "filename: InterpolationAccelerometerUserOrientationSitting4Apple.csv p1: 9.4 p2: 155.7\n",
      "filename: InterpolationAccelerometerUserOrientationSquats2Apple.csv p1: 1.7 p2: 21.1\n",
      "filename: InterpolationAccelerometerUserOrientationSquatsApple.csv p1: 2.0 p2: 21.5\n",
      "filename: InterpolationAccelerometerUserOrientationStanding2Apple.csv p1: 3.0 p2: 44.0\n",
      "filename: InterpolationAccelerometerUserOrientationUpstairs2Apple.csv p1: 2.3 p2: 67.2\n",
      "filename: InterpolationAccelerometerUserOrientationUpstairs3Apple.csv p1: 1.7 p2: 36.1\n",
      "filename: InterpolationAccelerometerUserOrientationUpstairsApple.csv p1: 3.1 p2: 38.1\n",
      "filename: InterpolationAccelerometerUserOrientationWalking2Apple.csv p1: 7.7 p2: 817.3\n",
      "filename: InterpolationAccelerometerUserOrientationWalkingApple.csv p1: 6.9 p2: 698.9\n",
      "filename: InterpolationAccelerometerWiktorDownstairs2Apple.csv p1: 6.2 p2: 65.6\n",
      "filename: InterpolationAccelerometerWiktorDownstairs3Apple.csv p1: 2.4 p2: 56.5\n",
      "filename: InterpolationAccelerometerWiktorDownstairsApple.csv p1: 2.1 p2: 58.6\n",
      "filename: InterpolationAccelerometerWiktorJoggingApple.csv p1: 3.4 p2: 135.4\n",
      "filename: InterpolationAccelerometerWiktorLyingApple.csv p1: 7.3 p2: 161.7\n",
      "filename: InterpolationAccelerometerWiktorSitting2Apple.csv p1: 9.6 p2: 123.7\n",
      "filename: InterpolationAccelerometerWiktorSitting3Apple.csv p1: 4.2 p2: 113.0\n",
      "filename: InterpolationAccelerometerWiktorSitting4Apple.csv p1: 1.8 p2: 127.1\n",
      "filename: InterpolationAccelerometerWiktorSittingApple.csv p1: 5.2 p2: 121.2\n",
      "filename: InterpolationAccelerometerWiktorStanding2Apple.csv p1: 3.0 p2: 138.1\n",
      "filename: InterpolationAccelerometerWiktorStandingApple.csv p1: 5.0 p2: 184.1\n",
      "filename: InterpolationAccelerometerWiktorUpstairsApple.csv p1: 2.5 p2: 64.4\n",
      "filename: InterpolationAccelerometerWiktorWalking2Apple.csv p1: 1.4 p2: 90.2\n",
      "filename: InterpolationAccelerometerWiktorWalking3Apple.csv p1: 1.4 p2: 118.5\n",
      "filename: InterpolationAccelerometerWiktorWalkingApple.csv p1: 2.2 p2: 127.6\n",
      "filename: InterpolationAccelerometerKarolJogging.csv p1: 2.9 p2: 130.4\n",
      "filename: InterpolationAccelerometerKarolJogging2.csv p1: 2.1 p2: 133.3\n",
      "filename: InterpolationAccelerometerKarolWalking.csv p1: 2.0 p2: 128.5\n",
      "filename: InterpolationAccelerometerKarolWalking2.csv p1: 2.7 p2: 130.3\n",
      "filename: InterpolationAccelerometerKarolSquats.csv p1: 2.7 p2: 128.3\n",
      "filename: InterpolationAccelerometerKarolUpstairs.csv p1: 2.6 p2: 111.7\n",
      "filename: InterpolationAccelerometerKarolUpstairs2.csv p1: 2.4 p2: 113.8\n",
      "filename: InterpolationAccelerometerKarolDownstairs.csv p1: 3.8 p2: 99.8\n",
      "filename: InterpolationAccelerometerKarolDownstairs2.csv p1: 2.3 p2: 99.0\n",
      "filename: InterpolationAccelerometerMichalWalking5.csv p1: 4.0 p2: 119.0\n",
      "filename: InterpolationAccelerometerMichalWalking3.csv p1: 6.0 p2: 142.0\n",
      "filename: InterpolationAccelerometerMichalUpstairs3.csv p1: 7.0 p2: 42.5\n",
      "filename: InterpolationAccelerometerMichalUpstairs2.csv p1: 7.0 p2: 28.0\n",
      "filename: InterpolationAccelerometerMichalUpstairs.csv p1: 4.1 p2: 35.0\n",
      "filename: InterpolationAccelerometerMichalSquats4.csv p1: 4.0 p2: 93.7\n",
      "filename: InterpolationAccelerometerMichalSquats3.csv p1: 5.5 p2: 129.0\n",
      "filename: InterpolationAccelerometerMichalSquats2.csv p1: 4.5 p2: 124.7\n",
      "filename: InterpolationAccelerometerMichalSquats.csv p1: 4.0 p2: 118.0\n",
      "filename: InterpolationAccelerometerMichalSitting6.csv p1: 4.0 p2: 170.0\n",
      "filename: InterpolationAccelerometerMichalSitting5.csv p1: 5.0 p2: 95.0\n",
      "filename: InterpolationAccelerometerMichalSitting4.csv p1: 5.0 p2: 170.0\n",
      "filename: InterpolationAccelerometerMichalSitting3.csv p1: 4.0 p2: 135.0\n",
      "filename: InterpolationAccelerometerMichalSitting2.csv p1: 4.0 p2: 128.0\n",
      "filename: InterpolationAccelerometerMichalSitting.csv p1: 4.0 p2: 236.0\n",
      "filename: InterpolationAccelerometerMichalDownstairs2.csv p1: 4.5 p2: 49.0\n",
      "filename: InterpolationAccelerometerMichalDownstairs.csv p1: 2.2 p2: 45.7\n",
      "SVC_p3\n",
      "filename: InterpolationAccelerometerKubaDownstairs3Apple.csv p1: 3.4 p2: 75.0\n",
      "filename: InterpolationAccelerometerKubaDownstairs2Apple.csv p1: 4.0 p2: 69.0\n",
      "filename: InterpolationAccelerometerKubaSquatsApple.csv p1: 3.8 p2: 124.0\n",
      "filename: InterpolationAccelerometerKubaSittingApple.csv p1: 4.8 p2: 332.0\n",
      "filename: InterpolationAccelerometerKubaSquats2Apple.csv p1: 7.6 p2: 132.3\n",
      "filename: InterpolationAccelerometerKubaSquats3Apple.csv p1: 3.9 p2: 126.1\n",
      "filename: InterpolationAccelerometerKubaStanding2Apple.csv p1: 3.2 p2: 127.6\n",
      "filename: InterpolationAccelerometerKubaStanding3Apple.csv p1: 5.0 p2: 125.0\n",
      "filename: InterpolationAccelerometerKubaWalking2Apple.csv p1: 4.6 p2: 579.6\n",
      "filename: InterpolationAccelerometerKubaDownstairsApple.csv p1: 10.4 p2: 71.5\n",
      "filename: InterpolationAccelerometerKubaSitting2Apple.csv p1: 4.7 p2: 295.3\n",
      "filename: InterpolationAccelerometerKubaUpstairsApple.csv p1: 3.3 p2: 67.0\n",
      "filename: InterpolationAccelerometerKubaWalkingApple.csv p1: 3.5 p2: 340.2\n",
      "filename: InterpolationAccelerometerKubaStandingApple.csv p1: 3.3 p2: 124.5\n",
      "filename: InterpolationAccelerometerKubaUpstairs2Apple.csv p1: 3.3 p2: 81.6\n",
      "filename: InterpolationAccelerometerKubaLying3Apple.csv p1: 8.6 p2: 233.5\n",
      "filename: InterpolationAccelerometerKubaLying2Apple.csv p1: 4.0 p2: 96.2\n",
      "filename: InterpolationAccelerometerKubaLyingApple.csv p1: 5.0 p2: 164.1\n",
      "filename: InterpolationAccelerometerKasperDownstairsApple.csv p1: 0.5 p2: 85.8\n",
      "filename: InterpolationAccelerometerKasperSittingApple.csv p1: 15.2 p2: 227.6\n",
      "filename: InterpolationAccelerometerKasperStandingApple.csv p1: 6.0 p2: 190.0\n",
      "filename: InterpolationAccelerometerKasperUpstairsApple.csv p1: 3.3 p2: 95.9\n",
      "filename: InterpolationAccelerometerKasperWalkingApple.csv p1: 3.4 p2: 219.6\n",
      "filename: InterpolationAccelerometerUserOrientationDownstairs2Apple.csv p1: 1.6 p2: 40.4\n",
      "filename: InterpolationAccelerometerUserOrientationDownstairs3Apple.csv p1: 0.3 p2: 38.8\n",
      "filename: InterpolationAccelerometerUserOrientationJogging2Apple.csv p1: 3.8 p2: 56.0\n",
      "filename: InterpolationAccelerometerUserOrientationJogging3Apple.csv p1: 3.0 p2: 38.35\n",
      "filename: InterpolationAccelerometerUserOrientationLying2Apple.csv p1: 3.4 p2: 109.4\n",
      "filename: InterpolationAccelerometerUserOrientationLying3Apple.csv p1: 5.0 p2: 185.9\n",
      "filename: InterpolationAccelerometerUserOrientationLyingApple.csv p1: 7.0 p2: 122.0\n",
      "filename: InterpolationAccelerometerUserOrientationSitting2Apple.csv p1: 5.9 p2: 130.9\n",
      "filename: InterpolationAccelerometerUserOrientationSitting3Apple.csv p1: 16.7 p2: 241.2\n",
      "filename: InterpolationAccelerometerUserOrientationSitting4Apple.csv p1: 9.4 p2: 155.7\n",
      "filename: InterpolationAccelerometerUserOrientationSquats2Apple.csv p1: 1.7 p2: 21.1\n",
      "filename: InterpolationAccelerometerUserOrientationSquatsApple.csv p1: 2.0 p2: 21.5\n",
      "filename: InterpolationAccelerometerUserOrientationStanding2Apple.csv p1: 3.0 p2: 44.0\n",
      "filename: InterpolationAccelerometerUserOrientationUpstairs2Apple.csv p1: 2.3 p2: 67.2\n",
      "filename: InterpolationAccelerometerUserOrientationUpstairs3Apple.csv p1: 1.7 p2: 36.1\n",
      "filename: InterpolationAccelerometerUserOrientationUpstairsApple.csv p1: 3.1 p2: 38.1\n",
      "filename: InterpolationAccelerometerUserOrientationWalking2Apple.csv p1: 7.7 p2: 817.3\n",
      "filename: InterpolationAccelerometerUserOrientationWalkingApple.csv p1: 6.9 p2: 698.9\n",
      "filename: InterpolationAccelerometerWiktorDownstairs2Apple.csv p1: 6.2 p2: 65.6\n",
      "filename: InterpolationAccelerometerWiktorDownstairs3Apple.csv p1: 2.4 p2: 56.5\n",
      "filename: InterpolationAccelerometerWiktorDownstairsApple.csv p1: 2.1 p2: 58.6\n",
      "filename: InterpolationAccelerometerWiktorJoggingApple.csv p1: 3.4 p2: 135.4\n",
      "filename: InterpolationAccelerometerWiktorLyingApple.csv p1: 7.3 p2: 161.7\n",
      "filename: InterpolationAccelerometerWiktorSitting2Apple.csv p1: 9.6 p2: 123.7\n",
      "filename: InterpolationAccelerometerWiktorSitting3Apple.csv p1: 4.2 p2: 113.0\n",
      "filename: InterpolationAccelerometerWiktorSitting4Apple.csv p1: 1.8 p2: 127.1\n",
      "filename: InterpolationAccelerometerWiktorSittingApple.csv p1: 5.2 p2: 121.2\n",
      "filename: InterpolationAccelerometerWiktorStanding2Apple.csv p1: 3.0 p2: 138.1\n",
      "filename: InterpolationAccelerometerWiktorStandingApple.csv p1: 5.0 p2: 184.1\n",
      "filename: InterpolationAccelerometerWiktorUpstairsApple.csv p1: 2.5 p2: 64.4\n",
      "filename: InterpolationAccelerometerWiktorWalking2Apple.csv p1: 1.4 p2: 90.2\n",
      "filename: InterpolationAccelerometerWiktorWalking3Apple.csv p1: 1.4 p2: 118.5\n",
      "filename: InterpolationAccelerometerWiktorWalkingApple.csv p1: 2.2 p2: 127.6\n",
      "filename: InterpolationAccelerometerKarolJogging.csv p1: 2.9 p2: 130.4\n",
      "filename: InterpolationAccelerometerKarolJogging2.csv p1: 2.1 p2: 133.3\n",
      "filename: InterpolationAccelerometerKarolWalking.csv p1: 2.0 p2: 128.5\n",
      "filename: InterpolationAccelerometerKarolWalking2.csv p1: 2.7 p2: 130.3\n",
      "filename: InterpolationAccelerometerKarolSquats.csv p1: 2.7 p2: 128.3\n",
      "filename: InterpolationAccelerometerKarolUpstairs.csv p1: 2.6 p2: 111.7\n",
      "filename: InterpolationAccelerometerKarolUpstairs2.csv p1: 2.4 p2: 113.8\n",
      "filename: InterpolationAccelerometerKarolDownstairs.csv p1: 3.8 p2: 99.8\n",
      "filename: InterpolationAccelerometerKarolDownstairs2.csv p1: 2.3 p2: 99.0\n",
      "filename: InterpolationAccelerometerMichalWalking5.csv p1: 4.0 p2: 119.0\n",
      "filename: InterpolationAccelerometerMichalWalking3.csv p1: 6.0 p2: 142.0\n",
      "filename: InterpolationAccelerometerMichalUpstairs3.csv p1: 7.0 p2: 42.5\n",
      "filename: InterpolationAccelerometerMichalUpstairs2.csv p1: 7.0 p2: 28.0\n",
      "filename: InterpolationAccelerometerMichalUpstairs.csv p1: 4.1 p2: 35.0\n",
      "filename: InterpolationAccelerometerMichalSquats4.csv p1: 4.0 p2: 93.7\n",
      "filename: InterpolationAccelerometerMichalSquats3.csv p1: 5.5 p2: 129.0\n",
      "filename: InterpolationAccelerometerMichalSquats2.csv p1: 4.5 p2: 124.7\n",
      "filename: InterpolationAccelerometerMichalSquats.csv p1: 4.0 p2: 118.0\n",
      "filename: InterpolationAccelerometerMichalSitting6.csv p1: 4.0 p2: 170.0\n",
      "filename: InterpolationAccelerometerMichalSitting5.csv p1: 5.0 p2: 95.0\n",
      "filename: InterpolationAccelerometerMichalSitting4.csv p1: 5.0 p2: 170.0\n",
      "filename: InterpolationAccelerometerMichalSitting3.csv p1: 4.0 p2: 135.0\n",
      "filename: InterpolationAccelerometerMichalSitting2.csv p1: 4.0 p2: 128.0\n",
      "filename: InterpolationAccelerometerMichalSitting.csv p1: 4.0 p2: 236.0\n",
      "filename: InterpolationAccelerometerMichalDownstairs2.csv p1: 4.5 p2: 49.0\n",
      "filename: InterpolationAccelerometerMichalDownstairs.csv p1: 2.2 p2: 45.7\n",
      "SVC_optimized\n",
      "filename: InterpolationAccelerometerKubaDownstairs3Apple.csv p1: 3.4 p2: 75.0\n",
      "filename: InterpolationAccelerometerKubaDownstairs2Apple.csv p1: 4.0 p2: 69.0\n",
      "filename: InterpolationAccelerometerKubaSquatsApple.csv p1: 3.8 p2: 124.0\n",
      "filename: InterpolationAccelerometerKubaSittingApple.csv p1: 4.8 p2: 332.0\n",
      "filename: InterpolationAccelerometerKubaSquats2Apple.csv p1: 7.6 p2: 132.3\n",
      "filename: InterpolationAccelerometerKubaSquats3Apple.csv p1: 3.9 p2: 126.1\n",
      "filename: InterpolationAccelerometerKubaStanding2Apple.csv p1: 3.2 p2: 127.6\n",
      "filename: InterpolationAccelerometerKubaStanding3Apple.csv p1: 5.0 p2: 125.0\n",
      "filename: InterpolationAccelerometerKubaWalking2Apple.csv p1: 4.6 p2: 579.6\n",
      "filename: InterpolationAccelerometerKubaDownstairsApple.csv p1: 10.4 p2: 71.5\n",
      "filename: InterpolationAccelerometerKubaSitting2Apple.csv p1: 4.7 p2: 295.3\n",
      "filename: InterpolationAccelerometerKubaUpstairsApple.csv p1: 3.3 p2: 67.0\n",
      "filename: InterpolationAccelerometerKubaWalkingApple.csv p1: 3.5 p2: 340.2\n",
      "filename: InterpolationAccelerometerKubaStandingApple.csv p1: 3.3 p2: 124.5\n",
      "filename: InterpolationAccelerometerKubaUpstairs2Apple.csv p1: 3.3 p2: 81.6\n",
      "filename: InterpolationAccelerometerKubaLying3Apple.csv p1: 8.6 p2: 233.5\n",
      "filename: InterpolationAccelerometerKubaLying2Apple.csv p1: 4.0 p2: 96.2\n",
      "filename: InterpolationAccelerometerKubaLyingApple.csv p1: 5.0 p2: 164.1\n",
      "filename: InterpolationAccelerometerKasperDownstairsApple.csv p1: 0.5 p2: 85.8\n",
      "filename: InterpolationAccelerometerKasperSittingApple.csv p1: 15.2 p2: 227.6\n",
      "filename: InterpolationAccelerometerKasperStandingApple.csv p1: 6.0 p2: 190.0\n",
      "filename: InterpolationAccelerometerKasperUpstairsApple.csv p1: 3.3 p2: 95.9\n",
      "filename: InterpolationAccelerometerKasperWalkingApple.csv p1: 3.4 p2: 219.6\n",
      "filename: InterpolationAccelerometerUserOrientationDownstairs2Apple.csv p1: 1.6 p2: 40.4\n",
      "filename: InterpolationAccelerometerUserOrientationDownstairs3Apple.csv p1: 0.3 p2: 38.8\n",
      "filename: InterpolationAccelerometerUserOrientationJogging2Apple.csv p1: 3.8 p2: 56.0\n",
      "filename: InterpolationAccelerometerUserOrientationJogging3Apple.csv p1: 3.0 p2: 38.35\n",
      "filename: InterpolationAccelerometerUserOrientationLying2Apple.csv p1: 3.4 p2: 109.4\n",
      "filename: InterpolationAccelerometerUserOrientationLying3Apple.csv p1: 5.0 p2: 185.9\n",
      "filename: InterpolationAccelerometerUserOrientationLyingApple.csv p1: 7.0 p2: 122.0\n",
      "filename: InterpolationAccelerometerUserOrientationSitting2Apple.csv p1: 5.9 p2: 130.9\n",
      "filename: InterpolationAccelerometerUserOrientationSitting3Apple.csv p1: 16.7 p2: 241.2\n",
      "filename: InterpolationAccelerometerUserOrientationSitting4Apple.csv p1: 9.4 p2: 155.7\n",
      "filename: InterpolationAccelerometerUserOrientationSquats2Apple.csv p1: 1.7 p2: 21.1\n",
      "filename: InterpolationAccelerometerUserOrientationSquatsApple.csv p1: 2.0 p2: 21.5\n",
      "filename: InterpolationAccelerometerUserOrientationStanding2Apple.csv p1: 3.0 p2: 44.0\n",
      "filename: InterpolationAccelerometerUserOrientationUpstairs2Apple.csv p1: 2.3 p2: 67.2\n",
      "filename: InterpolationAccelerometerUserOrientationUpstairs3Apple.csv p1: 1.7 p2: 36.1\n",
      "filename: InterpolationAccelerometerUserOrientationUpstairsApple.csv p1: 3.1 p2: 38.1\n",
      "filename: InterpolationAccelerometerUserOrientationWalking2Apple.csv p1: 7.7 p2: 817.3\n",
      "filename: InterpolationAccelerometerUserOrientationWalkingApple.csv p1: 6.9 p2: 698.9\n",
      "filename: InterpolationAccelerometerWiktorDownstairs2Apple.csv p1: 6.2 p2: 65.6\n",
      "filename: InterpolationAccelerometerWiktorDownstairs3Apple.csv p1: 2.4 p2: 56.5\n",
      "filename: InterpolationAccelerometerWiktorDownstairsApple.csv p1: 2.1 p2: 58.6\n",
      "filename: InterpolationAccelerometerWiktorJoggingApple.csv p1: 3.4 p2: 135.4\n",
      "filename: InterpolationAccelerometerWiktorLyingApple.csv p1: 7.3 p2: 161.7\n",
      "filename: InterpolationAccelerometerWiktorSitting2Apple.csv p1: 9.6 p2: 123.7\n",
      "filename: InterpolationAccelerometerWiktorSitting3Apple.csv p1: 4.2 p2: 113.0\n",
      "filename: InterpolationAccelerometerWiktorSitting4Apple.csv p1: 1.8 p2: 127.1\n",
      "filename: InterpolationAccelerometerWiktorSittingApple.csv p1: 5.2 p2: 121.2\n",
      "filename: InterpolationAccelerometerWiktorStanding2Apple.csv p1: 3.0 p2: 138.1\n",
      "filename: InterpolationAccelerometerWiktorStandingApple.csv p1: 5.0 p2: 184.1\n",
      "filename: InterpolationAccelerometerWiktorUpstairsApple.csv p1: 2.5 p2: 64.4\n",
      "filename: InterpolationAccelerometerWiktorWalking2Apple.csv p1: 1.4 p2: 90.2\n",
      "filename: InterpolationAccelerometerWiktorWalking3Apple.csv p1: 1.4 p2: 118.5\n",
      "filename: InterpolationAccelerometerWiktorWalkingApple.csv p1: 2.2 p2: 127.6\n",
      "filename: InterpolationAccelerometerKarolJogging.csv p1: 2.9 p2: 130.4\n",
      "filename: InterpolationAccelerometerKarolJogging2.csv p1: 2.1 p2: 133.3\n",
      "filename: InterpolationAccelerometerKarolWalking.csv p1: 2.0 p2: 128.5\n",
      "filename: InterpolationAccelerometerKarolWalking2.csv p1: 2.7 p2: 130.3\n",
      "filename: InterpolationAccelerometerKarolSquats.csv p1: 2.7 p2: 128.3\n",
      "filename: InterpolationAccelerometerKarolUpstairs.csv p1: 2.6 p2: 111.7\n",
      "filename: InterpolationAccelerometerKarolUpstairs2.csv p1: 2.4 p2: 113.8\n",
      "filename: InterpolationAccelerometerKarolDownstairs.csv p1: 3.8 p2: 99.8\n",
      "filename: InterpolationAccelerometerKarolDownstairs2.csv p1: 2.3 p2: 99.0\n",
      "filename: InterpolationAccelerometerMichalWalking5.csv p1: 4.0 p2: 119.0\n",
      "filename: InterpolationAccelerometerMichalWalking3.csv p1: 6.0 p2: 142.0\n",
      "filename: InterpolationAccelerometerMichalUpstairs3.csv p1: 7.0 p2: 42.5\n",
      "filename: InterpolationAccelerometerMichalUpstairs2.csv p1: 7.0 p2: 28.0\n",
      "filename: InterpolationAccelerometerMichalUpstairs.csv p1: 4.1 p2: 35.0\n",
      "filename: InterpolationAccelerometerMichalSquats4.csv p1: 4.0 p2: 93.7\n",
      "filename: InterpolationAccelerometerMichalSquats3.csv p1: 5.5 p2: 129.0\n",
      "filename: InterpolationAccelerometerMichalSquats2.csv p1: 4.5 p2: 124.7\n",
      "filename: InterpolationAccelerometerMichalSquats.csv p1: 4.0 p2: 118.0\n",
      "filename: InterpolationAccelerometerMichalSitting6.csv p1: 4.0 p2: 170.0\n",
      "filename: InterpolationAccelerometerMichalSitting5.csv p1: 5.0 p2: 95.0\n",
      "filename: InterpolationAccelerometerMichalSitting4.csv p1: 5.0 p2: 170.0\n",
      "filename: InterpolationAccelerometerMichalSitting3.csv p1: 4.0 p2: 135.0\n",
      "filename: InterpolationAccelerometerMichalSitting2.csv p1: 4.0 p2: 128.0\n",
      "filename: InterpolationAccelerometerMichalSitting.csv p1: 4.0 p2: 236.0\n",
      "filename: InterpolationAccelerometerMichalDownstairs2.csv p1: 4.5 p2: 49.0\n",
      "filename: InterpolationAccelerometerMichalDownstairs.csv p1: 2.2 p2: 45.7\n",
      "RF_default\n",
      "filename: InterpolationAccelerometerKubaDownstairs3Apple.csv p1: 3.4 p2: 75.0\n",
      "filename: InterpolationAccelerometerKubaDownstairs2Apple.csv p1: 4.0 p2: 69.0\n",
      "filename: InterpolationAccelerometerKubaSquatsApple.csv p1: 3.8 p2: 124.0\n",
      "filename: InterpolationAccelerometerKubaSittingApple.csv p1: 4.8 p2: 332.0\n",
      "filename: InterpolationAccelerometerKubaSquats2Apple.csv p1: 7.6 p2: 132.3\n",
      "filename: InterpolationAccelerometerKubaSquats3Apple.csv p1: 3.9 p2: 126.1\n",
      "filename: InterpolationAccelerometerKubaStanding2Apple.csv p1: 3.2 p2: 127.6\n",
      "filename: InterpolationAccelerometerKubaStanding3Apple.csv p1: 5.0 p2: 125.0\n",
      "filename: InterpolationAccelerometerKubaWalking2Apple.csv p1: 4.6 p2: 579.6\n",
      "filename: InterpolationAccelerometerKubaDownstairsApple.csv p1: 10.4 p2: 71.5\n",
      "filename: InterpolationAccelerometerKubaSitting2Apple.csv p1: 4.7 p2: 295.3\n",
      "filename: InterpolationAccelerometerKubaUpstairsApple.csv p1: 3.3 p2: 67.0\n",
      "filename: InterpolationAccelerometerKubaWalkingApple.csv p1: 3.5 p2: 340.2\n",
      "filename: InterpolationAccelerometerKubaStandingApple.csv p1: 3.3 p2: 124.5\n",
      "filename: InterpolationAccelerometerKubaUpstairs2Apple.csv p1: 3.3 p2: 81.6\n",
      "filename: InterpolationAccelerometerKubaLying3Apple.csv p1: 8.6 p2: 233.5\n",
      "filename: InterpolationAccelerometerKubaLying2Apple.csv p1: 4.0 p2: 96.2\n",
      "filename: InterpolationAccelerometerKubaLyingApple.csv p1: 5.0 p2: 164.1\n",
      "filename: InterpolationAccelerometerKasperDownstairsApple.csv p1: 0.5 p2: 85.8\n",
      "filename: InterpolationAccelerometerKasperSittingApple.csv p1: 15.2 p2: 227.6\n",
      "filename: InterpolationAccelerometerKasperStandingApple.csv p1: 6.0 p2: 190.0\n",
      "filename: InterpolationAccelerometerKasperUpstairsApple.csv p1: 3.3 p2: 95.9\n",
      "filename: InterpolationAccelerometerKasperWalkingApple.csv p1: 3.4 p2: 219.6\n",
      "filename: InterpolationAccelerometerUserOrientationDownstairs2Apple.csv p1: 1.6 p2: 40.4\n",
      "filename: InterpolationAccelerometerUserOrientationDownstairs3Apple.csv p1: 0.3 p2: 38.8\n",
      "filename: InterpolationAccelerometerUserOrientationJogging2Apple.csv p1: 3.8 p2: 56.0\n",
      "filename: InterpolationAccelerometerUserOrientationJogging3Apple.csv p1: 3.0 p2: 38.35\n",
      "filename: InterpolationAccelerometerUserOrientationLying2Apple.csv p1: 3.4 p2: 109.4\n",
      "filename: InterpolationAccelerometerUserOrientationLying3Apple.csv p1: 5.0 p2: 185.9\n",
      "filename: InterpolationAccelerometerUserOrientationLyingApple.csv p1: 7.0 p2: 122.0\n",
      "filename: InterpolationAccelerometerUserOrientationSitting2Apple.csv p1: 5.9 p2: 130.9\n",
      "filename: InterpolationAccelerometerUserOrientationSitting3Apple.csv p1: 16.7 p2: 241.2\n",
      "filename: InterpolationAccelerometerUserOrientationSitting4Apple.csv p1: 9.4 p2: 155.7\n",
      "filename: InterpolationAccelerometerUserOrientationSquats2Apple.csv p1: 1.7 p2: 21.1\n",
      "filename: InterpolationAccelerometerUserOrientationSquatsApple.csv p1: 2.0 p2: 21.5\n",
      "filename: InterpolationAccelerometerUserOrientationStanding2Apple.csv p1: 3.0 p2: 44.0\n",
      "filename: InterpolationAccelerometerUserOrientationUpstairs2Apple.csv p1: 2.3 p2: 67.2\n",
      "filename: InterpolationAccelerometerUserOrientationUpstairs3Apple.csv p1: 1.7 p2: 36.1\n",
      "filename: InterpolationAccelerometerUserOrientationUpstairsApple.csv p1: 3.1 p2: 38.1\n",
      "filename: InterpolationAccelerometerUserOrientationWalking2Apple.csv p1: 7.7 p2: 817.3\n",
      "filename: InterpolationAccelerometerUserOrientationWalkingApple.csv p1: 6.9 p2: 698.9\n",
      "filename: InterpolationAccelerometerWiktorDownstairs2Apple.csv p1: 6.2 p2: 65.6\n",
      "filename: InterpolationAccelerometerWiktorDownstairs3Apple.csv p1: 2.4 p2: 56.5\n",
      "filename: InterpolationAccelerometerWiktorDownstairsApple.csv p1: 2.1 p2: 58.6\n",
      "filename: InterpolationAccelerometerWiktorJoggingApple.csv p1: 3.4 p2: 135.4\n",
      "filename: InterpolationAccelerometerWiktorLyingApple.csv p1: 7.3 p2: 161.7\n",
      "filename: InterpolationAccelerometerWiktorSitting2Apple.csv p1: 9.6 p2: 123.7\n",
      "filename: InterpolationAccelerometerWiktorSitting3Apple.csv p1: 4.2 p2: 113.0\n",
      "filename: InterpolationAccelerometerWiktorSitting4Apple.csv p1: 1.8 p2: 127.1\n",
      "filename: InterpolationAccelerometerWiktorSittingApple.csv p1: 5.2 p2: 121.2\n",
      "filename: InterpolationAccelerometerWiktorStanding2Apple.csv p1: 3.0 p2: 138.1\n",
      "filename: InterpolationAccelerometerWiktorStandingApple.csv p1: 5.0 p2: 184.1\n",
      "filename: InterpolationAccelerometerWiktorUpstairsApple.csv p1: 2.5 p2: 64.4\n",
      "filename: InterpolationAccelerometerWiktorWalking2Apple.csv p1: 1.4 p2: 90.2\n",
      "filename: InterpolationAccelerometerWiktorWalking3Apple.csv p1: 1.4 p2: 118.5\n",
      "filename: InterpolationAccelerometerWiktorWalkingApple.csv p1: 2.2 p2: 127.6\n",
      "filename: InterpolationAccelerometerKarolJogging.csv p1: 2.9 p2: 130.4\n",
      "filename: InterpolationAccelerometerKarolJogging2.csv p1: 2.1 p2: 133.3\n",
      "filename: InterpolationAccelerometerKarolWalking.csv p1: 2.0 p2: 128.5\n",
      "filename: InterpolationAccelerometerKarolWalking2.csv p1: 2.7 p2: 130.3\n",
      "filename: InterpolationAccelerometerKarolSquats.csv p1: 2.7 p2: 128.3\n",
      "filename: InterpolationAccelerometerKarolUpstairs.csv p1: 2.6 p2: 111.7\n",
      "filename: InterpolationAccelerometerKarolUpstairs2.csv p1: 2.4 p2: 113.8\n",
      "filename: InterpolationAccelerometerKarolDownstairs.csv p1: 3.8 p2: 99.8\n",
      "filename: InterpolationAccelerometerKarolDownstairs2.csv p1: 2.3 p2: 99.0\n",
      "filename: InterpolationAccelerometerMichalWalking5.csv p1: 4.0 p2: 119.0\n",
      "filename: InterpolationAccelerometerMichalWalking3.csv p1: 6.0 p2: 142.0\n",
      "filename: InterpolationAccelerometerMichalUpstairs3.csv p1: 7.0 p2: 42.5\n",
      "filename: InterpolationAccelerometerMichalUpstairs2.csv p1: 7.0 p2: 28.0\n",
      "filename: InterpolationAccelerometerMichalUpstairs.csv p1: 4.1 p2: 35.0\n",
      "filename: InterpolationAccelerometerMichalSquats4.csv p1: 4.0 p2: 93.7\n",
      "filename: InterpolationAccelerometerMichalSquats3.csv p1: 5.5 p2: 129.0\n",
      "filename: InterpolationAccelerometerMichalSquats2.csv p1: 4.5 p2: 124.7\n",
      "filename: InterpolationAccelerometerMichalSquats.csv p1: 4.0 p2: 118.0\n",
      "filename: InterpolationAccelerometerMichalSitting6.csv p1: 4.0 p2: 170.0\n",
      "filename: InterpolationAccelerometerMichalSitting5.csv p1: 5.0 p2: 95.0\n",
      "filename: InterpolationAccelerometerMichalSitting4.csv p1: 5.0 p2: 170.0\n",
      "filename: InterpolationAccelerometerMichalSitting3.csv p1: 4.0 p2: 135.0\n",
      "filename: InterpolationAccelerometerMichalSitting2.csv p1: 4.0 p2: 128.0\n",
      "filename: InterpolationAccelerometerMichalSitting.csv p1: 4.0 p2: 236.0\n",
      "filename: InterpolationAccelerometerMichalDownstairs2.csv p1: 4.5 p2: 49.0\n",
      "filename: InterpolationAccelerometerMichalDownstairs.csv p1: 2.2 p2: 45.7\n",
      "knn_1\n",
      "filename: InterpolationAccelerometerKubaDownstairs3Apple.csv p1: 3.4 p2: 75.0\n",
      "filename: InterpolationAccelerometerKubaDownstairs2Apple.csv p1: 4.0 p2: 69.0\n",
      "filename: InterpolationAccelerometerKubaSquatsApple.csv p1: 3.8 p2: 124.0\n",
      "filename: InterpolationAccelerometerKubaSittingApple.csv p1: 4.8 p2: 332.0\n",
      "filename: InterpolationAccelerometerKubaSquats2Apple.csv p1: 7.6 p2: 132.3\n",
      "filename: InterpolationAccelerometerKubaSquats3Apple.csv p1: 3.9 p2: 126.1\n",
      "filename: InterpolationAccelerometerKubaStanding2Apple.csv p1: 3.2 p2: 127.6\n",
      "filename: InterpolationAccelerometerKubaStanding3Apple.csv p1: 5.0 p2: 125.0\n",
      "filename: InterpolationAccelerometerKubaWalking2Apple.csv p1: 4.6 p2: 579.6\n",
      "filename: InterpolationAccelerometerKubaDownstairsApple.csv p1: 10.4 p2: 71.5\n",
      "filename: InterpolationAccelerometerKubaSitting2Apple.csv p1: 4.7 p2: 295.3\n",
      "filename: InterpolationAccelerometerKubaUpstairsApple.csv p1: 3.3 p2: 67.0\n",
      "filename: InterpolationAccelerometerKubaWalkingApple.csv p1: 3.5 p2: 340.2\n",
      "filename: InterpolationAccelerometerKubaStandingApple.csv p1: 3.3 p2: 124.5\n",
      "filename: InterpolationAccelerometerKubaUpstairs2Apple.csv p1: 3.3 p2: 81.6\n",
      "filename: InterpolationAccelerometerKubaLying3Apple.csv p1: 8.6 p2: 233.5\n",
      "filename: InterpolationAccelerometerKubaLying2Apple.csv p1: 4.0 p2: 96.2\n",
      "filename: InterpolationAccelerometerKubaLyingApple.csv p1: 5.0 p2: 164.1\n",
      "filename: InterpolationAccelerometerKasperDownstairsApple.csv p1: 0.5 p2: 85.8\n",
      "filename: InterpolationAccelerometerKasperSittingApple.csv p1: 15.2 p2: 227.6\n",
      "filename: InterpolationAccelerometerKasperStandingApple.csv p1: 6.0 p2: 190.0\n",
      "filename: InterpolationAccelerometerKasperUpstairsApple.csv p1: 3.3 p2: 95.9\n",
      "filename: InterpolationAccelerometerKasperWalkingApple.csv p1: 3.4 p2: 219.6\n",
      "filename: InterpolationAccelerometerUserOrientationDownstairs2Apple.csv p1: 1.6 p2: 40.4\n",
      "filename: InterpolationAccelerometerUserOrientationDownstairs3Apple.csv p1: 0.3 p2: 38.8\n",
      "filename: InterpolationAccelerometerUserOrientationJogging2Apple.csv p1: 3.8 p2: 56.0\n",
      "filename: InterpolationAccelerometerUserOrientationJogging3Apple.csv p1: 3.0 p2: 38.35\n",
      "filename: InterpolationAccelerometerUserOrientationLying2Apple.csv p1: 3.4 p2: 109.4\n",
      "filename: InterpolationAccelerometerUserOrientationLying3Apple.csv p1: 5.0 p2: 185.9\n",
      "filename: InterpolationAccelerometerUserOrientationLyingApple.csv p1: 7.0 p2: 122.0\n",
      "filename: InterpolationAccelerometerUserOrientationSitting2Apple.csv p1: 5.9 p2: 130.9\n",
      "filename: InterpolationAccelerometerUserOrientationSitting3Apple.csv p1: 16.7 p2: 241.2\n",
      "filename: InterpolationAccelerometerUserOrientationSitting4Apple.csv p1: 9.4 p2: 155.7\n",
      "filename: InterpolationAccelerometerUserOrientationSquats2Apple.csv p1: 1.7 p2: 21.1\n",
      "filename: InterpolationAccelerometerUserOrientationSquatsApple.csv p1: 2.0 p2: 21.5\n",
      "filename: InterpolationAccelerometerUserOrientationStanding2Apple.csv p1: 3.0 p2: 44.0\n",
      "filename: InterpolationAccelerometerUserOrientationUpstairs2Apple.csv p1: 2.3 p2: 67.2\n",
      "filename: InterpolationAccelerometerUserOrientationUpstairs3Apple.csv p1: 1.7 p2: 36.1\n",
      "filename: InterpolationAccelerometerUserOrientationUpstairsApple.csv p1: 3.1 p2: 38.1\n",
      "filename: InterpolationAccelerometerUserOrientationWalking2Apple.csv p1: 7.7 p2: 817.3\n",
      "filename: InterpolationAccelerometerUserOrientationWalkingApple.csv p1: 6.9 p2: 698.9\n",
      "filename: InterpolationAccelerometerWiktorDownstairs2Apple.csv p1: 6.2 p2: 65.6\n",
      "filename: InterpolationAccelerometerWiktorDownstairs3Apple.csv p1: 2.4 p2: 56.5\n",
      "filename: InterpolationAccelerometerWiktorDownstairsApple.csv p1: 2.1 p2: 58.6\n",
      "filename: InterpolationAccelerometerWiktorJoggingApple.csv p1: 3.4 p2: 135.4\n",
      "filename: InterpolationAccelerometerWiktorLyingApple.csv p1: 7.3 p2: 161.7\n",
      "filename: InterpolationAccelerometerWiktorSitting2Apple.csv p1: 9.6 p2: 123.7\n",
      "filename: InterpolationAccelerometerWiktorSitting3Apple.csv p1: 4.2 p2: 113.0\n",
      "filename: InterpolationAccelerometerWiktorSitting4Apple.csv p1: 1.8 p2: 127.1\n",
      "filename: InterpolationAccelerometerWiktorSittingApple.csv p1: 5.2 p2: 121.2\n",
      "filename: InterpolationAccelerometerWiktorStanding2Apple.csv p1: 3.0 p2: 138.1\n",
      "filename: InterpolationAccelerometerWiktorStandingApple.csv p1: 5.0 p2: 184.1\n",
      "filename: InterpolationAccelerometerWiktorUpstairsApple.csv p1: 2.5 p2: 64.4\n",
      "filename: InterpolationAccelerometerWiktorWalking2Apple.csv p1: 1.4 p2: 90.2\n",
      "filename: InterpolationAccelerometerWiktorWalking3Apple.csv p1: 1.4 p2: 118.5\n",
      "filename: InterpolationAccelerometerWiktorWalkingApple.csv p1: 2.2 p2: 127.6\n",
      "filename: InterpolationAccelerometerKarolJogging.csv p1: 2.9 p2: 130.4\n",
      "filename: InterpolationAccelerometerKarolJogging2.csv p1: 2.1 p2: 133.3\n",
      "filename: InterpolationAccelerometerKarolWalking.csv p1: 2.0 p2: 128.5\n",
      "filename: InterpolationAccelerometerKarolWalking2.csv p1: 2.7 p2: 130.3\n",
      "filename: InterpolationAccelerometerKarolSquats.csv p1: 2.7 p2: 128.3\n",
      "filename: InterpolationAccelerometerKarolUpstairs.csv p1: 2.6 p2: 111.7\n",
      "filename: InterpolationAccelerometerKarolUpstairs2.csv p1: 2.4 p2: 113.8\n",
      "filename: InterpolationAccelerometerKarolDownstairs.csv p1: 3.8 p2: 99.8\n",
      "filename: InterpolationAccelerometerKarolDownstairs2.csv p1: 2.3 p2: 99.0\n",
      "filename: InterpolationAccelerometerMichalWalking5.csv p1: 4.0 p2: 119.0\n",
      "filename: InterpolationAccelerometerMichalWalking3.csv p1: 6.0 p2: 142.0\n",
      "filename: InterpolationAccelerometerMichalUpstairs3.csv p1: 7.0 p2: 42.5\n",
      "filename: InterpolationAccelerometerMichalUpstairs2.csv p1: 7.0 p2: 28.0\n",
      "filename: InterpolationAccelerometerMichalUpstairs.csv p1: 4.1 p2: 35.0\n",
      "filename: InterpolationAccelerometerMichalSquats4.csv p1: 4.0 p2: 93.7\n",
      "filename: InterpolationAccelerometerMichalSquats3.csv p1: 5.5 p2: 129.0\n",
      "filename: InterpolationAccelerometerMichalSquats2.csv p1: 4.5 p2: 124.7\n",
      "filename: InterpolationAccelerometerMichalSquats.csv p1: 4.0 p2: 118.0\n",
      "filename: InterpolationAccelerometerMichalSitting6.csv p1: 4.0 p2: 170.0\n",
      "filename: InterpolationAccelerometerMichalSitting5.csv p1: 5.0 p2: 95.0\n",
      "filename: InterpolationAccelerometerMichalSitting4.csv p1: 5.0 p2: 170.0\n",
      "filename: InterpolationAccelerometerMichalSitting3.csv p1: 4.0 p2: 135.0\n",
      "filename: InterpolationAccelerometerMichalSitting2.csv p1: 4.0 p2: 128.0\n",
      "filename: InterpolationAccelerometerMichalSitting.csv p1: 4.0 p2: 236.0\n",
      "filename: InterpolationAccelerometerMichalDownstairs2.csv p1: 4.5 p2: 49.0\n",
      "filename: InterpolationAccelerometerMichalDownstairs.csv p1: 2.2 p2: 45.7\n",
      "knn_2\n",
      "filename: InterpolationAccelerometerKubaDownstairs3Apple.csv p1: 3.4 p2: 75.0\n",
      "filename: InterpolationAccelerometerKubaDownstairs2Apple.csv p1: 4.0 p2: 69.0\n",
      "filename: InterpolationAccelerometerKubaSquatsApple.csv p1: 3.8 p2: 124.0\n",
      "filename: InterpolationAccelerometerKubaSittingApple.csv p1: 4.8 p2: 332.0\n",
      "filename: InterpolationAccelerometerKubaSquats2Apple.csv p1: 7.6 p2: 132.3\n",
      "filename: InterpolationAccelerometerKubaSquats3Apple.csv p1: 3.9 p2: 126.1\n",
      "filename: InterpolationAccelerometerKubaStanding2Apple.csv p1: 3.2 p2: 127.6\n",
      "filename: InterpolationAccelerometerKubaStanding3Apple.csv p1: 5.0 p2: 125.0\n",
      "filename: InterpolationAccelerometerKubaWalking2Apple.csv p1: 4.6 p2: 579.6\n",
      "filename: InterpolationAccelerometerKubaDownstairsApple.csv p1: 10.4 p2: 71.5\n",
      "filename: InterpolationAccelerometerKubaSitting2Apple.csv p1: 4.7 p2: 295.3\n",
      "filename: InterpolationAccelerometerKubaUpstairsApple.csv p1: 3.3 p2: 67.0\n",
      "filename: InterpolationAccelerometerKubaWalkingApple.csv p1: 3.5 p2: 340.2\n",
      "filename: InterpolationAccelerometerKubaStandingApple.csv p1: 3.3 p2: 124.5\n",
      "filename: InterpolationAccelerometerKubaUpstairs2Apple.csv p1: 3.3 p2: 81.6\n",
      "filename: InterpolationAccelerometerKubaLying3Apple.csv p1: 8.6 p2: 233.5\n",
      "filename: InterpolationAccelerometerKubaLying2Apple.csv p1: 4.0 p2: 96.2\n",
      "filename: InterpolationAccelerometerKubaLyingApple.csv p1: 5.0 p2: 164.1\n",
      "filename: InterpolationAccelerometerKasperDownstairsApple.csv p1: 0.5 p2: 85.8\n",
      "filename: InterpolationAccelerometerKasperSittingApple.csv p1: 15.2 p2: 227.6\n",
      "filename: InterpolationAccelerometerKasperStandingApple.csv p1: 6.0 p2: 190.0\n",
      "filename: InterpolationAccelerometerKasperUpstairsApple.csv p1: 3.3 p2: 95.9\n",
      "filename: InterpolationAccelerometerKasperWalkingApple.csv p1: 3.4 p2: 219.6\n",
      "filename: InterpolationAccelerometerUserOrientationDownstairs2Apple.csv p1: 1.6 p2: 40.4\n",
      "filename: InterpolationAccelerometerUserOrientationDownstairs3Apple.csv p1: 0.3 p2: 38.8\n",
      "filename: InterpolationAccelerometerUserOrientationJogging2Apple.csv p1: 3.8 p2: 56.0\n",
      "filename: InterpolationAccelerometerUserOrientationJogging3Apple.csv p1: 3.0 p2: 38.35\n",
      "filename: InterpolationAccelerometerUserOrientationLying2Apple.csv p1: 3.4 p2: 109.4\n",
      "filename: InterpolationAccelerometerUserOrientationLying3Apple.csv p1: 5.0 p2: 185.9\n",
      "filename: InterpolationAccelerometerUserOrientationLyingApple.csv p1: 7.0 p2: 122.0\n",
      "filename: InterpolationAccelerometerUserOrientationSitting2Apple.csv p1: 5.9 p2: 130.9\n",
      "filename: InterpolationAccelerometerUserOrientationSitting3Apple.csv p1: 16.7 p2: 241.2\n",
      "filename: InterpolationAccelerometerUserOrientationSitting4Apple.csv p1: 9.4 p2: 155.7\n",
      "filename: InterpolationAccelerometerUserOrientationSquats2Apple.csv p1: 1.7 p2: 21.1\n",
      "filename: InterpolationAccelerometerUserOrientationSquatsApple.csv p1: 2.0 p2: 21.5\n",
      "filename: InterpolationAccelerometerUserOrientationStanding2Apple.csv p1: 3.0 p2: 44.0\n",
      "filename: InterpolationAccelerometerUserOrientationUpstairs2Apple.csv p1: 2.3 p2: 67.2\n",
      "filename: InterpolationAccelerometerUserOrientationUpstairs3Apple.csv p1: 1.7 p2: 36.1\n",
      "filename: InterpolationAccelerometerUserOrientationUpstairsApple.csv p1: 3.1 p2: 38.1\n",
      "filename: InterpolationAccelerometerUserOrientationWalking2Apple.csv p1: 7.7 p2: 817.3\n",
      "filename: InterpolationAccelerometerUserOrientationWalkingApple.csv p1: 6.9 p2: 698.9\n",
      "filename: InterpolationAccelerometerWiktorDownstairs2Apple.csv p1: 6.2 p2: 65.6\n",
      "filename: InterpolationAccelerometerWiktorDownstairs3Apple.csv p1: 2.4 p2: 56.5\n",
      "filename: InterpolationAccelerometerWiktorDownstairsApple.csv p1: 2.1 p2: 58.6\n",
      "filename: InterpolationAccelerometerWiktorJoggingApple.csv p1: 3.4 p2: 135.4\n",
      "filename: InterpolationAccelerometerWiktorLyingApple.csv p1: 7.3 p2: 161.7\n",
      "filename: InterpolationAccelerometerWiktorSitting2Apple.csv p1: 9.6 p2: 123.7\n",
      "filename: InterpolationAccelerometerWiktorSitting3Apple.csv p1: 4.2 p2: 113.0\n",
      "filename: InterpolationAccelerometerWiktorSitting4Apple.csv p1: 1.8 p2: 127.1\n",
      "filename: InterpolationAccelerometerWiktorSittingApple.csv p1: 5.2 p2: 121.2\n",
      "filename: InterpolationAccelerometerWiktorStanding2Apple.csv p1: 3.0 p2: 138.1\n",
      "filename: InterpolationAccelerometerWiktorStandingApple.csv p1: 5.0 p2: 184.1\n",
      "filename: InterpolationAccelerometerWiktorUpstairsApple.csv p1: 2.5 p2: 64.4\n",
      "filename: InterpolationAccelerometerWiktorWalking2Apple.csv p1: 1.4 p2: 90.2\n",
      "filename: InterpolationAccelerometerWiktorWalking3Apple.csv p1: 1.4 p2: 118.5\n",
      "filename: InterpolationAccelerometerWiktorWalkingApple.csv p1: 2.2 p2: 127.6\n",
      "filename: InterpolationAccelerometerKarolJogging.csv p1: 2.9 p2: 130.4\n",
      "filename: InterpolationAccelerometerKarolJogging2.csv p1: 2.1 p2: 133.3\n",
      "filename: InterpolationAccelerometerKarolWalking.csv p1: 2.0 p2: 128.5\n",
      "filename: InterpolationAccelerometerKarolWalking2.csv p1: 2.7 p2: 130.3\n",
      "filename: InterpolationAccelerometerKarolSquats.csv p1: 2.7 p2: 128.3\n",
      "filename: InterpolationAccelerometerKarolUpstairs.csv p1: 2.6 p2: 111.7\n",
      "filename: InterpolationAccelerometerKarolUpstairs2.csv p1: 2.4 p2: 113.8\n",
      "filename: InterpolationAccelerometerKarolDownstairs.csv p1: 3.8 p2: 99.8\n",
      "filename: InterpolationAccelerometerKarolDownstairs2.csv p1: 2.3 p2: 99.0\n",
      "filename: InterpolationAccelerometerMichalWalking5.csv p1: 4.0 p2: 119.0\n",
      "filename: InterpolationAccelerometerMichalWalking3.csv p1: 6.0 p2: 142.0\n",
      "filename: InterpolationAccelerometerMichalUpstairs3.csv p1: 7.0 p2: 42.5\n",
      "filename: InterpolationAccelerometerMichalUpstairs2.csv p1: 7.0 p2: 28.0\n",
      "filename: InterpolationAccelerometerMichalUpstairs.csv p1: 4.1 p2: 35.0\n",
      "filename: InterpolationAccelerometerMichalSquats4.csv p1: 4.0 p2: 93.7\n",
      "filename: InterpolationAccelerometerMichalSquats3.csv p1: 5.5 p2: 129.0\n",
      "filename: InterpolationAccelerometerMichalSquats2.csv p1: 4.5 p2: 124.7\n",
      "filename: InterpolationAccelerometerMichalSquats.csv p1: 4.0 p2: 118.0\n",
      "filename: InterpolationAccelerometerMichalSitting6.csv p1: 4.0 p2: 170.0\n",
      "filename: InterpolationAccelerometerMichalSitting5.csv p1: 5.0 p2: 95.0\n",
      "filename: InterpolationAccelerometerMichalSitting4.csv p1: 5.0 p2: 170.0\n",
      "filename: InterpolationAccelerometerMichalSitting3.csv p1: 4.0 p2: 135.0\n",
      "filename: InterpolationAccelerometerMichalSitting2.csv p1: 4.0 p2: 128.0\n",
      "filename: InterpolationAccelerometerMichalSitting.csv p1: 4.0 p2: 236.0\n",
      "filename: InterpolationAccelerometerMichalDownstairs2.csv p1: 4.5 p2: 49.0\n",
      "filename: InterpolationAccelerometerMichalDownstairs.csv p1: 2.2 p2: 45.7\n",
      "knn_3\n",
      "filename: InterpolationAccelerometerKubaDownstairs3Apple.csv p1: 3.4 p2: 75.0\n",
      "filename: InterpolationAccelerometerKubaDownstairs2Apple.csv p1: 4.0 p2: 69.0\n",
      "filename: InterpolationAccelerometerKubaSquatsApple.csv p1: 3.8 p2: 124.0\n",
      "filename: InterpolationAccelerometerKubaSittingApple.csv p1: 4.8 p2: 332.0\n",
      "filename: InterpolationAccelerometerKubaSquats2Apple.csv p1: 7.6 p2: 132.3\n",
      "filename: InterpolationAccelerometerKubaSquats3Apple.csv p1: 3.9 p2: 126.1\n",
      "filename: InterpolationAccelerometerKubaStanding2Apple.csv p1: 3.2 p2: 127.6\n",
      "filename: InterpolationAccelerometerKubaStanding3Apple.csv p1: 5.0 p2: 125.0\n",
      "filename: InterpolationAccelerometerKubaWalking2Apple.csv p1: 4.6 p2: 579.6\n",
      "filename: InterpolationAccelerometerKubaDownstairsApple.csv p1: 10.4 p2: 71.5\n",
      "filename: InterpolationAccelerometerKubaSitting2Apple.csv p1: 4.7 p2: 295.3\n",
      "filename: InterpolationAccelerometerKubaUpstairsApple.csv p1: 3.3 p2: 67.0\n",
      "filename: InterpolationAccelerometerKubaWalkingApple.csv p1: 3.5 p2: 340.2\n",
      "filename: InterpolationAccelerometerKubaStandingApple.csv p1: 3.3 p2: 124.5\n",
      "filename: InterpolationAccelerometerKubaUpstairs2Apple.csv p1: 3.3 p2: 81.6\n",
      "filename: InterpolationAccelerometerKubaLying3Apple.csv p1: 8.6 p2: 233.5\n",
      "filename: InterpolationAccelerometerKubaLying2Apple.csv p1: 4.0 p2: 96.2\n",
      "filename: InterpolationAccelerometerKubaLyingApple.csv p1: 5.0 p2: 164.1\n",
      "filename: InterpolationAccelerometerKasperDownstairsApple.csv p1: 0.5 p2: 85.8\n",
      "filename: InterpolationAccelerometerKasperSittingApple.csv p1: 15.2 p2: 227.6\n",
      "filename: InterpolationAccelerometerKasperStandingApple.csv p1: 6.0 p2: 190.0\n",
      "filename: InterpolationAccelerometerKasperUpstairsApple.csv p1: 3.3 p2: 95.9\n",
      "filename: InterpolationAccelerometerKasperWalkingApple.csv p1: 3.4 p2: 219.6\n",
      "filename: InterpolationAccelerometerUserOrientationDownstairs2Apple.csv p1: 1.6 p2: 40.4\n",
      "filename: InterpolationAccelerometerUserOrientationDownstairs3Apple.csv p1: 0.3 p2: 38.8\n",
      "filename: InterpolationAccelerometerUserOrientationJogging2Apple.csv p1: 3.8 p2: 56.0\n",
      "filename: InterpolationAccelerometerUserOrientationJogging3Apple.csv p1: 3.0 p2: 38.35\n",
      "filename: InterpolationAccelerometerUserOrientationLying2Apple.csv p1: 3.4 p2: 109.4\n",
      "filename: InterpolationAccelerometerUserOrientationLying3Apple.csv p1: 5.0 p2: 185.9\n",
      "filename: InterpolationAccelerometerUserOrientationLyingApple.csv p1: 7.0 p2: 122.0\n",
      "filename: InterpolationAccelerometerUserOrientationSitting2Apple.csv p1: 5.9 p2: 130.9\n",
      "filename: InterpolationAccelerometerUserOrientationSitting3Apple.csv p1: 16.7 p2: 241.2\n",
      "filename: InterpolationAccelerometerUserOrientationSitting4Apple.csv p1: 9.4 p2: 155.7\n",
      "filename: InterpolationAccelerometerUserOrientationSquats2Apple.csv p1: 1.7 p2: 21.1\n",
      "filename: InterpolationAccelerometerUserOrientationSquatsApple.csv p1: 2.0 p2: 21.5\n",
      "filename: InterpolationAccelerometerUserOrientationStanding2Apple.csv p1: 3.0 p2: 44.0\n",
      "filename: InterpolationAccelerometerUserOrientationUpstairs2Apple.csv p1: 2.3 p2: 67.2\n",
      "filename: InterpolationAccelerometerUserOrientationUpstairs3Apple.csv p1: 1.7 p2: 36.1\n",
      "filename: InterpolationAccelerometerUserOrientationUpstairsApple.csv p1: 3.1 p2: 38.1\n",
      "filename: InterpolationAccelerometerUserOrientationWalking2Apple.csv p1: 7.7 p2: 817.3\n",
      "filename: InterpolationAccelerometerUserOrientationWalkingApple.csv p1: 6.9 p2: 698.9\n",
      "filename: InterpolationAccelerometerWiktorDownstairs2Apple.csv p1: 6.2 p2: 65.6\n",
      "filename: InterpolationAccelerometerWiktorDownstairs3Apple.csv p1: 2.4 p2: 56.5\n",
      "filename: InterpolationAccelerometerWiktorDownstairsApple.csv p1: 2.1 p2: 58.6\n",
      "filename: InterpolationAccelerometerWiktorJoggingApple.csv p1: 3.4 p2: 135.4\n",
      "filename: InterpolationAccelerometerWiktorLyingApple.csv p1: 7.3 p2: 161.7\n",
      "filename: InterpolationAccelerometerWiktorSitting2Apple.csv p1: 9.6 p2: 123.7\n",
      "filename: InterpolationAccelerometerWiktorSitting3Apple.csv p1: 4.2 p2: 113.0\n",
      "filename: InterpolationAccelerometerWiktorSitting4Apple.csv p1: 1.8 p2: 127.1\n",
      "filename: InterpolationAccelerometerWiktorSittingApple.csv p1: 5.2 p2: 121.2\n",
      "filename: InterpolationAccelerometerWiktorStanding2Apple.csv p1: 3.0 p2: 138.1\n",
      "filename: InterpolationAccelerometerWiktorStandingApple.csv p1: 5.0 p2: 184.1\n",
      "filename: InterpolationAccelerometerWiktorUpstairsApple.csv p1: 2.5 p2: 64.4\n",
      "filename: InterpolationAccelerometerWiktorWalking2Apple.csv p1: 1.4 p2: 90.2\n",
      "filename: InterpolationAccelerometerWiktorWalking3Apple.csv p1: 1.4 p2: 118.5\n",
      "filename: InterpolationAccelerometerWiktorWalkingApple.csv p1: 2.2 p2: 127.6\n",
      "filename: InterpolationAccelerometerKarolJogging.csv p1: 2.9 p2: 130.4\n",
      "filename: InterpolationAccelerometerKarolJogging2.csv p1: 2.1 p2: 133.3\n",
      "filename: InterpolationAccelerometerKarolWalking.csv p1: 2.0 p2: 128.5\n",
      "filename: InterpolationAccelerometerKarolWalking2.csv p1: 2.7 p2: 130.3\n",
      "filename: InterpolationAccelerometerKarolSquats.csv p1: 2.7 p2: 128.3\n",
      "filename: InterpolationAccelerometerKarolUpstairs.csv p1: 2.6 p2: 111.7\n",
      "filename: InterpolationAccelerometerKarolUpstairs2.csv p1: 2.4 p2: 113.8\n",
      "filename: InterpolationAccelerometerKarolDownstairs.csv p1: 3.8 p2: 99.8\n",
      "filename: InterpolationAccelerometerKarolDownstairs2.csv p1: 2.3 p2: 99.0\n",
      "filename: InterpolationAccelerometerMichalWalking5.csv p1: 4.0 p2: 119.0\n",
      "filename: InterpolationAccelerometerMichalWalking3.csv p1: 6.0 p2: 142.0\n",
      "filename: InterpolationAccelerometerMichalUpstairs3.csv p1: 7.0 p2: 42.5\n",
      "filename: InterpolationAccelerometerMichalUpstairs2.csv p1: 7.0 p2: 28.0\n",
      "filename: InterpolationAccelerometerMichalUpstairs.csv p1: 4.1 p2: 35.0\n",
      "filename: InterpolationAccelerometerMichalSquats4.csv p1: 4.0 p2: 93.7\n",
      "filename: InterpolationAccelerometerMichalSquats3.csv p1: 5.5 p2: 129.0\n",
      "filename: InterpolationAccelerometerMichalSquats2.csv p1: 4.5 p2: 124.7\n",
      "filename: InterpolationAccelerometerMichalSquats.csv p1: 4.0 p2: 118.0\n",
      "filename: InterpolationAccelerometerMichalSitting6.csv p1: 4.0 p2: 170.0\n",
      "filename: InterpolationAccelerometerMichalSitting5.csv p1: 5.0 p2: 95.0\n",
      "filename: InterpolationAccelerometerMichalSitting4.csv p1: 5.0 p2: 170.0\n",
      "filename: InterpolationAccelerometerMichalSitting3.csv p1: 4.0 p2: 135.0\n",
      "filename: InterpolationAccelerometerMichalSitting2.csv p1: 4.0 p2: 128.0\n",
      "filename: InterpolationAccelerometerMichalSitting.csv p1: 4.0 p2: 236.0\n",
      "filename: InterpolationAccelerometerMichalDownstairs2.csv p1: 4.5 p2: 49.0\n",
      "filename: InterpolationAccelerometerMichalDownstairs.csv p1: 2.2 p2: 45.7\n",
      "knn_4\n",
      "filename: InterpolationAccelerometerKubaDownstairs3Apple.csv p1: 3.4 p2: 75.0\n",
      "filename: InterpolationAccelerometerKubaDownstairs2Apple.csv p1: 4.0 p2: 69.0\n",
      "filename: InterpolationAccelerometerKubaSquatsApple.csv p1: 3.8 p2: 124.0\n",
      "filename: InterpolationAccelerometerKubaSittingApple.csv p1: 4.8 p2: 332.0\n",
      "filename: InterpolationAccelerometerKubaSquats2Apple.csv p1: 7.6 p2: 132.3\n",
      "filename: InterpolationAccelerometerKubaSquats3Apple.csv p1: 3.9 p2: 126.1\n",
      "filename: InterpolationAccelerometerKubaStanding2Apple.csv p1: 3.2 p2: 127.6\n",
      "filename: InterpolationAccelerometerKubaStanding3Apple.csv p1: 5.0 p2: 125.0\n",
      "filename: InterpolationAccelerometerKubaWalking2Apple.csv p1: 4.6 p2: 579.6\n",
      "filename: InterpolationAccelerometerKubaDownstairsApple.csv p1: 10.4 p2: 71.5\n",
      "filename: InterpolationAccelerometerKubaSitting2Apple.csv p1: 4.7 p2: 295.3\n",
      "filename: InterpolationAccelerometerKubaUpstairsApple.csv p1: 3.3 p2: 67.0\n",
      "filename: InterpolationAccelerometerKubaWalkingApple.csv p1: 3.5 p2: 340.2\n",
      "filename: InterpolationAccelerometerKubaStandingApple.csv p1: 3.3 p2: 124.5\n",
      "filename: InterpolationAccelerometerKubaUpstairs2Apple.csv p1: 3.3 p2: 81.6\n",
      "filename: InterpolationAccelerometerKubaLying3Apple.csv p1: 8.6 p2: 233.5\n",
      "filename: InterpolationAccelerometerKubaLying2Apple.csv p1: 4.0 p2: 96.2\n",
      "filename: InterpolationAccelerometerKubaLyingApple.csv p1: 5.0 p2: 164.1\n",
      "filename: InterpolationAccelerometerKasperDownstairsApple.csv p1: 0.5 p2: 85.8\n",
      "filename: InterpolationAccelerometerKasperSittingApple.csv p1: 15.2 p2: 227.6\n",
      "filename: InterpolationAccelerometerKasperStandingApple.csv p1: 6.0 p2: 190.0\n",
      "filename: InterpolationAccelerometerKasperUpstairsApple.csv p1: 3.3 p2: 95.9\n",
      "filename: InterpolationAccelerometerKasperWalkingApple.csv p1: 3.4 p2: 219.6\n",
      "filename: InterpolationAccelerometerUserOrientationDownstairs2Apple.csv p1: 1.6 p2: 40.4\n",
      "filename: InterpolationAccelerometerUserOrientationDownstairs3Apple.csv p1: 0.3 p2: 38.8\n",
      "filename: InterpolationAccelerometerUserOrientationJogging2Apple.csv p1: 3.8 p2: 56.0\n",
      "filename: InterpolationAccelerometerUserOrientationJogging3Apple.csv p1: 3.0 p2: 38.35\n",
      "filename: InterpolationAccelerometerUserOrientationLying2Apple.csv p1: 3.4 p2: 109.4\n",
      "filename: InterpolationAccelerometerUserOrientationLying3Apple.csv p1: 5.0 p2: 185.9\n",
      "filename: InterpolationAccelerometerUserOrientationLyingApple.csv p1: 7.0 p2: 122.0\n",
      "filename: InterpolationAccelerometerUserOrientationSitting2Apple.csv p1: 5.9 p2: 130.9\n",
      "filename: InterpolationAccelerometerUserOrientationSitting3Apple.csv p1: 16.7 p2: 241.2\n",
      "filename: InterpolationAccelerometerUserOrientationSitting4Apple.csv p1: 9.4 p2: 155.7\n",
      "filename: InterpolationAccelerometerUserOrientationSquats2Apple.csv p1: 1.7 p2: 21.1\n",
      "filename: InterpolationAccelerometerUserOrientationSquatsApple.csv p1: 2.0 p2: 21.5\n",
      "filename: InterpolationAccelerometerUserOrientationStanding2Apple.csv p1: 3.0 p2: 44.0\n",
      "filename: InterpolationAccelerometerUserOrientationUpstairs2Apple.csv p1: 2.3 p2: 67.2\n",
      "filename: InterpolationAccelerometerUserOrientationUpstairs3Apple.csv p1: 1.7 p2: 36.1\n",
      "filename: InterpolationAccelerometerUserOrientationUpstairsApple.csv p1: 3.1 p2: 38.1\n",
      "filename: InterpolationAccelerometerUserOrientationWalking2Apple.csv p1: 7.7 p2: 817.3\n",
      "filename: InterpolationAccelerometerUserOrientationWalkingApple.csv p1: 6.9 p2: 698.9\n",
      "filename: InterpolationAccelerometerWiktorDownstairs2Apple.csv p1: 6.2 p2: 65.6\n",
      "filename: InterpolationAccelerometerWiktorDownstairs3Apple.csv p1: 2.4 p2: 56.5\n",
      "filename: InterpolationAccelerometerWiktorDownstairsApple.csv p1: 2.1 p2: 58.6\n",
      "filename: InterpolationAccelerometerWiktorJoggingApple.csv p1: 3.4 p2: 135.4\n",
      "filename: InterpolationAccelerometerWiktorLyingApple.csv p1: 7.3 p2: 161.7\n",
      "filename: InterpolationAccelerometerWiktorSitting2Apple.csv p1: 9.6 p2: 123.7\n",
      "filename: InterpolationAccelerometerWiktorSitting3Apple.csv p1: 4.2 p2: 113.0\n",
      "filename: InterpolationAccelerometerWiktorSitting4Apple.csv p1: 1.8 p2: 127.1\n",
      "filename: InterpolationAccelerometerWiktorSittingApple.csv p1: 5.2 p2: 121.2\n",
      "filename: InterpolationAccelerometerWiktorStanding2Apple.csv p1: 3.0 p2: 138.1\n",
      "filename: InterpolationAccelerometerWiktorStandingApple.csv p1: 5.0 p2: 184.1\n",
      "filename: InterpolationAccelerometerWiktorUpstairsApple.csv p1: 2.5 p2: 64.4\n",
      "filename: InterpolationAccelerometerWiktorWalking2Apple.csv p1: 1.4 p2: 90.2\n",
      "filename: InterpolationAccelerometerWiktorWalking3Apple.csv p1: 1.4 p2: 118.5\n",
      "filename: InterpolationAccelerometerWiktorWalkingApple.csv p1: 2.2 p2: 127.6\n",
      "filename: InterpolationAccelerometerKarolJogging.csv p1: 2.9 p2: 130.4\n",
      "filename: InterpolationAccelerometerKarolJogging2.csv p1: 2.1 p2: 133.3\n",
      "filename: InterpolationAccelerometerKarolWalking.csv p1: 2.0 p2: 128.5\n",
      "filename: InterpolationAccelerometerKarolWalking2.csv p1: 2.7 p2: 130.3\n",
      "filename: InterpolationAccelerometerKarolSquats.csv p1: 2.7 p2: 128.3\n",
      "filename: InterpolationAccelerometerKarolUpstairs.csv p1: 2.6 p2: 111.7\n",
      "filename: InterpolationAccelerometerKarolUpstairs2.csv p1: 2.4 p2: 113.8\n",
      "filename: InterpolationAccelerometerKarolDownstairs.csv p1: 3.8 p2: 99.8\n",
      "filename: InterpolationAccelerometerKarolDownstairs2.csv p1: 2.3 p2: 99.0\n",
      "filename: InterpolationAccelerometerMichalWalking5.csv p1: 4.0 p2: 119.0\n",
      "filename: InterpolationAccelerometerMichalWalking3.csv p1: 6.0 p2: 142.0\n",
      "filename: InterpolationAccelerometerMichalUpstairs3.csv p1: 7.0 p2: 42.5\n",
      "filename: InterpolationAccelerometerMichalUpstairs2.csv p1: 7.0 p2: 28.0\n",
      "filename: InterpolationAccelerometerMichalUpstairs.csv p1: 4.1 p2: 35.0\n",
      "filename: InterpolationAccelerometerMichalSquats4.csv p1: 4.0 p2: 93.7\n",
      "filename: InterpolationAccelerometerMichalSquats3.csv p1: 5.5 p2: 129.0\n",
      "filename: InterpolationAccelerometerMichalSquats2.csv p1: 4.5 p2: 124.7\n",
      "filename: InterpolationAccelerometerMichalSquats.csv p1: 4.0 p2: 118.0\n",
      "filename: InterpolationAccelerometerMichalSitting6.csv p1: 4.0 p2: 170.0\n",
      "filename: InterpolationAccelerometerMichalSitting5.csv p1: 5.0 p2: 95.0\n",
      "filename: InterpolationAccelerometerMichalSitting4.csv p1: 5.0 p2: 170.0\n",
      "filename: InterpolationAccelerometerMichalSitting3.csv p1: 4.0 p2: 135.0\n",
      "filename: InterpolationAccelerometerMichalSitting2.csv p1: 4.0 p2: 128.0\n",
      "filename: InterpolationAccelerometerMichalSitting.csv p1: 4.0 p2: 236.0\n",
      "filename: InterpolationAccelerometerMichalDownstairs2.csv p1: 4.5 p2: 49.0\n",
      "filename: InterpolationAccelerometerMichalDownstairs.csv p1: 2.2 p2: 45.7\n"
     ]
    }
   ],
   "source": [
    "for clf, model_name in lista_modeli:\n",
    "    print(model_name)\n",
    "    foldername = \"fourth-run\"\n",
    "    input_data = pd.read_csv('startend_points.csv', sep=';', decimal=\",\")\n",
    "    results = pd.DataFrame()\n",
    "    for idx, row in input_data.iterrows():\n",
    "        if row['filename'] in files_drop:\n",
    "            continue\n",
    "        print(f\"filename: {row['filename']} p1: {row['p1']} p2: {row['p2']}\")\n",
    "        temp = pd.read_csv(os.path.join(foldername, row['filename']))\n",
    "        activity = temp['activity'].unique()[0]\n",
    "        temp = temp[['time','x','y','z','mag']]\n",
    "        temp['time'] = (temp['time'] - temp['time'].iloc[0])/1000000000\n",
    "        windows, labels, window_times = split_dataframe_to_windows(temp, window_length=0.5, p1=row['p1'], p2=row['p2'])\n",
    "        # windows1 = []\n",
    "        # for i, window in enumerate(windows):\n",
    "        #     if i <= len(windows)/2:\n",
    "        #         windows1.append(window)\n",
    "        #     else:\n",
    "        #         windows1.append(window.iloc[::-1])\n",
    "\n",
    "\n",
    "        # rise_times, fall_times = calculate_rise_fall_times_optimized(windows)\n",
    "        # # rise_times1, fall_times1 = duration_above_below_ma(windows1)\n",
    "        # p1 = pd.DataFrame.from_dict(rise_times).reset_index().drop(\"r_mag\", axis=1)\n",
    "        # p2 = pd.DataFrame.from_dict(fall_times).reset_index().drop(\"f_mag\", axis=1)\n",
    "        # # p11 = pd.DataFrame.from_dict(rise_times1).reset_index().drop(\"a_mag\", axis=1)\n",
    "        # # p22 = pd.DataFrame.from_dict(fall_times1).reset_index().drop(\"b_mag\", axis=1)\n",
    "        # X = p1.merge(p2).drop(\"index\", axis=1)\n",
    "        # # X = p1.merge(p2).merge(p11).merge(p22).drop(\"index\", axis=1)\n",
    "        statistics = calculate_statistics_selected(windows)\n",
    "        p1 = pd.DataFrame.from_dict(statistics).reset_index()\n",
    "        X = p1.drop(\"index\", axis=1)\n",
    "\n",
    "        train_idx = get_indexes(window_times, labels, 3.0, 3.0)\n",
    "        clf.fit(X.iloc[train_idx], [labels[i] for i in train_idx])\n",
    "        y_pred = clf.predict(X)\n",
    "        try:\n",
    "            raw_results = precision_recall_fscore_support(labels, y_pred, zero_division=0)\n",
    "            y_pred1 = modify_list(y_pred.tolist())\n",
    "            mod_results = precision_recall_fscore_support(labels, y_pred1, zero_division=0)\n",
    "            y_pred2 = modify_list2(y_pred1)\n",
    "            mod2_results = precision_recall_fscore_support(labels, y_pred2, zero_division=0)\n",
    "            row_result_dict = {'name': row['filename'], 'activity': activity,\n",
    "                          'raw_p0': raw_results[0][0], 'raw_r0': raw_results[0][1], 'raw_p1': raw_results[1][0], 'raw_r1': raw_results[1][1],\n",
    "                          'mod1_p0': mod_results[0][0], 'mod1_r0': mod_results[0][1], 'mod1_p1': mod_results[1][0], 'mod1_r1': mod_results[1][1],\n",
    "                          'mod2_p0': mod2_results[0][0], 'mod2_r0': mod2_results[0][1], 'mod2_p1': mod2_results[1][0], 'mod2_r1': mod2_results[1][1],\n",
    "                          }\n",
    "        except ValueError:\n",
    "            row_result_dict = {'name': row['filename'], 'activity': activity,\n",
    "                          'raw_p0': 0.0, 'raw_r0': 0.0, 'raw_p1': 0.0, 'raw_r1': 0.0,\n",
    "                          'mod1_p0': 0.0, 'mod1_r0': 0.0, 'mod1_p1': 0.0, 'mod1_r1': 0.0,\n",
    "                          'mod2_p0': 0.0, 'mod2_r0': 0.0, 'mod2_p1': 0.0, 'mod2_r1': 0.0,\n",
    "                          }\n",
    "        temp_df = pd.DataFrame(row_result_dict, index=[0])\n",
    "        results = pd.concat([results,temp_df]).reset_index(drop=True)\n",
    "    results.head()\n",
    "    results.to_csv('comparison/'+model_name+'_sel_features.csv', index=False)"
   ],
   "metadata": {
    "collapsed": false
   }
  },
  {
   "cell_type": "code",
   "execution_count": 29,
   "outputs": [
    {
     "data": {
      "text/plain": "                                  filename  zero_rows    raw_p0    raw_r0  \\\n0                Decision_Tree_entropy.csv          0  0.176918  0.973016   \n1   Decision_Tree_entropy_all_features.csv          0  0.542450  0.982454   \n2   Decision_Tree_entropy_sel_features.csv          0  0.511376  0.980840   \n3                   Decision_Tree_Gini.csv          0  0.182177  0.973989   \n4      Decision_Tree_Gini_all_features.csv          0  0.504531  0.983843   \n5      Decision_Tree_Gini_sel_features.csv          0  0.525803  0.981845   \n6                                knn_1.csv          0  0.182160  0.971576   \n7                   knn_1_all_features.csv          0  0.542756  0.978249   \n8                              knn_1_r.csv          0  0.174356  0.970237   \n9                   knn_1_sel_features.csv          0  0.727896  0.979492   \n10                               knn_2.csv          0  0.182160  0.971576   \n11                  knn_2_all_features.csv          0  0.542756  0.978249   \n12                             knn_2_r.csv          0  0.174356  0.970237   \n13                  knn_2_sel_features.csv          0  0.727896  0.979492   \n14                               knn_3.csv          0  0.182160  0.971576   \n15                  knn_3_all_features.csv          0  0.542756  0.978249   \n16                             knn_3_r.csv          0  0.174356  0.970237   \n17                  knn_3_sel_features.csv          0  0.727896  0.979492   \n18                               knn_4.csv          0  0.182160  0.971576   \n19                  knn_4_all_features.csv          0  0.542756  0.978249   \n20                             knn_4_r.csv          0  0.174356  0.970237   \n21                  knn_4_sel_features.csv          0  0.727896  0.979492   \n22                   LinearSVC_default.csv         82       NaN       NaN   \n23      LinearSVC_default_all_features.csv          1  0.415256  0.975862   \n24                 LinearSVC_default_r.csv         82       NaN       NaN   \n25      LinearSVC_default_sel_features.csv         13  0.468825  0.985574   \n26                 Logistic_Regression.csv         50  0.127277  0.945885   \n27    Logistic_Regression_all_features.csv          0  0.608852  0.969236   \n28    Logistic_Regression_sel_features.csv          1  0.812099  0.964854   \n29                          NB_default.csv          0  0.144288  0.945501   \n30             NB_default_all_features.csv          0  0.482063  0.979630   \n31             NB_default_sel_features.csv          0  0.501404  0.978488   \n32                          RF_default.csv          0  0.192059  0.973132   \n33             RF_default_all_features.csv          0  0.699708  0.979352   \n34                        RF_default_r.csv          0  0.188421  0.970808   \n35             RF_default_sel_features.csv          0  0.691929  0.981370   \n36                       SVC_optimized.csv          7  0.123290  0.977837   \n37          SVC_optimized_all_features.csv         82       NaN       NaN   \n38                     SVC_optimized_r.csv          5  0.115080  0.964015   \n39          SVC_optimized_sel_features.csv         82       NaN       NaN   \n40                              SVC_p3.csv          2  0.146835  0.978986   \n41                 SVC_p3_all_features.csv         38  0.164604  0.984630   \n42                            SVC_p3_r.csv          1  0.141458  0.967030   \n43                 SVC_p3_sel_features.csv         51  0.278091  0.983025   \n44                              SVC_p4.csv          1  0.171451  0.978930   \n45                 SVC_p4_all_features.csv         32  0.158443  0.972489   \n46                            SVC_p4_r.csv          0  0.161818  0.969546   \n47                 SVC_p4_sel_features.csv         46  0.256687  0.968464   \n48                              SVC_p5.csv          0  0.176596  0.975626   \n49                 SVC_p5_all_features.csv         28  0.151109  0.971109   \n50                            SVC_p5_r.csv          0  0.166614  0.965547   \n51                 SVC_p5_sel_features.csv         44  0.267729  0.979273   \n\n      raw_p1    raw_r1   mod1_p0   mod1_r0   mod1_p1   mod1_r1   mod2_p0  \\\n0   0.886175  0.583900  0.926618  0.973659  0.803506  0.992164  0.855095   \n1   0.893054  0.872137  0.948903  0.975445  0.837495  0.988735  0.876290   \n2   0.888021  0.867031  0.936674  0.976511  0.840142  0.989411  0.863341   \n3   0.889082  0.582451  0.915151  0.973722  0.805392  0.992257  0.851477   \n4   0.900330  0.866921  0.947730  0.977384  0.851639  0.991006  0.868146   \n5   0.890814  0.878555  0.932758  0.976316  0.842687  0.986026  0.860144   \n6   0.869380  0.615503  0.923263  0.969091  0.756201  0.993442  0.862373   \n7   0.851606  0.898061  0.961093  0.972246  0.795074  0.996731  0.891318   \n8   0.869284  0.599386  0.927301  0.969236  0.769737  0.993214  0.859137   \n9   0.860052  0.942719  0.949038  0.975156  0.828675  0.987797  0.880597   \n10  0.869380  0.615503  0.923263  0.969091  0.756201  0.993442  0.862373   \n11  0.851606  0.898061  0.961093  0.972246  0.795074  0.996731  0.891318   \n12  0.869284  0.599386  0.927301  0.969236  0.769737  0.993214  0.859137   \n13  0.860052  0.942719  0.949038  0.975156  0.828675  0.987797  0.880597   \n14  0.869380  0.615503  0.923263  0.969091  0.756201  0.993442  0.862373   \n15  0.851606  0.898061  0.961093  0.972246  0.795074  0.996731  0.891318   \n16  0.869284  0.599386  0.927301  0.969236  0.769737  0.993214  0.859137   \n17  0.860052  0.942719  0.949038  0.975156  0.828675  0.987797  0.880597   \n18  0.869380  0.615503  0.923263  0.969091  0.756201  0.993442  0.862373   \n19  0.851606  0.898061  0.961093  0.972246  0.795074  0.996731  0.891318   \n20  0.869284  0.599386  0.927301  0.969236  0.769737  0.993214  0.859137   \n21  0.860052  0.942719  0.949038  0.975156  0.828675  0.987797  0.880597   \n22       NaN       NaN       NaN       NaN       NaN       NaN       NaN   \n23  0.878888  0.745147  0.896313  0.975181  0.828743  0.982010  0.838391   \n24       NaN       NaN       NaN       NaN       NaN       NaN       NaN   \n25  0.898274  0.710578  0.855882  0.983795  0.881241  0.977504  0.799684   \n26  0.719480  0.580368  0.920988  0.948192  0.435717  0.995043  0.903866   \n27  0.773537  0.913896  0.970249  0.965142  0.702955  0.997702  0.922522   \n28  0.720200  0.962400  0.963842  0.962131  0.675718  0.992629  0.931991   \n29  0.677407  0.593049  0.962684  0.933254  0.323080  0.996570  0.939460   \n30  0.862220  0.820308  0.760816  0.976521  0.823542  0.912131  0.721146   \n31  0.852772  0.819777  0.762118  0.974863  0.812441  0.911113  0.723825   \n32  0.881545  0.625190  0.928275  0.973532  0.803901  0.991945  0.855318   \n33  0.878226  0.941479  0.969085  0.975286  0.837895  0.997735  0.892877   \n34  0.864408  0.613924  0.926720  0.971769  0.792218  0.994177  0.859373   \n35  0.880237  0.940951  0.965831  0.976632  0.838903  0.997191  0.890812   \n36  0.954211  0.271461  0.674055  0.984104  0.891892  0.916824  0.634235   \n37       NaN       NaN       NaN       NaN       NaN       NaN       NaN   \n38  0.950664  0.249075  0.650273  0.981520  0.889029  0.898021  0.605627   \n39       NaN       NaN       NaN       NaN       NaN       NaN       NaN   \n40  0.930452  0.427780  0.802215  0.980155  0.850538  0.975711  0.745964   \n41  0.959150  0.272763  0.601065  0.987484  0.937238  0.851134  0.566887   \n42  0.930421  0.371673  0.792495  0.978625  0.855085  0.955229  0.732000   \n43  0.907878  0.421746  0.697207  0.983988  0.892853  0.872362  0.660828   \n44  0.905879  0.533255  0.889091  0.976259  0.814221  0.988443  0.825234   \n45  0.959569  0.259981  0.601852  0.985929  0.935140  0.847262  0.566687   \n46  0.885631  0.521651  0.889235  0.974630  0.802437  0.988139  0.822522   \n47  0.921033  0.388530  0.675808  0.978591  0.903435  0.888812  0.642063   \n48  0.887531  0.569721  0.915609  0.970660  0.752322  0.992264  0.853854   \n49  0.962817  0.249331  0.584564  0.987677  0.939831  0.843333  0.551297   \n50  0.853019  0.556456  0.906386  0.968068  0.736651  0.990731  0.845061   \n51  0.920762  0.435915  0.739057  0.983687  0.902336  0.935468  0.700161   \n\n     mod2_r0   mod2_p1   mod2_r1  \n0   0.977833  0.846461  0.984274  \n1   0.980281  0.884936  0.981615  \n2   0.981068  0.883757  0.981933  \n3   0.978109  0.851099  0.984616  \n4   0.981511  0.890933  0.983102  \n5   0.980789  0.885237  0.978526  \n6   0.973972  0.807208  0.986559  \n7   0.977327  0.846312  0.989914  \n8   0.973728  0.815149  0.985905  \n9   0.980268  0.880289  0.980953  \n10  0.973972  0.807208  0.986559  \n11  0.977327  0.846312  0.989914  \n12  0.973728  0.815149  0.985905  \n13  0.980268  0.880289  0.980953  \n14  0.973972  0.807208  0.986559  \n15  0.977327  0.846312  0.989914  \n16  0.973728  0.815149  0.985905  \n17  0.980268  0.880289  0.980953  \n18  0.973972  0.807208  0.986559  \n19  0.977327  0.846312  0.989914  \n20  0.973728  0.815149  0.985905  \n21  0.980268  0.880289  0.980953  \n22       NaN       NaN       NaN  \n23  0.980146  0.877790  0.974872  \n24       NaN       NaN       NaN  \n25  0.987907  0.920705  0.969010  \n26  0.956351  0.537042  0.993390  \n27  0.972384  0.789539  0.993233  \n28  0.970658  0.780216  0.989305  \n29  0.942212  0.436081  0.994420  \n30  0.982288  0.887470  0.905848  \n31  0.980863  0.877941  0.905133  \n32  0.977673  0.845830  0.984041  \n33  0.980179  0.884923  0.990685  \n34  0.976302  0.838783  0.986829  \n35  0.981372  0.886607  0.989934  \n36  0.986191  0.915038  0.907468  \n37       NaN       NaN       NaN  \n38  0.983472  0.907715  0.888754  \n39       NaN       NaN       NaN  \n40  0.983509  0.883430  0.967354  \n41  0.989883  0.958187  0.838147  \n42  0.981849  0.885543  0.945938  \n43  0.986730  0.922406  0.860233  \n44  0.980380  0.856882  0.980356  \n45  0.988975  0.957356  0.835172  \n46  0.978591  0.842007  0.979961  \n47  0.983103  0.934135  0.876454  \n48  0.975131  0.802454  0.984802  \n49  0.990381  0.960538  0.831190  \n50  0.972944  0.786984  0.983799  \n51  0.987703  0.934135  0.923791  ",
      "text/html": "<div>\n<style scoped>\n    .dataframe tbody tr th:only-of-type {\n        vertical-align: middle;\n    }\n\n    .dataframe tbody tr th {\n        vertical-align: top;\n    }\n\n    .dataframe thead th {\n        text-align: right;\n    }\n</style>\n<table border=\"1\" class=\"dataframe\">\n  <thead>\n    <tr style=\"text-align: right;\">\n      <th></th>\n      <th>filename</th>\n      <th>zero_rows</th>\n      <th>raw_p0</th>\n      <th>raw_r0</th>\n      <th>raw_p1</th>\n      <th>raw_r1</th>\n      <th>mod1_p0</th>\n      <th>mod1_r0</th>\n      <th>mod1_p1</th>\n      <th>mod1_r1</th>\n      <th>mod2_p0</th>\n      <th>mod2_r0</th>\n      <th>mod2_p1</th>\n      <th>mod2_r1</th>\n    </tr>\n  </thead>\n  <tbody>\n    <tr>\n      <th>0</th>\n      <td>Decision_Tree_entropy.csv</td>\n      <td>0</td>\n      <td>0.176918</td>\n      <td>0.973016</td>\n      <td>0.886175</td>\n      <td>0.583900</td>\n      <td>0.926618</td>\n      <td>0.973659</td>\n      <td>0.803506</td>\n      <td>0.992164</td>\n      <td>0.855095</td>\n      <td>0.977833</td>\n      <td>0.846461</td>\n      <td>0.984274</td>\n    </tr>\n    <tr>\n      <th>1</th>\n      <td>Decision_Tree_entropy_all_features.csv</td>\n      <td>0</td>\n      <td>0.542450</td>\n      <td>0.982454</td>\n      <td>0.893054</td>\n      <td>0.872137</td>\n      <td>0.948903</td>\n      <td>0.975445</td>\n      <td>0.837495</td>\n      <td>0.988735</td>\n      <td>0.876290</td>\n      <td>0.980281</td>\n      <td>0.884936</td>\n      <td>0.981615</td>\n    </tr>\n    <tr>\n      <th>2</th>\n      <td>Decision_Tree_entropy_sel_features.csv</td>\n      <td>0</td>\n      <td>0.511376</td>\n      <td>0.980840</td>\n      <td>0.888021</td>\n      <td>0.867031</td>\n      <td>0.936674</td>\n      <td>0.976511</td>\n      <td>0.840142</td>\n      <td>0.989411</td>\n      <td>0.863341</td>\n      <td>0.981068</td>\n      <td>0.883757</td>\n      <td>0.981933</td>\n    </tr>\n    <tr>\n      <th>3</th>\n      <td>Decision_Tree_Gini.csv</td>\n      <td>0</td>\n      <td>0.182177</td>\n      <td>0.973989</td>\n      <td>0.889082</td>\n      <td>0.582451</td>\n      <td>0.915151</td>\n      <td>0.973722</td>\n      <td>0.805392</td>\n      <td>0.992257</td>\n      <td>0.851477</td>\n      <td>0.978109</td>\n      <td>0.851099</td>\n      <td>0.984616</td>\n    </tr>\n    <tr>\n      <th>4</th>\n      <td>Decision_Tree_Gini_all_features.csv</td>\n      <td>0</td>\n      <td>0.504531</td>\n      <td>0.983843</td>\n      <td>0.900330</td>\n      <td>0.866921</td>\n      <td>0.947730</td>\n      <td>0.977384</td>\n      <td>0.851639</td>\n      <td>0.991006</td>\n      <td>0.868146</td>\n      <td>0.981511</td>\n      <td>0.890933</td>\n      <td>0.983102</td>\n    </tr>\n    <tr>\n      <th>5</th>\n      <td>Decision_Tree_Gini_sel_features.csv</td>\n      <td>0</td>\n      <td>0.525803</td>\n      <td>0.981845</td>\n      <td>0.890814</td>\n      <td>0.878555</td>\n      <td>0.932758</td>\n      <td>0.976316</td>\n      <td>0.842687</td>\n      <td>0.986026</td>\n      <td>0.860144</td>\n      <td>0.980789</td>\n      <td>0.885237</td>\n      <td>0.978526</td>\n    </tr>\n    <tr>\n      <th>6</th>\n      <td>knn_1.csv</td>\n      <td>0</td>\n      <td>0.182160</td>\n      <td>0.971576</td>\n      <td>0.869380</td>\n      <td>0.615503</td>\n      <td>0.923263</td>\n      <td>0.969091</td>\n      <td>0.756201</td>\n      <td>0.993442</td>\n      <td>0.862373</td>\n      <td>0.973972</td>\n      <td>0.807208</td>\n      <td>0.986559</td>\n    </tr>\n    <tr>\n      <th>7</th>\n      <td>knn_1_all_features.csv</td>\n      <td>0</td>\n      <td>0.542756</td>\n      <td>0.978249</td>\n      <td>0.851606</td>\n      <td>0.898061</td>\n      <td>0.961093</td>\n      <td>0.972246</td>\n      <td>0.795074</td>\n      <td>0.996731</td>\n      <td>0.891318</td>\n      <td>0.977327</td>\n      <td>0.846312</td>\n      <td>0.989914</td>\n    </tr>\n    <tr>\n      <th>8</th>\n      <td>knn_1_r.csv</td>\n      <td>0</td>\n      <td>0.174356</td>\n      <td>0.970237</td>\n      <td>0.869284</td>\n      <td>0.599386</td>\n      <td>0.927301</td>\n      <td>0.969236</td>\n      <td>0.769737</td>\n      <td>0.993214</td>\n      <td>0.859137</td>\n      <td>0.973728</td>\n      <td>0.815149</td>\n      <td>0.985905</td>\n    </tr>\n    <tr>\n      <th>9</th>\n      <td>knn_1_sel_features.csv</td>\n      <td>0</td>\n      <td>0.727896</td>\n      <td>0.979492</td>\n      <td>0.860052</td>\n      <td>0.942719</td>\n      <td>0.949038</td>\n      <td>0.975156</td>\n      <td>0.828675</td>\n      <td>0.987797</td>\n      <td>0.880597</td>\n      <td>0.980268</td>\n      <td>0.880289</td>\n      <td>0.980953</td>\n    </tr>\n    <tr>\n      <th>10</th>\n      <td>knn_2.csv</td>\n      <td>0</td>\n      <td>0.182160</td>\n      <td>0.971576</td>\n      <td>0.869380</td>\n      <td>0.615503</td>\n      <td>0.923263</td>\n      <td>0.969091</td>\n      <td>0.756201</td>\n      <td>0.993442</td>\n      <td>0.862373</td>\n      <td>0.973972</td>\n      <td>0.807208</td>\n      <td>0.986559</td>\n    </tr>\n    <tr>\n      <th>11</th>\n      <td>knn_2_all_features.csv</td>\n      <td>0</td>\n      <td>0.542756</td>\n      <td>0.978249</td>\n      <td>0.851606</td>\n      <td>0.898061</td>\n      <td>0.961093</td>\n      <td>0.972246</td>\n      <td>0.795074</td>\n      <td>0.996731</td>\n      <td>0.891318</td>\n      <td>0.977327</td>\n      <td>0.846312</td>\n      <td>0.989914</td>\n    </tr>\n    <tr>\n      <th>12</th>\n      <td>knn_2_r.csv</td>\n      <td>0</td>\n      <td>0.174356</td>\n      <td>0.970237</td>\n      <td>0.869284</td>\n      <td>0.599386</td>\n      <td>0.927301</td>\n      <td>0.969236</td>\n      <td>0.769737</td>\n      <td>0.993214</td>\n      <td>0.859137</td>\n      <td>0.973728</td>\n      <td>0.815149</td>\n      <td>0.985905</td>\n    </tr>\n    <tr>\n      <th>13</th>\n      <td>knn_2_sel_features.csv</td>\n      <td>0</td>\n      <td>0.727896</td>\n      <td>0.979492</td>\n      <td>0.860052</td>\n      <td>0.942719</td>\n      <td>0.949038</td>\n      <td>0.975156</td>\n      <td>0.828675</td>\n      <td>0.987797</td>\n      <td>0.880597</td>\n      <td>0.980268</td>\n      <td>0.880289</td>\n      <td>0.980953</td>\n    </tr>\n    <tr>\n      <th>14</th>\n      <td>knn_3.csv</td>\n      <td>0</td>\n      <td>0.182160</td>\n      <td>0.971576</td>\n      <td>0.869380</td>\n      <td>0.615503</td>\n      <td>0.923263</td>\n      <td>0.969091</td>\n      <td>0.756201</td>\n      <td>0.993442</td>\n      <td>0.862373</td>\n      <td>0.973972</td>\n      <td>0.807208</td>\n      <td>0.986559</td>\n    </tr>\n    <tr>\n      <th>15</th>\n      <td>knn_3_all_features.csv</td>\n      <td>0</td>\n      <td>0.542756</td>\n      <td>0.978249</td>\n      <td>0.851606</td>\n      <td>0.898061</td>\n      <td>0.961093</td>\n      <td>0.972246</td>\n      <td>0.795074</td>\n      <td>0.996731</td>\n      <td>0.891318</td>\n      <td>0.977327</td>\n      <td>0.846312</td>\n      <td>0.989914</td>\n    </tr>\n    <tr>\n      <th>16</th>\n      <td>knn_3_r.csv</td>\n      <td>0</td>\n      <td>0.174356</td>\n      <td>0.970237</td>\n      <td>0.869284</td>\n      <td>0.599386</td>\n      <td>0.927301</td>\n      <td>0.969236</td>\n      <td>0.769737</td>\n      <td>0.993214</td>\n      <td>0.859137</td>\n      <td>0.973728</td>\n      <td>0.815149</td>\n      <td>0.985905</td>\n    </tr>\n    <tr>\n      <th>17</th>\n      <td>knn_3_sel_features.csv</td>\n      <td>0</td>\n      <td>0.727896</td>\n      <td>0.979492</td>\n      <td>0.860052</td>\n      <td>0.942719</td>\n      <td>0.949038</td>\n      <td>0.975156</td>\n      <td>0.828675</td>\n      <td>0.987797</td>\n      <td>0.880597</td>\n      <td>0.980268</td>\n      <td>0.880289</td>\n      <td>0.980953</td>\n    </tr>\n    <tr>\n      <th>18</th>\n      <td>knn_4.csv</td>\n      <td>0</td>\n      <td>0.182160</td>\n      <td>0.971576</td>\n      <td>0.869380</td>\n      <td>0.615503</td>\n      <td>0.923263</td>\n      <td>0.969091</td>\n      <td>0.756201</td>\n      <td>0.993442</td>\n      <td>0.862373</td>\n      <td>0.973972</td>\n      <td>0.807208</td>\n      <td>0.986559</td>\n    </tr>\n    <tr>\n      <th>19</th>\n      <td>knn_4_all_features.csv</td>\n      <td>0</td>\n      <td>0.542756</td>\n      <td>0.978249</td>\n      <td>0.851606</td>\n      <td>0.898061</td>\n      <td>0.961093</td>\n      <td>0.972246</td>\n      <td>0.795074</td>\n      <td>0.996731</td>\n      <td>0.891318</td>\n      <td>0.977327</td>\n      <td>0.846312</td>\n      <td>0.989914</td>\n    </tr>\n    <tr>\n      <th>20</th>\n      <td>knn_4_r.csv</td>\n      <td>0</td>\n      <td>0.174356</td>\n      <td>0.970237</td>\n      <td>0.869284</td>\n      <td>0.599386</td>\n      <td>0.927301</td>\n      <td>0.969236</td>\n      <td>0.769737</td>\n      <td>0.993214</td>\n      <td>0.859137</td>\n      <td>0.973728</td>\n      <td>0.815149</td>\n      <td>0.985905</td>\n    </tr>\n    <tr>\n      <th>21</th>\n      <td>knn_4_sel_features.csv</td>\n      <td>0</td>\n      <td>0.727896</td>\n      <td>0.979492</td>\n      <td>0.860052</td>\n      <td>0.942719</td>\n      <td>0.949038</td>\n      <td>0.975156</td>\n      <td>0.828675</td>\n      <td>0.987797</td>\n      <td>0.880597</td>\n      <td>0.980268</td>\n      <td>0.880289</td>\n      <td>0.980953</td>\n    </tr>\n    <tr>\n      <th>22</th>\n      <td>LinearSVC_default.csv</td>\n      <td>82</td>\n      <td>NaN</td>\n      <td>NaN</td>\n      <td>NaN</td>\n      <td>NaN</td>\n      <td>NaN</td>\n      <td>NaN</td>\n      <td>NaN</td>\n      <td>NaN</td>\n      <td>NaN</td>\n      <td>NaN</td>\n      <td>NaN</td>\n      <td>NaN</td>\n    </tr>\n    <tr>\n      <th>23</th>\n      <td>LinearSVC_default_all_features.csv</td>\n      <td>1</td>\n      <td>0.415256</td>\n      <td>0.975862</td>\n      <td>0.878888</td>\n      <td>0.745147</td>\n      <td>0.896313</td>\n      <td>0.975181</td>\n      <td>0.828743</td>\n      <td>0.982010</td>\n      <td>0.838391</td>\n      <td>0.980146</td>\n      <td>0.877790</td>\n      <td>0.974872</td>\n    </tr>\n    <tr>\n      <th>24</th>\n      <td>LinearSVC_default_r.csv</td>\n      <td>82</td>\n      <td>NaN</td>\n      <td>NaN</td>\n      <td>NaN</td>\n      <td>NaN</td>\n      <td>NaN</td>\n      <td>NaN</td>\n      <td>NaN</td>\n      <td>NaN</td>\n      <td>NaN</td>\n      <td>NaN</td>\n      <td>NaN</td>\n      <td>NaN</td>\n    </tr>\n    <tr>\n      <th>25</th>\n      <td>LinearSVC_default_sel_features.csv</td>\n      <td>13</td>\n      <td>0.468825</td>\n      <td>0.985574</td>\n      <td>0.898274</td>\n      <td>0.710578</td>\n      <td>0.855882</td>\n      <td>0.983795</td>\n      <td>0.881241</td>\n      <td>0.977504</td>\n      <td>0.799684</td>\n      <td>0.987907</td>\n      <td>0.920705</td>\n      <td>0.969010</td>\n    </tr>\n    <tr>\n      <th>26</th>\n      <td>Logistic_Regression.csv</td>\n      <td>50</td>\n      <td>0.127277</td>\n      <td>0.945885</td>\n      <td>0.719480</td>\n      <td>0.580368</td>\n      <td>0.920988</td>\n      <td>0.948192</td>\n      <td>0.435717</td>\n      <td>0.995043</td>\n      <td>0.903866</td>\n      <td>0.956351</td>\n      <td>0.537042</td>\n      <td>0.993390</td>\n    </tr>\n    <tr>\n      <th>27</th>\n      <td>Logistic_Regression_all_features.csv</td>\n      <td>0</td>\n      <td>0.608852</td>\n      <td>0.969236</td>\n      <td>0.773537</td>\n      <td>0.913896</td>\n      <td>0.970249</td>\n      <td>0.965142</td>\n      <td>0.702955</td>\n      <td>0.997702</td>\n      <td>0.922522</td>\n      <td>0.972384</td>\n      <td>0.789539</td>\n      <td>0.993233</td>\n    </tr>\n    <tr>\n      <th>28</th>\n      <td>Logistic_Regression_sel_features.csv</td>\n      <td>1</td>\n      <td>0.812099</td>\n      <td>0.964854</td>\n      <td>0.720200</td>\n      <td>0.962400</td>\n      <td>0.963842</td>\n      <td>0.962131</td>\n      <td>0.675718</td>\n      <td>0.992629</td>\n      <td>0.931991</td>\n      <td>0.970658</td>\n      <td>0.780216</td>\n      <td>0.989305</td>\n    </tr>\n    <tr>\n      <th>29</th>\n      <td>NB_default.csv</td>\n      <td>0</td>\n      <td>0.144288</td>\n      <td>0.945501</td>\n      <td>0.677407</td>\n      <td>0.593049</td>\n      <td>0.962684</td>\n      <td>0.933254</td>\n      <td>0.323080</td>\n      <td>0.996570</td>\n      <td>0.939460</td>\n      <td>0.942212</td>\n      <td>0.436081</td>\n      <td>0.994420</td>\n    </tr>\n    <tr>\n      <th>30</th>\n      <td>NB_default_all_features.csv</td>\n      <td>0</td>\n      <td>0.482063</td>\n      <td>0.979630</td>\n      <td>0.862220</td>\n      <td>0.820308</td>\n      <td>0.760816</td>\n      <td>0.976521</td>\n      <td>0.823542</td>\n      <td>0.912131</td>\n      <td>0.721146</td>\n      <td>0.982288</td>\n      <td>0.887470</td>\n      <td>0.905848</td>\n    </tr>\n    <tr>\n      <th>31</th>\n      <td>NB_default_sel_features.csv</td>\n      <td>0</td>\n      <td>0.501404</td>\n      <td>0.978488</td>\n      <td>0.852772</td>\n      <td>0.819777</td>\n      <td>0.762118</td>\n      <td>0.974863</td>\n      <td>0.812441</td>\n      <td>0.911113</td>\n      <td>0.723825</td>\n      <td>0.980863</td>\n      <td>0.877941</td>\n      <td>0.905133</td>\n    </tr>\n    <tr>\n      <th>32</th>\n      <td>RF_default.csv</td>\n      <td>0</td>\n      <td>0.192059</td>\n      <td>0.973132</td>\n      <td>0.881545</td>\n      <td>0.625190</td>\n      <td>0.928275</td>\n      <td>0.973532</td>\n      <td>0.803901</td>\n      <td>0.991945</td>\n      <td>0.855318</td>\n      <td>0.977673</td>\n      <td>0.845830</td>\n      <td>0.984041</td>\n    </tr>\n    <tr>\n      <th>33</th>\n      <td>RF_default_all_features.csv</td>\n      <td>0</td>\n      <td>0.699708</td>\n      <td>0.979352</td>\n      <td>0.878226</td>\n      <td>0.941479</td>\n      <td>0.969085</td>\n      <td>0.975286</td>\n      <td>0.837895</td>\n      <td>0.997735</td>\n      <td>0.892877</td>\n      <td>0.980179</td>\n      <td>0.884923</td>\n      <td>0.990685</td>\n    </tr>\n    <tr>\n      <th>34</th>\n      <td>RF_default_r.csv</td>\n      <td>0</td>\n      <td>0.188421</td>\n      <td>0.970808</td>\n      <td>0.864408</td>\n      <td>0.613924</td>\n      <td>0.926720</td>\n      <td>0.971769</td>\n      <td>0.792218</td>\n      <td>0.994177</td>\n      <td>0.859373</td>\n      <td>0.976302</td>\n      <td>0.838783</td>\n      <td>0.986829</td>\n    </tr>\n    <tr>\n      <th>35</th>\n      <td>RF_default_sel_features.csv</td>\n      <td>0</td>\n      <td>0.691929</td>\n      <td>0.981370</td>\n      <td>0.880237</td>\n      <td>0.940951</td>\n      <td>0.965831</td>\n      <td>0.976632</td>\n      <td>0.838903</td>\n      <td>0.997191</td>\n      <td>0.890812</td>\n      <td>0.981372</td>\n      <td>0.886607</td>\n      <td>0.989934</td>\n    </tr>\n    <tr>\n      <th>36</th>\n      <td>SVC_optimized.csv</td>\n      <td>7</td>\n      <td>0.123290</td>\n      <td>0.977837</td>\n      <td>0.954211</td>\n      <td>0.271461</td>\n      <td>0.674055</td>\n      <td>0.984104</td>\n      <td>0.891892</td>\n      <td>0.916824</td>\n      <td>0.634235</td>\n      <td>0.986191</td>\n      <td>0.915038</td>\n      <td>0.907468</td>\n    </tr>\n    <tr>\n      <th>37</th>\n      <td>SVC_optimized_all_features.csv</td>\n      <td>82</td>\n      <td>NaN</td>\n      <td>NaN</td>\n      <td>NaN</td>\n      <td>NaN</td>\n      <td>NaN</td>\n      <td>NaN</td>\n      <td>NaN</td>\n      <td>NaN</td>\n      <td>NaN</td>\n      <td>NaN</td>\n      <td>NaN</td>\n      <td>NaN</td>\n    </tr>\n    <tr>\n      <th>38</th>\n      <td>SVC_optimized_r.csv</td>\n      <td>5</td>\n      <td>0.115080</td>\n      <td>0.964015</td>\n      <td>0.950664</td>\n      <td>0.249075</td>\n      <td>0.650273</td>\n      <td>0.981520</td>\n      <td>0.889029</td>\n      <td>0.898021</td>\n      <td>0.605627</td>\n      <td>0.983472</td>\n      <td>0.907715</td>\n      <td>0.888754</td>\n    </tr>\n    <tr>\n      <th>39</th>\n      <td>SVC_optimized_sel_features.csv</td>\n      <td>82</td>\n      <td>NaN</td>\n      <td>NaN</td>\n      <td>NaN</td>\n      <td>NaN</td>\n      <td>NaN</td>\n      <td>NaN</td>\n      <td>NaN</td>\n      <td>NaN</td>\n      <td>NaN</td>\n      <td>NaN</td>\n      <td>NaN</td>\n      <td>NaN</td>\n    </tr>\n    <tr>\n      <th>40</th>\n      <td>SVC_p3.csv</td>\n      <td>2</td>\n      <td>0.146835</td>\n      <td>0.978986</td>\n      <td>0.930452</td>\n      <td>0.427780</td>\n      <td>0.802215</td>\n      <td>0.980155</td>\n      <td>0.850538</td>\n      <td>0.975711</td>\n      <td>0.745964</td>\n      <td>0.983509</td>\n      <td>0.883430</td>\n      <td>0.967354</td>\n    </tr>\n    <tr>\n      <th>41</th>\n      <td>SVC_p3_all_features.csv</td>\n      <td>38</td>\n      <td>0.164604</td>\n      <td>0.984630</td>\n      <td>0.959150</td>\n      <td>0.272763</td>\n      <td>0.601065</td>\n      <td>0.987484</td>\n      <td>0.937238</td>\n      <td>0.851134</td>\n      <td>0.566887</td>\n      <td>0.989883</td>\n      <td>0.958187</td>\n      <td>0.838147</td>\n    </tr>\n    <tr>\n      <th>42</th>\n      <td>SVC_p3_r.csv</td>\n      <td>1</td>\n      <td>0.141458</td>\n      <td>0.967030</td>\n      <td>0.930421</td>\n      <td>0.371673</td>\n      <td>0.792495</td>\n      <td>0.978625</td>\n      <td>0.855085</td>\n      <td>0.955229</td>\n      <td>0.732000</td>\n      <td>0.981849</td>\n      <td>0.885543</td>\n      <td>0.945938</td>\n    </tr>\n    <tr>\n      <th>43</th>\n      <td>SVC_p3_sel_features.csv</td>\n      <td>51</td>\n      <td>0.278091</td>\n      <td>0.983025</td>\n      <td>0.907878</td>\n      <td>0.421746</td>\n      <td>0.697207</td>\n      <td>0.983988</td>\n      <td>0.892853</td>\n      <td>0.872362</td>\n      <td>0.660828</td>\n      <td>0.986730</td>\n      <td>0.922406</td>\n      <td>0.860233</td>\n    </tr>\n    <tr>\n      <th>44</th>\n      <td>SVC_p4.csv</td>\n      <td>1</td>\n      <td>0.171451</td>\n      <td>0.978930</td>\n      <td>0.905879</td>\n      <td>0.533255</td>\n      <td>0.889091</td>\n      <td>0.976259</td>\n      <td>0.814221</td>\n      <td>0.988443</td>\n      <td>0.825234</td>\n      <td>0.980380</td>\n      <td>0.856882</td>\n      <td>0.980356</td>\n    </tr>\n    <tr>\n      <th>45</th>\n      <td>SVC_p4_all_features.csv</td>\n      <td>32</td>\n      <td>0.158443</td>\n      <td>0.972489</td>\n      <td>0.959569</td>\n      <td>0.259981</td>\n      <td>0.601852</td>\n      <td>0.985929</td>\n      <td>0.935140</td>\n      <td>0.847262</td>\n      <td>0.566687</td>\n      <td>0.988975</td>\n      <td>0.957356</td>\n      <td>0.835172</td>\n    </tr>\n    <tr>\n      <th>46</th>\n      <td>SVC_p4_r.csv</td>\n      <td>0</td>\n      <td>0.161818</td>\n      <td>0.969546</td>\n      <td>0.885631</td>\n      <td>0.521651</td>\n      <td>0.889235</td>\n      <td>0.974630</td>\n      <td>0.802437</td>\n      <td>0.988139</td>\n      <td>0.822522</td>\n      <td>0.978591</td>\n      <td>0.842007</td>\n      <td>0.979961</td>\n    </tr>\n    <tr>\n      <th>47</th>\n      <td>SVC_p4_sel_features.csv</td>\n      <td>46</td>\n      <td>0.256687</td>\n      <td>0.968464</td>\n      <td>0.921033</td>\n      <td>0.388530</td>\n      <td>0.675808</td>\n      <td>0.978591</td>\n      <td>0.903435</td>\n      <td>0.888812</td>\n      <td>0.642063</td>\n      <td>0.983103</td>\n      <td>0.934135</td>\n      <td>0.876454</td>\n    </tr>\n    <tr>\n      <th>48</th>\n      <td>SVC_p5.csv</td>\n      <td>0</td>\n      <td>0.176596</td>\n      <td>0.975626</td>\n      <td>0.887531</td>\n      <td>0.569721</td>\n      <td>0.915609</td>\n      <td>0.970660</td>\n      <td>0.752322</td>\n      <td>0.992264</td>\n      <td>0.853854</td>\n      <td>0.975131</td>\n      <td>0.802454</td>\n      <td>0.984802</td>\n    </tr>\n    <tr>\n      <th>49</th>\n      <td>SVC_p5_all_features.csv</td>\n      <td>28</td>\n      <td>0.151109</td>\n      <td>0.971109</td>\n      <td>0.962817</td>\n      <td>0.249331</td>\n      <td>0.584564</td>\n      <td>0.987677</td>\n      <td>0.939831</td>\n      <td>0.843333</td>\n      <td>0.551297</td>\n      <td>0.990381</td>\n      <td>0.960538</td>\n      <td>0.831190</td>\n    </tr>\n    <tr>\n      <th>50</th>\n      <td>SVC_p5_r.csv</td>\n      <td>0</td>\n      <td>0.166614</td>\n      <td>0.965547</td>\n      <td>0.853019</td>\n      <td>0.556456</td>\n      <td>0.906386</td>\n      <td>0.968068</td>\n      <td>0.736651</td>\n      <td>0.990731</td>\n      <td>0.845061</td>\n      <td>0.972944</td>\n      <td>0.786984</td>\n      <td>0.983799</td>\n    </tr>\n    <tr>\n      <th>51</th>\n      <td>SVC_p5_sel_features.csv</td>\n      <td>44</td>\n      <td>0.267729</td>\n      <td>0.979273</td>\n      <td>0.920762</td>\n      <td>0.435915</td>\n      <td>0.739057</td>\n      <td>0.983687</td>\n      <td>0.902336</td>\n      <td>0.935468</td>\n      <td>0.700161</td>\n      <td>0.987703</td>\n      <td>0.934135</td>\n      <td>0.923791</td>\n    </tr>\n  </tbody>\n</table>\n</div>"
     },
     "execution_count": 29,
     "metadata": {},
     "output_type": "execute_result"
    }
   ],
   "source": [
    "import os\n",
    "\n",
    "summary = []\n",
    "\n",
    "for filename in os.listdir(\"comparison\"):\n",
    "    if filename.endswith(\".csv\"):\n",
    "\n",
    "        df = pd.read_csv(os.path.join(\"comparison\", filename))\n",
    "        df = df.drop(['name', 'activity'], axis=1)\n",
    "\n",
    "        zero_rows = (df == 0).all(axis=1).sum()\n",
    "\n",
    "        # Usuń wiersze, które zawierają zera\n",
    "        df_no_zeros = df[(df != 0).all(axis=1)]\n",
    "\n",
    "        # Wylicz średnią z każdej kolumny\n",
    "        means = df_no_zeros.mean()\n",
    "\n",
    "        # Stwórz słownik zawierający nazwę pliku, liczbę wierszy z zerami oraz średnie wartości z każdej kolumny\n",
    "        file_summary = {'filename': filename, 'zero_rows': zero_rows}\n",
    "        file_summary.update(means.to_dict())\n",
    "\n",
    "        # Dodaj wyniki do listy podsumowań\n",
    "        summary.append(file_summary)\n",
    "\n",
    "# Stwórz DataFrame z podsumowaniem\n",
    "summary_df = pd.DataFrame(summary)\n",
    "\n",
    "# Wyświetl podsumowanie\n",
    "summary_df.head(100)"
   ],
   "metadata": {
    "collapsed": false
   }
  },
  {
   "cell_type": "code",
   "execution_count": 26,
   "outputs": [
    {
     "name": "stdout",
     "output_type": "stream",
     "text": [
      "filename: InterpolationAccelerometerKubaDownstairs3Apple.csv p1: 3.4 p2: 75.0\n",
      "filename: InterpolationAccelerometerKubaDownstairs2Apple.csv p1: 4.0 p2: 69.0\n",
      "filename: InterpolationAccelerometerKubaSquatsApple.csv p1: 3.8 p2: 124.0\n",
      "filename: InterpolationAccelerometerKubaSittingApple.csv p1: 4.8 p2: 332.0\n",
      "filename: InterpolationAccelerometerKubaSquats2Apple.csv p1: 7.6 p2: 132.3\n",
      "filename: InterpolationAccelerometerKubaSquats3Apple.csv p1: 3.9 p2: 126.1\n",
      "filename: InterpolationAccelerometerKubaStanding2Apple.csv p1: 3.2 p2: 127.6\n",
      "filename: InterpolationAccelerometerKubaStanding3Apple.csv p1: 5.0 p2: 125.0\n",
      "filename: InterpolationAccelerometerKubaWalking2Apple.csv p1: 4.6 p2: 579.6\n",
      "filename: InterpolationAccelerometerKubaDownstairsApple.csv p1: 10.4 p2: 71.5\n",
      "filename: InterpolationAccelerometerKubaSitting2Apple.csv p1: 4.7 p2: 295.3\n",
      "filename: InterpolationAccelerometerKubaUpstairsApple.csv p1: 3.3 p2: 67.0\n",
      "filename: InterpolationAccelerometerKubaWalkingApple.csv p1: 3.5 p2: 340.2\n",
      "filename: InterpolationAccelerometerKubaStandingApple.csv p1: 3.3 p2: 124.5\n",
      "filename: InterpolationAccelerometerKubaUpstairs2Apple.csv p1: 3.3 p2: 81.6\n",
      "filename: InterpolationAccelerometerKubaLying3Apple.csv p1: 8.6 p2: 233.5\n",
      "filename: InterpolationAccelerometerKubaLying2Apple.csv p1: 4.0 p2: 96.2\n",
      "filename: InterpolationAccelerometerKubaLyingApple.csv p1: 5.0 p2: 164.1\n",
      "filename: InterpolationAccelerometerKasperDownstairsApple.csv p1: 0.5 p2: 85.8\n",
      "filename: InterpolationAccelerometerKasperSittingApple.csv p1: 15.2 p2: 227.6\n",
      "filename: InterpolationAccelerometerKasperStandingApple.csv p1: 6.0 p2: 190.0\n",
      "filename: InterpolationAccelerometerKasperUpstairsApple.csv p1: 3.3 p2: 95.9\n",
      "filename: InterpolationAccelerometerKasperWalkingApple.csv p1: 3.4 p2: 219.6\n",
      "filename: InterpolationAccelerometerUserOrientationDownstairs2Apple.csv p1: 1.6 p2: 40.4\n",
      "filename: InterpolationAccelerometerUserOrientationDownstairs3Apple.csv p1: 0.3 p2: 38.8\n",
      "filename: InterpolationAccelerometerUserOrientationJogging2Apple.csv p1: 3.8 p2: 56.0\n",
      "filename: InterpolationAccelerometerUserOrientationJogging3Apple.csv p1: 3.0 p2: 38.35\n",
      "filename: InterpolationAccelerometerUserOrientationLying2Apple.csv p1: 3.4 p2: 109.4\n",
      "filename: InterpolationAccelerometerUserOrientationLying3Apple.csv p1: 5.0 p2: 185.9\n",
      "filename: InterpolationAccelerometerUserOrientationLyingApple.csv p1: 7.0 p2: 122.0\n",
      "filename: InterpolationAccelerometerUserOrientationSitting2Apple.csv p1: 5.9 p2: 130.9\n",
      "filename: InterpolationAccelerometerUserOrientationSitting3Apple.csv p1: 16.7 p2: 241.2\n",
      "filename: InterpolationAccelerometerUserOrientationSitting4Apple.csv p1: 9.4 p2: 155.7\n",
      "filename: InterpolationAccelerometerUserOrientationSquats2Apple.csv p1: 1.7 p2: 21.1\n",
      "filename: InterpolationAccelerometerUserOrientationSquatsApple.csv p1: 2.0 p2: 21.5\n",
      "filename: InterpolationAccelerometerUserOrientationStanding2Apple.csv p1: 3.0 p2: 44.0\n",
      "filename: InterpolationAccelerometerUserOrientationUpstairs2Apple.csv p1: 2.3 p2: 67.2\n",
      "filename: InterpolationAccelerometerUserOrientationUpstairs3Apple.csv p1: 1.7 p2: 36.1\n",
      "filename: InterpolationAccelerometerUserOrientationUpstairsApple.csv p1: 3.1 p2: 38.1\n",
      "filename: InterpolationAccelerometerUserOrientationWalking2Apple.csv p1: 7.7 p2: 817.3\n",
      "filename: InterpolationAccelerometerUserOrientationWalkingApple.csv p1: 6.9 p2: 698.9\n",
      "filename: InterpolationAccelerometerWiktorDownstairs2Apple.csv p1: 6.2 p2: 65.6\n",
      "filename: InterpolationAccelerometerWiktorDownstairs3Apple.csv p1: 2.4 p2: 56.5\n",
      "filename: InterpolationAccelerometerWiktorDownstairsApple.csv p1: 2.1 p2: 58.6\n",
      "filename: InterpolationAccelerometerWiktorJoggingApple.csv p1: 3.4 p2: 135.4\n",
      "filename: InterpolationAccelerometerWiktorLyingApple.csv p1: 7.3 p2: 161.7\n",
      "filename: InterpolationAccelerometerWiktorSitting2Apple.csv p1: 9.6 p2: 123.7\n",
      "filename: InterpolationAccelerometerWiktorSitting3Apple.csv p1: 4.2 p2: 113.0\n",
      "filename: InterpolationAccelerometerWiktorSitting4Apple.csv p1: 1.8 p2: 127.1\n",
      "filename: InterpolationAccelerometerWiktorSittingApple.csv p1: 5.2 p2: 121.2\n",
      "filename: InterpolationAccelerometerWiktorStanding2Apple.csv p1: 3.0 p2: 138.1\n",
      "filename: InterpolationAccelerometerWiktorStandingApple.csv p1: 5.0 p2: 184.1\n",
      "filename: InterpolationAccelerometerWiktorUpstairsApple.csv p1: 2.5 p2: 64.4\n",
      "filename: InterpolationAccelerometerWiktorWalking2Apple.csv p1: 1.4 p2: 90.2\n",
      "filename: InterpolationAccelerometerWiktorWalking3Apple.csv p1: 1.4 p2: 118.5\n",
      "filename: InterpolationAccelerometerWiktorWalkingApple.csv p1: 2.2 p2: 127.6\n",
      "filename: InterpolationAccelerometerKarolJogging.csv p1: 2.9 p2: 130.4\n",
      "filename: InterpolationAccelerometerKarolJogging2.csv p1: 2.1 p2: 133.3\n",
      "filename: InterpolationAccelerometerKarolWalking.csv p1: 2.0 p2: 128.5\n",
      "filename: InterpolationAccelerometerKarolWalking2.csv p1: 2.7 p2: 130.3\n",
      "filename: InterpolationAccelerometerKarolSquats.csv p1: 2.7 p2: 128.3\n",
      "filename: InterpolationAccelerometerKarolUpstairs.csv p1: 2.6 p2: 111.7\n",
      "filename: InterpolationAccelerometerKarolUpstairs2.csv p1: 2.4 p2: 113.8\n",
      "filename: InterpolationAccelerometerKarolDownstairs.csv p1: 3.8 p2: 99.8\n",
      "filename: InterpolationAccelerometerKarolDownstairs2.csv p1: 2.3 p2: 99.0\n",
      "filename: InterpolationAccelerometerMichalWalking5.csv p1: 4.0 p2: 119.0\n",
      "filename: InterpolationAccelerometerMichalWalking3.csv p1: 6.0 p2: 142.0\n",
      "filename: InterpolationAccelerometerMichalUpstairs3.csv p1: 7.0 p2: 42.5\n",
      "filename: InterpolationAccelerometerMichalUpstairs2.csv p1: 7.0 p2: 28.0\n",
      "filename: InterpolationAccelerometerMichalUpstairs.csv p1: 4.1 p2: 35.0\n",
      "filename: InterpolationAccelerometerMichalSquats4.csv p1: 4.0 p2: 93.7\n",
      "filename: InterpolationAccelerometerMichalSquats3.csv p1: 5.5 p2: 129.0\n",
      "filename: InterpolationAccelerometerMichalSquats2.csv p1: 4.5 p2: 124.7\n",
      "filename: InterpolationAccelerometerMichalSquats.csv p1: 4.0 p2: 118.0\n",
      "filename: InterpolationAccelerometerMichalSitting6.csv p1: 4.0 p2: 170.0\n",
      "filename: InterpolationAccelerometerMichalSitting5.csv p1: 5.0 p2: 95.0\n",
      "filename: InterpolationAccelerometerMichalSitting4.csv p1: 5.0 p2: 170.0\n",
      "filename: InterpolationAccelerometerMichalSitting3.csv p1: 4.0 p2: 135.0\n",
      "filename: InterpolationAccelerometerMichalSitting2.csv p1: 4.0 p2: 128.0\n",
      "filename: InterpolationAccelerometerMichalSitting.csv p1: 4.0 p2: 236.0\n",
      "filename: InterpolationAccelerometerMichalDownstairs2.csv p1: 4.5 p2: 49.0\n",
      "filename: InterpolationAccelerometerMichalDownstairs.csv p1: 2.2 p2: 45.7\n",
      "              importance\n",
      "y_min           0.035305\n",
      "x_mean          0.030461\n",
      "x_median        0.029905\n",
      "x_q1            0.028520\n",
      "mag_var         0.028500\n",
      "z_min           0.028070\n",
      "z_q1            0.027917\n",
      "x_min           0.027872\n",
      "x_max           0.027071\n",
      "y_var           0.026626\n",
      "x_q3            0.026521\n",
      "mag_range       0.026361\n",
      "y_q1            0.025496\n",
      "x_std           0.025476\n",
      "x_range         0.025354\n",
      "x_var           0.025274\n",
      "y_max           0.024992\n",
      "y_std           0.024859\n",
      "mag_min         0.024253\n",
      "y_range         0.023836\n",
      "mag_std         0.023785\n",
      "y_iqr           0.023636\n",
      "z_range         0.023580\n",
      "z_std           0.023048\n",
      "x_iqr           0.023021\n",
      "mag_iqr         0.022553\n",
      "z_median        0.021645\n",
      "y_mean          0.020178\n",
      "y_median        0.019992\n",
      "z_var           0.019840\n",
      "z_mean          0.019527\n",
      "mag_max         0.019398\n",
      "z_iqr           0.019265\n",
      "mag_mean        0.018717\n",
      "mag_q3          0.018208\n",
      "mag_q1          0.018182\n",
      "z_max           0.017454\n",
      "y_q3            0.016933\n",
      "z_q3            0.015627\n",
      "mag_median      0.013343\n",
      "y_skew          0.010801\n",
      "mag_skew        0.009136\n",
      "x_kurtosis      0.007661\n",
      "z_kurtosis      0.007396\n",
      "y_kurtosis      0.007222\n",
      "z_skew          0.006256\n",
      "mag_kurtosis    0.005988\n",
      "x_skew          0.004939\n"
     ]
    }
   ],
   "source": [
    "from sklearn.ensemble import RandomForestClassifier\n",
    "from sklearn.metrics import precision_recall_fscore_support\n",
    "\n",
    "clf = RandomForestClassifier()\n",
    "\n",
    "foldername = \"fourth-run\"\n",
    "input_data = pd.read_csv('startend_points.csv', sep=';', decimal=\",\")\n",
    "results = pd.DataFrame()\n",
    "\n",
    "feature_importances_df = pd.DataFrame()\n",
    "\n",
    "for idx, row in input_data.iterrows():\n",
    "    if row['filename'] in files_drop:\n",
    "        continue\n",
    "    print(f\"filename: {row['filename']} p1: {row['p1']} p2: {row['p2']}\")\n",
    "    temp = pd.read_csv(os.path.join(foldername, row['filename']))\n",
    "    activity = temp['activity'].unique()[0]\n",
    "    temp = temp[['time','x','y','z','mag']]\n",
    "    temp['time'] = (temp['time'] - temp['time'].iloc[0])/1000000000\n",
    "    windows, labels, window_times = split_dataframe_to_windows(temp, window_length=0.5, p1=row['p1'], p2=row['p2'])\n",
    "\n",
    "    statistics = calculate_statistics(windows)\n",
    "    p1 = pd.DataFrame.from_dict(statistics).reset_index()\n",
    "    X = p1.drop(\"index\", axis=1)\n",
    "\n",
    "    train_idx = get_indexes(window_times, labels, 3.0, 3.0)\n",
    "    clf.fit(X.iloc[train_idx], [labels[i] for i in train_idx])\n",
    "\n",
    "    feature_importances = pd.DataFrame(clf.feature_importances_,\n",
    "                                       index = X.columns,\n",
    "                                       columns=['importance']).sort_values('importance', ascending=False)\n",
    "    feature_importances_df = pd.concat([feature_importances_df, feature_importances], axis=0)\n",
    "\n",
    "\n",
    "average_importances = feature_importances_df.groupby(feature_importances_df.index).mean().sort_values('importance', ascending=False)\n",
    "\n",
    "print(average_importances)\n"
   ],
   "metadata": {
    "collapsed": false
   }
  },
  {
   "cell_type": "code",
   "execution_count": 37,
   "outputs": [
    {
     "name": "stdout",
     "output_type": "stream",
     "text": [
      "filename: InterpolationAccelerometerKubaDownstairs3Apple.csv p1: 3.4 p2: 75.0\n"
     ]
    },
    {
     "name": "stderr",
     "output_type": "stream",
     "text": [
      "F:\\anaconda\\envs\\deeplearning\\lib\\site-packages\\sklearn\\metrics\\_classification.py:1308: UndefinedMetricWarning: Precision and F-score are ill-defined and being set to 0.0 in labels with no predicted samples. Use `zero_division` parameter to control this behavior.\n",
      "  _warn_prf(average, modifier, msg_start, len(result))\n"
     ]
    },
    {
     "name": "stdout",
     "output_type": "stream",
     "text": [
      "filename: InterpolationAccelerometerKubaDownstairs2Apple.csv p1: 4.0 p2: 69.0\n"
     ]
    },
    {
     "name": "stderr",
     "output_type": "stream",
     "text": [
      "F:\\anaconda\\envs\\deeplearning\\lib\\site-packages\\sklearn\\metrics\\_classification.py:1308: UndefinedMetricWarning: Precision and F-score are ill-defined and being set to 0.0 in labels with no predicted samples. Use `zero_division` parameter to control this behavior.\n",
      "  _warn_prf(average, modifier, msg_start, len(result))\n"
     ]
    },
    {
     "name": "stdout",
     "output_type": "stream",
     "text": [
      "filename: InterpolationAccelerometerKubaSquatsApple.csv p1: 3.8 p2: 124.0\n"
     ]
    },
    {
     "name": "stderr",
     "output_type": "stream",
     "text": [
      "F:\\anaconda\\envs\\deeplearning\\lib\\site-packages\\sklearn\\metrics\\_classification.py:1308: UndefinedMetricWarning: Precision and F-score are ill-defined and being set to 0.0 in labels with no predicted samples. Use `zero_division` parameter to control this behavior.\n",
      "  _warn_prf(average, modifier, msg_start, len(result))\n"
     ]
    },
    {
     "name": "stdout",
     "output_type": "stream",
     "text": [
      "filename: InterpolationAccelerometerKubaSittingApple.csv p1: 4.8 p2: 332.0\n"
     ]
    },
    {
     "name": "stderr",
     "output_type": "stream",
     "text": [
      "F:\\anaconda\\envs\\deeplearning\\lib\\site-packages\\sklearn\\metrics\\_classification.py:1308: UndefinedMetricWarning: Precision and F-score are ill-defined and being set to 0.0 in labels with no predicted samples. Use `zero_division` parameter to control this behavior.\n",
      "  _warn_prf(average, modifier, msg_start, len(result))\n"
     ]
    },
    {
     "name": "stdout",
     "output_type": "stream",
     "text": [
      "filename: InterpolationAccelerometerKubaSquats2Apple.csv p1: 7.6 p2: 132.3\n"
     ]
    },
    {
     "name": "stderr",
     "output_type": "stream",
     "text": [
      "F:\\anaconda\\envs\\deeplearning\\lib\\site-packages\\sklearn\\metrics\\_classification.py:1308: UndefinedMetricWarning: Precision and F-score are ill-defined and being set to 0.0 in labels with no predicted samples. Use `zero_division` parameter to control this behavior.\n",
      "  _warn_prf(average, modifier, msg_start, len(result))\n"
     ]
    },
    {
     "name": "stdout",
     "output_type": "stream",
     "text": [
      "filename: InterpolationAccelerometerKubaSquats3Apple.csv p1: 3.9 p2: 126.1\n"
     ]
    },
    {
     "name": "stderr",
     "output_type": "stream",
     "text": [
      "F:\\anaconda\\envs\\deeplearning\\lib\\site-packages\\sklearn\\metrics\\_classification.py:1308: UndefinedMetricWarning: Precision and F-score are ill-defined and being set to 0.0 in labels with no predicted samples. Use `zero_division` parameter to control this behavior.\n",
      "  _warn_prf(average, modifier, msg_start, len(result))\n"
     ]
    },
    {
     "name": "stdout",
     "output_type": "stream",
     "text": [
      "filename: InterpolationAccelerometerKubaStanding2Apple.csv p1: 3.2 p2: 127.6\n"
     ]
    },
    {
     "name": "stderr",
     "output_type": "stream",
     "text": [
      "F:\\anaconda\\envs\\deeplearning\\lib\\site-packages\\sklearn\\metrics\\_classification.py:1308: UndefinedMetricWarning: Precision and F-score are ill-defined and being set to 0.0 in labels with no predicted samples. Use `zero_division` parameter to control this behavior.\n",
      "  _warn_prf(average, modifier, msg_start, len(result))\n"
     ]
    },
    {
     "name": "stdout",
     "output_type": "stream",
     "text": [
      "filename: InterpolationAccelerometerKubaStanding3Apple.csv p1: 5.0 p2: 125.0\n"
     ]
    },
    {
     "name": "stderr",
     "output_type": "stream",
     "text": [
      "F:\\anaconda\\envs\\deeplearning\\lib\\site-packages\\sklearn\\metrics\\_classification.py:1308: UndefinedMetricWarning: Precision and F-score are ill-defined and being set to 0.0 in labels with no predicted samples. Use `zero_division` parameter to control this behavior.\n",
      "  _warn_prf(average, modifier, msg_start, len(result))\n"
     ]
    },
    {
     "name": "stdout",
     "output_type": "stream",
     "text": [
      "filename: InterpolationAccelerometerKubaWalking2Apple.csv p1: 4.6 p2: 579.6\n"
     ]
    },
    {
     "name": "stderr",
     "output_type": "stream",
     "text": [
      "F:\\anaconda\\envs\\deeplearning\\lib\\site-packages\\sklearn\\metrics\\_classification.py:1308: UndefinedMetricWarning: Precision and F-score are ill-defined and being set to 0.0 in labels with no predicted samples. Use `zero_division` parameter to control this behavior.\n",
      "  _warn_prf(average, modifier, msg_start, len(result))\n"
     ]
    },
    {
     "name": "stdout",
     "output_type": "stream",
     "text": [
      "filename: InterpolationAccelerometerKubaDownstairsApple.csv p1: 10.4 p2: 71.5\n"
     ]
    },
    {
     "name": "stderr",
     "output_type": "stream",
     "text": [
      "F:\\anaconda\\envs\\deeplearning\\lib\\site-packages\\sklearn\\metrics\\_classification.py:1308: UndefinedMetricWarning: Precision and F-score are ill-defined and being set to 0.0 in labels with no predicted samples. Use `zero_division` parameter to control this behavior.\n",
      "  _warn_prf(average, modifier, msg_start, len(result))\n"
     ]
    },
    {
     "name": "stdout",
     "output_type": "stream",
     "text": [
      "filename: InterpolationAccelerometerKubaSitting2Apple.csv p1: 4.7 p2: 295.3\n"
     ]
    },
    {
     "name": "stderr",
     "output_type": "stream",
     "text": [
      "F:\\anaconda\\envs\\deeplearning\\lib\\site-packages\\sklearn\\metrics\\_classification.py:1308: UndefinedMetricWarning: Precision and F-score are ill-defined and being set to 0.0 in labels with no predicted samples. Use `zero_division` parameter to control this behavior.\n",
      "  _warn_prf(average, modifier, msg_start, len(result))\n"
     ]
    },
    {
     "name": "stdout",
     "output_type": "stream",
     "text": [
      "filename: InterpolationAccelerometerKubaUpstairsApple.csv p1: 3.3 p2: 67.0\n"
     ]
    },
    {
     "name": "stderr",
     "output_type": "stream",
     "text": [
      "F:\\anaconda\\envs\\deeplearning\\lib\\site-packages\\sklearn\\metrics\\_classification.py:1308: UndefinedMetricWarning: Precision and F-score are ill-defined and being set to 0.0 in labels with no predicted samples. Use `zero_division` parameter to control this behavior.\n",
      "  _warn_prf(average, modifier, msg_start, len(result))\n"
     ]
    },
    {
     "name": "stdout",
     "output_type": "stream",
     "text": [
      "filename: InterpolationAccelerometerKubaWalkingApple.csv p1: 3.5 p2: 340.2\n"
     ]
    },
    {
     "name": "stderr",
     "output_type": "stream",
     "text": [
      "F:\\anaconda\\envs\\deeplearning\\lib\\site-packages\\sklearn\\metrics\\_classification.py:1308: UndefinedMetricWarning: Precision and F-score are ill-defined and being set to 0.0 in labels with no predicted samples. Use `zero_division` parameter to control this behavior.\n",
      "  _warn_prf(average, modifier, msg_start, len(result))\n"
     ]
    },
    {
     "name": "stdout",
     "output_type": "stream",
     "text": [
      "filename: InterpolationAccelerometerKubaStandingApple.csv p1: 3.3 p2: 124.5\n"
     ]
    },
    {
     "name": "stderr",
     "output_type": "stream",
     "text": [
      "F:\\anaconda\\envs\\deeplearning\\lib\\site-packages\\sklearn\\metrics\\_classification.py:1308: UndefinedMetricWarning: Precision and F-score are ill-defined and being set to 0.0 in labels with no predicted samples. Use `zero_division` parameter to control this behavior.\n",
      "  _warn_prf(average, modifier, msg_start, len(result))\n"
     ]
    },
    {
     "name": "stdout",
     "output_type": "stream",
     "text": [
      "filename: InterpolationAccelerometerKubaUpstairs2Apple.csv p1: 3.3 p2: 81.6\n"
     ]
    },
    {
     "name": "stderr",
     "output_type": "stream",
     "text": [
      "F:\\anaconda\\envs\\deeplearning\\lib\\site-packages\\sklearn\\metrics\\_classification.py:1308: UndefinedMetricWarning: Precision and F-score are ill-defined and being set to 0.0 in labels with no predicted samples. Use `zero_division` parameter to control this behavior.\n",
      "  _warn_prf(average, modifier, msg_start, len(result))\n"
     ]
    },
    {
     "name": "stdout",
     "output_type": "stream",
     "text": [
      "filename: InterpolationAccelerometerKubaLying3Apple.csv p1: 8.6 p2: 233.5\n"
     ]
    },
    {
     "name": "stderr",
     "output_type": "stream",
     "text": [
      "F:\\anaconda\\envs\\deeplearning\\lib\\site-packages\\sklearn\\metrics\\_classification.py:1308: UndefinedMetricWarning: Precision and F-score are ill-defined and being set to 0.0 in labels with no predicted samples. Use `zero_division` parameter to control this behavior.\n",
      "  _warn_prf(average, modifier, msg_start, len(result))\n"
     ]
    },
    {
     "name": "stdout",
     "output_type": "stream",
     "text": [
      "filename: InterpolationAccelerometerKubaLying2Apple.csv p1: 4.0 p2: 96.2\n"
     ]
    },
    {
     "name": "stderr",
     "output_type": "stream",
     "text": [
      "F:\\anaconda\\envs\\deeplearning\\lib\\site-packages\\sklearn\\metrics\\_classification.py:1308: UndefinedMetricWarning: Precision and F-score are ill-defined and being set to 0.0 in labels with no predicted samples. Use `zero_division` parameter to control this behavior.\n",
      "  _warn_prf(average, modifier, msg_start, len(result))\n"
     ]
    },
    {
     "name": "stdout",
     "output_type": "stream",
     "text": [
      "filename: InterpolationAccelerometerKubaLyingApple.csv p1: 5.0 p2: 164.1\n"
     ]
    },
    {
     "name": "stderr",
     "output_type": "stream",
     "text": [
      "F:\\anaconda\\envs\\deeplearning\\lib\\site-packages\\sklearn\\metrics\\_classification.py:1308: UndefinedMetricWarning: Precision and F-score are ill-defined and being set to 0.0 in labels with no predicted samples. Use `zero_division` parameter to control this behavior.\n",
      "  _warn_prf(average, modifier, msg_start, len(result))\n"
     ]
    },
    {
     "name": "stdout",
     "output_type": "stream",
     "text": [
      "filename: InterpolationAccelerometerKasperDownstairsApple.csv p1: 0.5 p2: 85.8\n"
     ]
    },
    {
     "name": "stderr",
     "output_type": "stream",
     "text": [
      "F:\\anaconda\\envs\\deeplearning\\lib\\site-packages\\sklearn\\metrics\\_classification.py:1308: UndefinedMetricWarning: Precision and F-score are ill-defined and being set to 0.0 in labels with no predicted samples. Use `zero_division` parameter to control this behavior.\n",
      "  _warn_prf(average, modifier, msg_start, len(result))\n"
     ]
    },
    {
     "name": "stdout",
     "output_type": "stream",
     "text": [
      "filename: InterpolationAccelerometerKasperSittingApple.csv p1: 15.2 p2: 227.6\n"
     ]
    },
    {
     "name": "stderr",
     "output_type": "stream",
     "text": [
      "F:\\anaconda\\envs\\deeplearning\\lib\\site-packages\\sklearn\\metrics\\_classification.py:1308: UndefinedMetricWarning: Precision and F-score are ill-defined and being set to 0.0 in labels with no predicted samples. Use `zero_division` parameter to control this behavior.\n",
      "  _warn_prf(average, modifier, msg_start, len(result))\n"
     ]
    },
    {
     "name": "stdout",
     "output_type": "stream",
     "text": [
      "filename: InterpolationAccelerometerKasperStandingApple.csv p1: 6.0 p2: 190.0\n"
     ]
    },
    {
     "name": "stderr",
     "output_type": "stream",
     "text": [
      "F:\\anaconda\\envs\\deeplearning\\lib\\site-packages\\sklearn\\metrics\\_classification.py:1308: UndefinedMetricWarning: Precision and F-score are ill-defined and being set to 0.0 in labels with no predicted samples. Use `zero_division` parameter to control this behavior.\n",
      "  _warn_prf(average, modifier, msg_start, len(result))\n"
     ]
    },
    {
     "name": "stdout",
     "output_type": "stream",
     "text": [
      "filename: InterpolationAccelerometerKasperUpstairsApple.csv p1: 3.3 p2: 95.9\n"
     ]
    },
    {
     "name": "stderr",
     "output_type": "stream",
     "text": [
      "F:\\anaconda\\envs\\deeplearning\\lib\\site-packages\\sklearn\\metrics\\_classification.py:1308: UndefinedMetricWarning: Precision and F-score are ill-defined and being set to 0.0 in labels with no predicted samples. Use `zero_division` parameter to control this behavior.\n",
      "  _warn_prf(average, modifier, msg_start, len(result))\n"
     ]
    },
    {
     "name": "stdout",
     "output_type": "stream",
     "text": [
      "filename: InterpolationAccelerometerKasperWalkingApple.csv p1: 3.4 p2: 219.6\n"
     ]
    },
    {
     "name": "stderr",
     "output_type": "stream",
     "text": [
      "F:\\anaconda\\envs\\deeplearning\\lib\\site-packages\\sklearn\\metrics\\_classification.py:1308: UndefinedMetricWarning: Precision and F-score are ill-defined and being set to 0.0 in labels with no predicted samples. Use `zero_division` parameter to control this behavior.\n",
      "  _warn_prf(average, modifier, msg_start, len(result))\n"
     ]
    },
    {
     "name": "stdout",
     "output_type": "stream",
     "text": [
      "filename: InterpolationAccelerometerUserOrientationDownstairs2Apple.csv p1: 1.6 p2: 40.4\n"
     ]
    },
    {
     "name": "stderr",
     "output_type": "stream",
     "text": [
      "F:\\anaconda\\envs\\deeplearning\\lib\\site-packages\\sklearn\\metrics\\_classification.py:1308: UndefinedMetricWarning: Precision and F-score are ill-defined and being set to 0.0 in labels with no predicted samples. Use `zero_division` parameter to control this behavior.\n",
      "  _warn_prf(average, modifier, msg_start, len(result))\n"
     ]
    },
    {
     "name": "stdout",
     "output_type": "stream",
     "text": [
      "filename: InterpolationAccelerometerUserOrientationDownstairs3Apple.csv p1: 0.3 p2: 38.8\n"
     ]
    },
    {
     "name": "stderr",
     "output_type": "stream",
     "text": [
      "F:\\anaconda\\envs\\deeplearning\\lib\\site-packages\\sklearn\\metrics\\_classification.py:1308: UndefinedMetricWarning: Precision and F-score are ill-defined and being set to 0.0 in labels with no predicted samples. Use `zero_division` parameter to control this behavior.\n",
      "  _warn_prf(average, modifier, msg_start, len(result))\n"
     ]
    },
    {
     "name": "stdout",
     "output_type": "stream",
     "text": [
      "filename: InterpolationAccelerometerUserOrientationJogging2Apple.csv p1: 3.8 p2: 56.0\n"
     ]
    },
    {
     "name": "stderr",
     "output_type": "stream",
     "text": [
      "F:\\anaconda\\envs\\deeplearning\\lib\\site-packages\\sklearn\\metrics\\_classification.py:1308: UndefinedMetricWarning: Precision and F-score are ill-defined and being set to 0.0 in labels with no predicted samples. Use `zero_division` parameter to control this behavior.\n",
      "  _warn_prf(average, modifier, msg_start, len(result))\n"
     ]
    },
    {
     "name": "stdout",
     "output_type": "stream",
     "text": [
      "filename: InterpolationAccelerometerUserOrientationJogging3Apple.csv p1: 3.0 p2: 38.35\n"
     ]
    },
    {
     "name": "stderr",
     "output_type": "stream",
     "text": [
      "F:\\anaconda\\envs\\deeplearning\\lib\\site-packages\\sklearn\\metrics\\_classification.py:1308: UndefinedMetricWarning: Precision and F-score are ill-defined and being set to 0.0 in labels with no predicted samples. Use `zero_division` parameter to control this behavior.\n",
      "  _warn_prf(average, modifier, msg_start, len(result))\n"
     ]
    },
    {
     "name": "stdout",
     "output_type": "stream",
     "text": [
      "filename: InterpolationAccelerometerUserOrientationLying2Apple.csv p1: 3.4 p2: 109.4\n"
     ]
    },
    {
     "name": "stderr",
     "output_type": "stream",
     "text": [
      "F:\\anaconda\\envs\\deeplearning\\lib\\site-packages\\sklearn\\metrics\\_classification.py:1308: UndefinedMetricWarning: Precision and F-score are ill-defined and being set to 0.0 in labels with no predicted samples. Use `zero_division` parameter to control this behavior.\n",
      "  _warn_prf(average, modifier, msg_start, len(result))\n"
     ]
    },
    {
     "name": "stdout",
     "output_type": "stream",
     "text": [
      "filename: InterpolationAccelerometerUserOrientationLying3Apple.csv p1: 5.0 p2: 185.9\n"
     ]
    },
    {
     "name": "stderr",
     "output_type": "stream",
     "text": [
      "F:\\anaconda\\envs\\deeplearning\\lib\\site-packages\\sklearn\\metrics\\_classification.py:1308: UndefinedMetricWarning: Precision and F-score are ill-defined and being set to 0.0 in labels with no predicted samples. Use `zero_division` parameter to control this behavior.\n",
      "  _warn_prf(average, modifier, msg_start, len(result))\n"
     ]
    },
    {
     "name": "stdout",
     "output_type": "stream",
     "text": [
      "filename: InterpolationAccelerometerUserOrientationLyingApple.csv p1: 7.0 p2: 122.0\n"
     ]
    },
    {
     "name": "stderr",
     "output_type": "stream",
     "text": [
      "F:\\anaconda\\envs\\deeplearning\\lib\\site-packages\\sklearn\\metrics\\_classification.py:1308: UndefinedMetricWarning: Precision and F-score are ill-defined and being set to 0.0 in labels with no predicted samples. Use `zero_division` parameter to control this behavior.\n",
      "  _warn_prf(average, modifier, msg_start, len(result))\n"
     ]
    },
    {
     "name": "stdout",
     "output_type": "stream",
     "text": [
      "filename: InterpolationAccelerometerUserOrientationSitting2Apple.csv p1: 5.9 p2: 130.9\n"
     ]
    },
    {
     "name": "stderr",
     "output_type": "stream",
     "text": [
      "F:\\anaconda\\envs\\deeplearning\\lib\\site-packages\\sklearn\\metrics\\_classification.py:1308: UndefinedMetricWarning: Precision and F-score are ill-defined and being set to 0.0 in labels with no predicted samples. Use `zero_division` parameter to control this behavior.\n",
      "  _warn_prf(average, modifier, msg_start, len(result))\n"
     ]
    },
    {
     "name": "stdout",
     "output_type": "stream",
     "text": [
      "filename: InterpolationAccelerometerUserOrientationSitting3Apple.csv p1: 16.7 p2: 241.2\n"
     ]
    },
    {
     "name": "stderr",
     "output_type": "stream",
     "text": [
      "F:\\anaconda\\envs\\deeplearning\\lib\\site-packages\\sklearn\\metrics\\_classification.py:1308: UndefinedMetricWarning: Precision and F-score are ill-defined and being set to 0.0 in labels with no predicted samples. Use `zero_division` parameter to control this behavior.\n",
      "  _warn_prf(average, modifier, msg_start, len(result))\n"
     ]
    },
    {
     "name": "stdout",
     "output_type": "stream",
     "text": [
      "filename: InterpolationAccelerometerUserOrientationSitting4Apple.csv p1: 9.4 p2: 155.7\n"
     ]
    },
    {
     "name": "stderr",
     "output_type": "stream",
     "text": [
      "F:\\anaconda\\envs\\deeplearning\\lib\\site-packages\\sklearn\\metrics\\_classification.py:1308: UndefinedMetricWarning: Precision and F-score are ill-defined and being set to 0.0 in labels with no predicted samples. Use `zero_division` parameter to control this behavior.\n",
      "  _warn_prf(average, modifier, msg_start, len(result))\n"
     ]
    },
    {
     "name": "stdout",
     "output_type": "stream",
     "text": [
      "filename: InterpolationAccelerometerUserOrientationSquats2Apple.csv p1: 1.7 p2: 21.1\n"
     ]
    },
    {
     "name": "stderr",
     "output_type": "stream",
     "text": [
      "F:\\anaconda\\envs\\deeplearning\\lib\\site-packages\\sklearn\\metrics\\_classification.py:1308: UndefinedMetricWarning: Precision and F-score are ill-defined and being set to 0.0 in labels with no predicted samples. Use `zero_division` parameter to control this behavior.\n",
      "  _warn_prf(average, modifier, msg_start, len(result))\n"
     ]
    },
    {
     "name": "stdout",
     "output_type": "stream",
     "text": [
      "filename: InterpolationAccelerometerUserOrientationSquatsApple.csv p1: 2.0 p2: 21.5\n"
     ]
    },
    {
     "name": "stderr",
     "output_type": "stream",
     "text": [
      "F:\\anaconda\\envs\\deeplearning\\lib\\site-packages\\sklearn\\metrics\\_classification.py:1308: UndefinedMetricWarning: Precision and F-score are ill-defined and being set to 0.0 in labels with no predicted samples. Use `zero_division` parameter to control this behavior.\n",
      "  _warn_prf(average, modifier, msg_start, len(result))\n"
     ]
    },
    {
     "name": "stdout",
     "output_type": "stream",
     "text": [
      "filename: InterpolationAccelerometerUserOrientationStanding2Apple.csv p1: 3.0 p2: 44.0\n"
     ]
    },
    {
     "name": "stderr",
     "output_type": "stream",
     "text": [
      "F:\\anaconda\\envs\\deeplearning\\lib\\site-packages\\sklearn\\metrics\\_classification.py:1308: UndefinedMetricWarning: Precision and F-score are ill-defined and being set to 0.0 in labels with no predicted samples. Use `zero_division` parameter to control this behavior.\n",
      "  _warn_prf(average, modifier, msg_start, len(result))\n"
     ]
    },
    {
     "name": "stdout",
     "output_type": "stream",
     "text": [
      "filename: InterpolationAccelerometerUserOrientationUpstairs2Apple.csv p1: 2.3 p2: 67.2\n"
     ]
    },
    {
     "name": "stderr",
     "output_type": "stream",
     "text": [
      "F:\\anaconda\\envs\\deeplearning\\lib\\site-packages\\sklearn\\metrics\\_classification.py:1308: UndefinedMetricWarning: Precision and F-score are ill-defined and being set to 0.0 in labels with no predicted samples. Use `zero_division` parameter to control this behavior.\n",
      "  _warn_prf(average, modifier, msg_start, len(result))\n"
     ]
    },
    {
     "name": "stdout",
     "output_type": "stream",
     "text": [
      "filename: InterpolationAccelerometerUserOrientationUpstairs3Apple.csv p1: 1.7 p2: 36.1\n"
     ]
    },
    {
     "name": "stderr",
     "output_type": "stream",
     "text": [
      "F:\\anaconda\\envs\\deeplearning\\lib\\site-packages\\sklearn\\metrics\\_classification.py:1308: UndefinedMetricWarning: Precision and F-score are ill-defined and being set to 0.0 in labels with no predicted samples. Use `zero_division` parameter to control this behavior.\n",
      "  _warn_prf(average, modifier, msg_start, len(result))\n"
     ]
    },
    {
     "name": "stdout",
     "output_type": "stream",
     "text": [
      "filename: InterpolationAccelerometerUserOrientationUpstairsApple.csv p1: 3.1 p2: 38.1\n"
     ]
    },
    {
     "name": "stderr",
     "output_type": "stream",
     "text": [
      "F:\\anaconda\\envs\\deeplearning\\lib\\site-packages\\sklearn\\metrics\\_classification.py:1308: UndefinedMetricWarning: Precision and F-score are ill-defined and being set to 0.0 in labels with no predicted samples. Use `zero_division` parameter to control this behavior.\n",
      "  _warn_prf(average, modifier, msg_start, len(result))\n"
     ]
    },
    {
     "name": "stdout",
     "output_type": "stream",
     "text": [
      "filename: InterpolationAccelerometerUserOrientationWalking2Apple.csv p1: 7.7 p2: 817.3\n"
     ]
    },
    {
     "name": "stderr",
     "output_type": "stream",
     "text": [
      "F:\\anaconda\\envs\\deeplearning\\lib\\site-packages\\sklearn\\metrics\\_classification.py:1308: UndefinedMetricWarning: Precision and F-score are ill-defined and being set to 0.0 in labels with no predicted samples. Use `zero_division` parameter to control this behavior.\n",
      "  _warn_prf(average, modifier, msg_start, len(result))\n"
     ]
    },
    {
     "name": "stdout",
     "output_type": "stream",
     "text": [
      "filename: InterpolationAccelerometerUserOrientationWalkingApple.csv p1: 6.9 p2: 698.9\n"
     ]
    },
    {
     "name": "stderr",
     "output_type": "stream",
     "text": [
      "F:\\anaconda\\envs\\deeplearning\\lib\\site-packages\\sklearn\\metrics\\_classification.py:1308: UndefinedMetricWarning: Precision and F-score are ill-defined and being set to 0.0 in labels with no predicted samples. Use `zero_division` parameter to control this behavior.\n",
      "  _warn_prf(average, modifier, msg_start, len(result))\n"
     ]
    },
    {
     "name": "stdout",
     "output_type": "stream",
     "text": [
      "filename: InterpolationAccelerometerWiktorDownstairs2Apple.csv p1: 6.2 p2: 65.6\n"
     ]
    },
    {
     "name": "stderr",
     "output_type": "stream",
     "text": [
      "F:\\anaconda\\envs\\deeplearning\\lib\\site-packages\\sklearn\\metrics\\_classification.py:1308: UndefinedMetricWarning: Precision and F-score are ill-defined and being set to 0.0 in labels with no predicted samples. Use `zero_division` parameter to control this behavior.\n",
      "  _warn_prf(average, modifier, msg_start, len(result))\n"
     ]
    },
    {
     "name": "stdout",
     "output_type": "stream",
     "text": [
      "filename: InterpolationAccelerometerWiktorDownstairs3Apple.csv p1: 2.4 p2: 56.5\n"
     ]
    },
    {
     "name": "stderr",
     "output_type": "stream",
     "text": [
      "F:\\anaconda\\envs\\deeplearning\\lib\\site-packages\\sklearn\\metrics\\_classification.py:1308: UndefinedMetricWarning: Precision and F-score are ill-defined and being set to 0.0 in labels with no predicted samples. Use `zero_division` parameter to control this behavior.\n",
      "  _warn_prf(average, modifier, msg_start, len(result))\n"
     ]
    },
    {
     "name": "stdout",
     "output_type": "stream",
     "text": [
      "filename: InterpolationAccelerometerWiktorDownstairsApple.csv p1: 2.1 p2: 58.6\n"
     ]
    },
    {
     "name": "stderr",
     "output_type": "stream",
     "text": [
      "F:\\anaconda\\envs\\deeplearning\\lib\\site-packages\\sklearn\\metrics\\_classification.py:1308: UndefinedMetricWarning: Precision and F-score are ill-defined and being set to 0.0 in labels with no predicted samples. Use `zero_division` parameter to control this behavior.\n",
      "  _warn_prf(average, modifier, msg_start, len(result))\n"
     ]
    },
    {
     "name": "stdout",
     "output_type": "stream",
     "text": [
      "filename: InterpolationAccelerometerWiktorJoggingApple.csv p1: 3.4 p2: 135.4\n"
     ]
    },
    {
     "name": "stderr",
     "output_type": "stream",
     "text": [
      "F:\\anaconda\\envs\\deeplearning\\lib\\site-packages\\sklearn\\metrics\\_classification.py:1308: UndefinedMetricWarning: Precision and F-score are ill-defined and being set to 0.0 in labels with no predicted samples. Use `zero_division` parameter to control this behavior.\n",
      "  _warn_prf(average, modifier, msg_start, len(result))\n"
     ]
    },
    {
     "name": "stdout",
     "output_type": "stream",
     "text": [
      "filename: InterpolationAccelerometerWiktorLyingApple.csv p1: 7.3 p2: 161.7\n"
     ]
    },
    {
     "name": "stderr",
     "output_type": "stream",
     "text": [
      "F:\\anaconda\\envs\\deeplearning\\lib\\site-packages\\sklearn\\metrics\\_classification.py:1308: UndefinedMetricWarning: Precision and F-score are ill-defined and being set to 0.0 in labels with no predicted samples. Use `zero_division` parameter to control this behavior.\n",
      "  _warn_prf(average, modifier, msg_start, len(result))\n"
     ]
    },
    {
     "name": "stdout",
     "output_type": "stream",
     "text": [
      "filename: InterpolationAccelerometerWiktorSitting2Apple.csv p1: 9.6 p2: 123.7\n"
     ]
    },
    {
     "name": "stderr",
     "output_type": "stream",
     "text": [
      "F:\\anaconda\\envs\\deeplearning\\lib\\site-packages\\sklearn\\metrics\\_classification.py:1308: UndefinedMetricWarning: Precision and F-score are ill-defined and being set to 0.0 in labels with no predicted samples. Use `zero_division` parameter to control this behavior.\n",
      "  _warn_prf(average, modifier, msg_start, len(result))\n"
     ]
    },
    {
     "name": "stdout",
     "output_type": "stream",
     "text": [
      "filename: InterpolationAccelerometerWiktorSitting3Apple.csv p1: 4.2 p2: 113.0\n"
     ]
    },
    {
     "name": "stderr",
     "output_type": "stream",
     "text": [
      "F:\\anaconda\\envs\\deeplearning\\lib\\site-packages\\sklearn\\metrics\\_classification.py:1308: UndefinedMetricWarning: Precision and F-score are ill-defined and being set to 0.0 in labels with no predicted samples. Use `zero_division` parameter to control this behavior.\n",
      "  _warn_prf(average, modifier, msg_start, len(result))\n"
     ]
    },
    {
     "name": "stdout",
     "output_type": "stream",
     "text": [
      "filename: InterpolationAccelerometerWiktorSitting4Apple.csv p1: 1.8 p2: 127.1\n"
     ]
    },
    {
     "name": "stderr",
     "output_type": "stream",
     "text": [
      "F:\\anaconda\\envs\\deeplearning\\lib\\site-packages\\sklearn\\metrics\\_classification.py:1308: UndefinedMetricWarning: Precision and F-score are ill-defined and being set to 0.0 in labels with no predicted samples. Use `zero_division` parameter to control this behavior.\n",
      "  _warn_prf(average, modifier, msg_start, len(result))\n"
     ]
    },
    {
     "name": "stdout",
     "output_type": "stream",
     "text": [
      "filename: InterpolationAccelerometerWiktorSittingApple.csv p1: 5.2 p2: 121.2\n"
     ]
    },
    {
     "name": "stderr",
     "output_type": "stream",
     "text": [
      "F:\\anaconda\\envs\\deeplearning\\lib\\site-packages\\sklearn\\metrics\\_classification.py:1308: UndefinedMetricWarning: Precision and F-score are ill-defined and being set to 0.0 in labels with no predicted samples. Use `zero_division` parameter to control this behavior.\n",
      "  _warn_prf(average, modifier, msg_start, len(result))\n"
     ]
    },
    {
     "name": "stdout",
     "output_type": "stream",
     "text": [
      "filename: InterpolationAccelerometerWiktorStanding2Apple.csv p1: 3.0 p2: 138.1\n"
     ]
    },
    {
     "name": "stderr",
     "output_type": "stream",
     "text": [
      "F:\\anaconda\\envs\\deeplearning\\lib\\site-packages\\sklearn\\metrics\\_classification.py:1308: UndefinedMetricWarning: Precision and F-score are ill-defined and being set to 0.0 in labels with no predicted samples. Use `zero_division` parameter to control this behavior.\n",
      "  _warn_prf(average, modifier, msg_start, len(result))\n"
     ]
    },
    {
     "name": "stdout",
     "output_type": "stream",
     "text": [
      "filename: InterpolationAccelerometerWiktorStandingApple.csv p1: 5.0 p2: 184.1\n"
     ]
    },
    {
     "name": "stderr",
     "output_type": "stream",
     "text": [
      "F:\\anaconda\\envs\\deeplearning\\lib\\site-packages\\sklearn\\metrics\\_classification.py:1308: UndefinedMetricWarning: Precision and F-score are ill-defined and being set to 0.0 in labels with no predicted samples. Use `zero_division` parameter to control this behavior.\n",
      "  _warn_prf(average, modifier, msg_start, len(result))\n"
     ]
    },
    {
     "name": "stdout",
     "output_type": "stream",
     "text": [
      "filename: InterpolationAccelerometerWiktorUpstairsApple.csv p1: 2.5 p2: 64.4\n"
     ]
    },
    {
     "name": "stderr",
     "output_type": "stream",
     "text": [
      "F:\\anaconda\\envs\\deeplearning\\lib\\site-packages\\sklearn\\metrics\\_classification.py:1308: UndefinedMetricWarning: Precision and F-score are ill-defined and being set to 0.0 in labels with no predicted samples. Use `zero_division` parameter to control this behavior.\n",
      "  _warn_prf(average, modifier, msg_start, len(result))\n"
     ]
    },
    {
     "name": "stdout",
     "output_type": "stream",
     "text": [
      "filename: InterpolationAccelerometerWiktorWalking2Apple.csv p1: 1.4 p2: 90.2\n",
      "filename: InterpolationAccelerometerWiktorWalking3Apple.csv p1: 1.4 p2: 118.5\n"
     ]
    },
    {
     "name": "stderr",
     "output_type": "stream",
     "text": [
      "F:\\anaconda\\envs\\deeplearning\\lib\\site-packages\\sklearn\\metrics\\_classification.py:1308: UndefinedMetricWarning: Precision and F-score are ill-defined and being set to 0.0 in labels with no predicted samples. Use `zero_division` parameter to control this behavior.\n",
      "  _warn_prf(average, modifier, msg_start, len(result))\n"
     ]
    },
    {
     "name": "stdout",
     "output_type": "stream",
     "text": [
      "filename: InterpolationAccelerometerWiktorWalkingApple.csv p1: 2.2 p2: 127.6\n"
     ]
    },
    {
     "name": "stderr",
     "output_type": "stream",
     "text": [
      "F:\\anaconda\\envs\\deeplearning\\lib\\site-packages\\sklearn\\metrics\\_classification.py:1308: UndefinedMetricWarning: Precision and F-score are ill-defined and being set to 0.0 in labels with no predicted samples. Use `zero_division` parameter to control this behavior.\n",
      "  _warn_prf(average, modifier, msg_start, len(result))\n"
     ]
    },
    {
     "name": "stdout",
     "output_type": "stream",
     "text": [
      "filename: InterpolationAccelerometerKarolJogging.csv p1: 2.9 p2: 130.4\n"
     ]
    },
    {
     "name": "stderr",
     "output_type": "stream",
     "text": [
      "F:\\anaconda\\envs\\deeplearning\\lib\\site-packages\\sklearn\\metrics\\_classification.py:1308: UndefinedMetricWarning: Precision and F-score are ill-defined and being set to 0.0 in labels with no predicted samples. Use `zero_division` parameter to control this behavior.\n",
      "  _warn_prf(average, modifier, msg_start, len(result))\n"
     ]
    },
    {
     "name": "stdout",
     "output_type": "stream",
     "text": [
      "filename: InterpolationAccelerometerKarolJogging2.csv p1: 2.1 p2: 133.3\n"
     ]
    },
    {
     "name": "stderr",
     "output_type": "stream",
     "text": [
      "F:\\anaconda\\envs\\deeplearning\\lib\\site-packages\\sklearn\\metrics\\_classification.py:1308: UndefinedMetricWarning: Precision and F-score are ill-defined and being set to 0.0 in labels with no predicted samples. Use `zero_division` parameter to control this behavior.\n",
      "  _warn_prf(average, modifier, msg_start, len(result))\n"
     ]
    },
    {
     "name": "stdout",
     "output_type": "stream",
     "text": [
      "filename: InterpolationAccelerometerKarolWalking.csv p1: 2.0 p2: 128.5\n"
     ]
    },
    {
     "name": "stderr",
     "output_type": "stream",
     "text": [
      "F:\\anaconda\\envs\\deeplearning\\lib\\site-packages\\sklearn\\metrics\\_classification.py:1308: UndefinedMetricWarning: Precision and F-score are ill-defined and being set to 0.0 in labels with no predicted samples. Use `zero_division` parameter to control this behavior.\n",
      "  _warn_prf(average, modifier, msg_start, len(result))\n"
     ]
    },
    {
     "name": "stdout",
     "output_type": "stream",
     "text": [
      "filename: InterpolationAccelerometerKarolWalking2.csv p1: 2.7 p2: 130.3\n"
     ]
    },
    {
     "name": "stderr",
     "output_type": "stream",
     "text": [
      "F:\\anaconda\\envs\\deeplearning\\lib\\site-packages\\sklearn\\metrics\\_classification.py:1308: UndefinedMetricWarning: Precision and F-score are ill-defined and being set to 0.0 in labels with no predicted samples. Use `zero_division` parameter to control this behavior.\n",
      "  _warn_prf(average, modifier, msg_start, len(result))\n"
     ]
    },
    {
     "name": "stdout",
     "output_type": "stream",
     "text": [
      "filename: InterpolationAccelerometerKarolSquats.csv p1: 2.7 p2: 128.3\n"
     ]
    },
    {
     "name": "stderr",
     "output_type": "stream",
     "text": [
      "F:\\anaconda\\envs\\deeplearning\\lib\\site-packages\\sklearn\\metrics\\_classification.py:1308: UndefinedMetricWarning: Precision and F-score are ill-defined and being set to 0.0 in labels with no predicted samples. Use `zero_division` parameter to control this behavior.\n",
      "  _warn_prf(average, modifier, msg_start, len(result))\n"
     ]
    },
    {
     "name": "stdout",
     "output_type": "stream",
     "text": [
      "filename: InterpolationAccelerometerKarolUpstairs.csv p1: 2.6 p2: 111.7\n"
     ]
    },
    {
     "name": "stderr",
     "output_type": "stream",
     "text": [
      "F:\\anaconda\\envs\\deeplearning\\lib\\site-packages\\sklearn\\metrics\\_classification.py:1308: UndefinedMetricWarning: Precision and F-score are ill-defined and being set to 0.0 in labels with no predicted samples. Use `zero_division` parameter to control this behavior.\n",
      "  _warn_prf(average, modifier, msg_start, len(result))\n"
     ]
    },
    {
     "name": "stdout",
     "output_type": "stream",
     "text": [
      "filename: InterpolationAccelerometerKarolUpstairs2.csv p1: 2.4 p2: 113.8\n"
     ]
    },
    {
     "name": "stderr",
     "output_type": "stream",
     "text": [
      "F:\\anaconda\\envs\\deeplearning\\lib\\site-packages\\sklearn\\metrics\\_classification.py:1308: UndefinedMetricWarning: Precision and F-score are ill-defined and being set to 0.0 in labels with no predicted samples. Use `zero_division` parameter to control this behavior.\n",
      "  _warn_prf(average, modifier, msg_start, len(result))\n"
     ]
    },
    {
     "name": "stdout",
     "output_type": "stream",
     "text": [
      "filename: InterpolationAccelerometerKarolDownstairs.csv p1: 3.8 p2: 99.8\n"
     ]
    },
    {
     "name": "stderr",
     "output_type": "stream",
     "text": [
      "F:\\anaconda\\envs\\deeplearning\\lib\\site-packages\\sklearn\\metrics\\_classification.py:1308: UndefinedMetricWarning: Precision and F-score are ill-defined and being set to 0.0 in labels with no predicted samples. Use `zero_division` parameter to control this behavior.\n",
      "  _warn_prf(average, modifier, msg_start, len(result))\n"
     ]
    },
    {
     "name": "stdout",
     "output_type": "stream",
     "text": [
      "filename: InterpolationAccelerometerKarolDownstairs2.csv p1: 2.3 p2: 99.0\n"
     ]
    },
    {
     "name": "stderr",
     "output_type": "stream",
     "text": [
      "F:\\anaconda\\envs\\deeplearning\\lib\\site-packages\\sklearn\\metrics\\_classification.py:1308: UndefinedMetricWarning: Precision and F-score are ill-defined and being set to 0.0 in labels with no predicted samples. Use `zero_division` parameter to control this behavior.\n",
      "  _warn_prf(average, modifier, msg_start, len(result))\n"
     ]
    },
    {
     "name": "stdout",
     "output_type": "stream",
     "text": [
      "filename: InterpolationAccelerometerMichalWalking5.csv p1: 4.0 p2: 119.0\n"
     ]
    },
    {
     "name": "stderr",
     "output_type": "stream",
     "text": [
      "F:\\anaconda\\envs\\deeplearning\\lib\\site-packages\\sklearn\\metrics\\_classification.py:1308: UndefinedMetricWarning: Precision and F-score are ill-defined and being set to 0.0 in labels with no predicted samples. Use `zero_division` parameter to control this behavior.\n",
      "  _warn_prf(average, modifier, msg_start, len(result))\n"
     ]
    },
    {
     "name": "stdout",
     "output_type": "stream",
     "text": [
      "filename: InterpolationAccelerometerMichalWalking3.csv p1: 6.0 p2: 142.0\n"
     ]
    },
    {
     "name": "stderr",
     "output_type": "stream",
     "text": [
      "F:\\anaconda\\envs\\deeplearning\\lib\\site-packages\\sklearn\\metrics\\_classification.py:1308: UndefinedMetricWarning: Precision and F-score are ill-defined and being set to 0.0 in labels with no predicted samples. Use `zero_division` parameter to control this behavior.\n",
      "  _warn_prf(average, modifier, msg_start, len(result))\n"
     ]
    },
    {
     "name": "stdout",
     "output_type": "stream",
     "text": [
      "filename: InterpolationAccelerometerMichalUpstairs3.csv p1: 7.0 p2: 42.5\n"
     ]
    },
    {
     "name": "stderr",
     "output_type": "stream",
     "text": [
      "F:\\anaconda\\envs\\deeplearning\\lib\\site-packages\\sklearn\\metrics\\_classification.py:1308: UndefinedMetricWarning: Precision and F-score are ill-defined and being set to 0.0 in labels with no predicted samples. Use `zero_division` parameter to control this behavior.\n",
      "  _warn_prf(average, modifier, msg_start, len(result))\n"
     ]
    },
    {
     "name": "stdout",
     "output_type": "stream",
     "text": [
      "filename: InterpolationAccelerometerMichalUpstairs2.csv p1: 7.0 p2: 28.0\n"
     ]
    },
    {
     "name": "stderr",
     "output_type": "stream",
     "text": [
      "F:\\anaconda\\envs\\deeplearning\\lib\\site-packages\\sklearn\\metrics\\_classification.py:1308: UndefinedMetricWarning: Precision and F-score are ill-defined and being set to 0.0 in labels with no predicted samples. Use `zero_division` parameter to control this behavior.\n",
      "  _warn_prf(average, modifier, msg_start, len(result))\n"
     ]
    },
    {
     "name": "stdout",
     "output_type": "stream",
     "text": [
      "filename: InterpolationAccelerometerMichalUpstairs.csv p1: 4.1 p2: 35.0\n"
     ]
    },
    {
     "name": "stderr",
     "output_type": "stream",
     "text": [
      "F:\\anaconda\\envs\\deeplearning\\lib\\site-packages\\sklearn\\metrics\\_classification.py:1308: UndefinedMetricWarning: Precision and F-score are ill-defined and being set to 0.0 in labels with no predicted samples. Use `zero_division` parameter to control this behavior.\n",
      "  _warn_prf(average, modifier, msg_start, len(result))\n"
     ]
    },
    {
     "name": "stdout",
     "output_type": "stream",
     "text": [
      "filename: InterpolationAccelerometerMichalSquats4.csv p1: 4.0 p2: 93.7\n"
     ]
    },
    {
     "name": "stderr",
     "output_type": "stream",
     "text": [
      "F:\\anaconda\\envs\\deeplearning\\lib\\site-packages\\sklearn\\metrics\\_classification.py:1308: UndefinedMetricWarning: Precision and F-score are ill-defined and being set to 0.0 in labels with no predicted samples. Use `zero_division` parameter to control this behavior.\n",
      "  _warn_prf(average, modifier, msg_start, len(result))\n"
     ]
    },
    {
     "name": "stdout",
     "output_type": "stream",
     "text": [
      "filename: InterpolationAccelerometerMichalSquats3.csv p1: 5.5 p2: 129.0\n"
     ]
    },
    {
     "name": "stderr",
     "output_type": "stream",
     "text": [
      "F:\\anaconda\\envs\\deeplearning\\lib\\site-packages\\sklearn\\metrics\\_classification.py:1308: UndefinedMetricWarning: Precision and F-score are ill-defined and being set to 0.0 in labels with no predicted samples. Use `zero_division` parameter to control this behavior.\n",
      "  _warn_prf(average, modifier, msg_start, len(result))\n"
     ]
    },
    {
     "name": "stdout",
     "output_type": "stream",
     "text": [
      "filename: InterpolationAccelerometerMichalSquats2.csv p1: 4.5 p2: 124.7\n"
     ]
    },
    {
     "name": "stderr",
     "output_type": "stream",
     "text": [
      "F:\\anaconda\\envs\\deeplearning\\lib\\site-packages\\sklearn\\metrics\\_classification.py:1308: UndefinedMetricWarning: Precision and F-score are ill-defined and being set to 0.0 in labels with no predicted samples. Use `zero_division` parameter to control this behavior.\n",
      "  _warn_prf(average, modifier, msg_start, len(result))\n"
     ]
    },
    {
     "name": "stdout",
     "output_type": "stream",
     "text": [
      "filename: InterpolationAccelerometerMichalSquats.csv p1: 4.0 p2: 118.0\n"
     ]
    },
    {
     "name": "stderr",
     "output_type": "stream",
     "text": [
      "F:\\anaconda\\envs\\deeplearning\\lib\\site-packages\\sklearn\\metrics\\_classification.py:1308: UndefinedMetricWarning: Precision and F-score are ill-defined and being set to 0.0 in labels with no predicted samples. Use `zero_division` parameter to control this behavior.\n",
      "  _warn_prf(average, modifier, msg_start, len(result))\n"
     ]
    },
    {
     "name": "stdout",
     "output_type": "stream",
     "text": [
      "filename: InterpolationAccelerometerMichalSitting6.csv p1: 4.0 p2: 170.0\n"
     ]
    },
    {
     "name": "stderr",
     "output_type": "stream",
     "text": [
      "F:\\anaconda\\envs\\deeplearning\\lib\\site-packages\\sklearn\\metrics\\_classification.py:1308: UndefinedMetricWarning: Precision and F-score are ill-defined and being set to 0.0 in labels with no predicted samples. Use `zero_division` parameter to control this behavior.\n",
      "  _warn_prf(average, modifier, msg_start, len(result))\n"
     ]
    },
    {
     "name": "stdout",
     "output_type": "stream",
     "text": [
      "filename: InterpolationAccelerometerMichalSitting5.csv p1: 5.0 p2: 95.0\n"
     ]
    },
    {
     "name": "stderr",
     "output_type": "stream",
     "text": [
      "F:\\anaconda\\envs\\deeplearning\\lib\\site-packages\\sklearn\\metrics\\_classification.py:1308: UndefinedMetricWarning: Precision and F-score are ill-defined and being set to 0.0 in labels with no predicted samples. Use `zero_division` parameter to control this behavior.\n",
      "  _warn_prf(average, modifier, msg_start, len(result))\n"
     ]
    },
    {
     "name": "stdout",
     "output_type": "stream",
     "text": [
      "filename: InterpolationAccelerometerMichalSitting4.csv p1: 5.0 p2: 170.0\n"
     ]
    },
    {
     "name": "stderr",
     "output_type": "stream",
     "text": [
      "F:\\anaconda\\envs\\deeplearning\\lib\\site-packages\\sklearn\\metrics\\_classification.py:1308: UndefinedMetricWarning: Precision and F-score are ill-defined and being set to 0.0 in labels with no predicted samples. Use `zero_division` parameter to control this behavior.\n",
      "  _warn_prf(average, modifier, msg_start, len(result))\n"
     ]
    },
    {
     "name": "stdout",
     "output_type": "stream",
     "text": [
      "filename: InterpolationAccelerometerMichalSitting3.csv p1: 4.0 p2: 135.0\n"
     ]
    },
    {
     "name": "stderr",
     "output_type": "stream",
     "text": [
      "F:\\anaconda\\envs\\deeplearning\\lib\\site-packages\\sklearn\\metrics\\_classification.py:1308: UndefinedMetricWarning: Precision and F-score are ill-defined and being set to 0.0 in labels with no predicted samples. Use `zero_division` parameter to control this behavior.\n",
      "  _warn_prf(average, modifier, msg_start, len(result))\n"
     ]
    },
    {
     "name": "stdout",
     "output_type": "stream",
     "text": [
      "filename: InterpolationAccelerometerMichalSitting2.csv p1: 4.0 p2: 128.0\n"
     ]
    },
    {
     "name": "stderr",
     "output_type": "stream",
     "text": [
      "F:\\anaconda\\envs\\deeplearning\\lib\\site-packages\\sklearn\\metrics\\_classification.py:1308: UndefinedMetricWarning: Precision and F-score are ill-defined and being set to 0.0 in labels with no predicted samples. Use `zero_division` parameter to control this behavior.\n",
      "  _warn_prf(average, modifier, msg_start, len(result))\n"
     ]
    },
    {
     "name": "stdout",
     "output_type": "stream",
     "text": [
      "filename: InterpolationAccelerometerMichalSitting.csv p1: 4.0 p2: 236.0\n"
     ]
    },
    {
     "name": "stderr",
     "output_type": "stream",
     "text": [
      "F:\\anaconda\\envs\\deeplearning\\lib\\site-packages\\sklearn\\metrics\\_classification.py:1308: UndefinedMetricWarning: Precision and F-score are ill-defined and being set to 0.0 in labels with no predicted samples. Use `zero_division` parameter to control this behavior.\n",
      "  _warn_prf(average, modifier, msg_start, len(result))\n"
     ]
    },
    {
     "name": "stdout",
     "output_type": "stream",
     "text": [
      "filename: InterpolationAccelerometerMichalDownstairs2.csv p1: 4.5 p2: 49.0\n"
     ]
    },
    {
     "name": "stderr",
     "output_type": "stream",
     "text": [
      "F:\\anaconda\\envs\\deeplearning\\lib\\site-packages\\sklearn\\metrics\\_classification.py:1308: UndefinedMetricWarning: Precision and F-score are ill-defined and being set to 0.0 in labels with no predicted samples. Use `zero_division` parameter to control this behavior.\n",
      "  _warn_prf(average, modifier, msg_start, len(result))\n"
     ]
    },
    {
     "name": "stdout",
     "output_type": "stream",
     "text": [
      "filename: InterpolationAccelerometerMichalDownstairs.csv p1: 2.2 p2: 45.7\n"
     ]
    },
    {
     "name": "stderr",
     "output_type": "stream",
     "text": [
      "F:\\anaconda\\envs\\deeplearning\\lib\\site-packages\\sklearn\\metrics\\_classification.py:1308: UndefinedMetricWarning: Precision and F-score are ill-defined and being set to 0.0 in labels with no predicted samples. Use `zero_division` parameter to control this behavior.\n",
      "  _warn_prf(average, modifier, msg_start, len(result))\n"
     ]
    }
   ],
   "source": [
    "from sklearn.svm import LinearSVC, SVC\n",
    "from sklearn.ensemble import RandomForestClassifier\n",
    "from sklearn.ensemble import AdaBoostClassifier\n",
    "from sklearn.tree import DecisionTreeClassifier\n",
    "from sklearn.metrics import classification_report, accuracy_score\n",
    "foldername = \"fourth-run\"\n",
    "input_data = pd.read_csv('startend_points.csv', sep=';', decimal=\",\")\n",
    "# input_data = input_data.iloc[:2]\n",
    "results = pd.DataFrame()\n",
    "for idx, row in input_data.iterrows():\n",
    "    if row['filename'] in files_drop:\n",
    "        continue\n",
    "\n",
    "    print(f\"filename: {row['filename']} p1: {row['p1']} p2: {row['p2']}\")\n",
    "    temp = pd.read_csv(os.path.join(foldername, row['filename']))\n",
    "    activity = temp['activity'].unique()[0]\n",
    "    temp = temp[['time','x','y','z','mag']]\n",
    "    temp['time'] = (temp['time'] - temp['time'].iloc[0])/1000000000\n",
    "\n",
    "    windows, labels, window_times = split_dataframe_to_windows(temp, window_length=0.5, p1=row['p1'], p2=row['p2'])\n",
    "\n",
    "    windows1 = []\n",
    "    for i, window in enumerate(windows):\n",
    "        if i <= len(windows)/2:\n",
    "            windows1.append(window)\n",
    "        else:\n",
    "            windows1.append(window.iloc[::-1])\n",
    "    rise_times, fall_times = calculate_rise_fall_times_optimized(windows1)\n",
    "    # rise_times1, fall_times1 = duration_above_below_ma(windows1)\n",
    "\n",
    "    p1 = pd.DataFrame.from_dict(rise_times).reset_index().drop(\"r_mag\", axis=1)\n",
    "    p2 = pd.DataFrame.from_dict(fall_times).reset_index().drop(\"f_mag\", axis=1)\n",
    "    # p11 = pd.DataFrame.from_dict(rise_times1).reset_index().drop(\"a_mag\", axis=1)\n",
    "    # p22 = pd.DataFrame.from_dict(fall_times1).reset_index().drop(\"b_mag\", axis=1)\n",
    "    X = p1.merge(p2).drop(\"index\", axis=1)\n",
    "    # X = p1.merge(p2).merge(p11).merge(p22).drop(\"index\", axis=1)\n",
    "\n",
    "    train_idx = get_indexes(window_times, labels, 3.0, 3.0)\n",
    "    # clf = RandomForestClassifier(class_weight={0:0.9, 1:0.1})\n",
    "    # clf = SVC(C=0.00001, kernel='poly', degree=5, probability=False, class_weight={0:0.9, 1:0.1})\n",
    "    clf = SVC(probability=False, class_weight={0:0.9, 1:0.1})\n",
    "    # clf = AdaBoostClassifier(n_estimators=100)\n",
    "    clf.fit(X.iloc[train_idx], [labels[i] for i in train_idx])\n",
    "    y_pred = clf.predict(X)\n",
    "    try:\n",
    "        raw_results = precision_recall_fscore_support(labels, y_pred)\n",
    "        y_pred1 = modify_list(y_pred.tolist())\n",
    "        mod_results = precision_recall_fscore_support(labels, y_pred1)\n",
    "        y_pred2 = modify_list2(y_pred1)\n",
    "        mod2_results = precision_recall_fscore_support(labels, y_pred2)\n",
    "        row_result_dict = {'name': row['filename'], 'activity': activity,\n",
    "                      'raw_p0': raw_results[0][0], 'raw_r0': raw_results[0][1], 'raw_p1': raw_results[1][0], 'raw_r1': raw_results[1][1],\n",
    "                      'mod1_p0': mod_results[0][0], 'mod1_r0': mod_results[0][1], 'mod1_p1': mod_results[1][0], 'mod1_r1': mod_results[1][1],\n",
    "                      'mod2_p0': mod2_results[0][0], 'mod2_r0': mod2_results[0][1], 'mod2_p1': mod2_results[1][0], 'mod2_r1': mod2_results[1][1],\n",
    "                      }\n",
    "    except ValueError:\n",
    "        row_result_dict = {'name': row['filename'], 'activity': activity,\n",
    "                      'raw_p0': 0.0, 'raw_r0': 0.0, 'raw_p1': 0.0, 'raw_r1': 0.0,\n",
    "                      'mod1_p0': 0.0, 'mod1_r0': 0.0, 'mod1_p1': 0.0, 'mod1_r1': 0.0,\n",
    "                      'mod2_p0': 0.0, 'mod2_r0': 0.0, 'mod2_p1': 0.0, 'mod2_r1': 0.0,\n",
    "                      }\n",
    "    temp_df = pd.DataFrame(row_result_dict, index=[0])\n",
    "    results = pd.concat([results,temp_df]).reset_index(drop=True)\n",
    "results.head()\n",
    "results.to_csv('a_SVC_normal.csv', index=False)"
   ],
   "metadata": {
    "collapsed": false
   }
  },
  {
   "cell_type": "code",
   "execution_count": 36,
   "outputs": [
    {
     "data": {
      "text/plain": "                                                 name    activity    raw_p0  \\\n0   InterpolationAccelerometerKubaDownstairs3Apple...  downstairs  0.086667   \n1   InterpolationAccelerometerKubaDownstairs2Apple...  downstairs  0.113821   \n2       InterpolationAccelerometerKubaSquatsApple.csv      squats  0.067568   \n3      InterpolationAccelerometerKubaSittingApple.csv     sitting  0.032872   \n4      InterpolationAccelerometerKubaSquats2Apple.csv      squats  0.092025   \n5      InterpolationAccelerometerKubaSquats3Apple.csv      squats  0.094595   \n6    InterpolationAccelerometerKubaStanding2Apple.csv    standing  0.063492   \n7    InterpolationAccelerometerKubaStanding3Apple.csv    standing  0.079365   \n8     InterpolationAccelerometerKubaWalking2Apple.csv     walking  0.019512   \n9   InterpolationAccelerometerKubaDownstairsApple.csv  downstairs  0.262295   \n10    InterpolationAccelerometerKubaSitting2Apple.csv     sitting  0.039139   \n11    InterpolationAccelerometerKubaUpstairsApple.csv    upstairs  0.119266   \n12     InterpolationAccelerometerKubaWalkingApple.csv     walking  0.023569   \n13    InterpolationAccelerometerKubaStandingApple.csv    standing  0.064378   \n14   InterpolationAccelerometerKubaUpstairs2Apple.csv    upstairs  0.100775   \n15      InterpolationAccelerometerKubaLying3Apple.csv       lying  0.053824   \n16      InterpolationAccelerometerKubaLying2Apple.csv       lying  0.111111   \n17       InterpolationAccelerometerKubaLyingApple.csv       lying  0.073469   \n18  InterpolationAccelerometerKasperDownstairsAppl...  downstairs  0.056604   \n\n      raw_r0    raw_p1    raw_r1   mod1_p0   mod1_r0   mod1_p1   mod1_r1  \\\n0   1.000000  1.000000  0.041958  0.130000  1.000000  1.000000  0.391608   \n1   1.000000  1.000000  0.161538  0.608696  1.000000  1.000000  0.930769   \n2   1.000000  1.000000  0.137500  0.750000  1.000000  1.000000  0.979167   \n3   1.000000  1.000000  0.145260  0.950000  1.000000  1.000000  0.998471   \n4   0.990000  0.937500  0.400810  0.764706  0.987805  0.812500  0.983806   \n5   1.000000  1.000000  0.176230  0.656250  1.000000  1.000000  0.954918   \n6   0.923077  0.941176  0.048387  0.888889  0.995951  0.941176  0.991935   \n7   0.800000  0.909091  0.033333  0.760000  0.987342  0.863636  0.975000   \n8   1.000000  1.000000  0.300261  0.640000  1.000000  1.000000  0.992167   \n9   0.941176  0.941176  0.262295  0.862069  0.929134  0.735294  0.967213   \n10  0.988889  0.952381  0.153448  1.000000  0.993151  0.809524  1.000000   \n11  1.000000  1.000000  0.244094  0.812500  1.000000  1.000000  0.976378   \n12  1.000000  1.000000  0.138187  0.518519  1.000000  1.000000  0.980684   \n13  1.000000  1.000000  0.099174  0.384615  1.000000  1.000000  0.900826   \n14  0.975610  0.928571  0.256410  0.812500  0.993506  0.928571  0.980769   \n15  0.927419  0.678571  0.256125  1.000000  0.969762  0.500000  1.000000   \n16  0.969697  0.882353  0.347826  1.000000  0.983957  0.823529  1.000000   \n17  0.989130  0.947368  0.286164  1.000000  0.987578  0.789474  1.000000   \n18  0.952381  0.900000  0.117647  0.900000  0.994118  0.900000  0.994118   \n\n     mod2_p0   mod2_r0   mod2_p1   mod2_r1  \n0   0.127451  1.000000  1.000000  0.377622  \n1   0.560000  1.000000  1.000000  0.915385  \n2   0.681818  1.000000  1.000000  0.970833  \n3   0.863636  1.000000  1.000000  0.995413  \n4   0.736842  0.991803  0.875000  0.979757  \n5   0.617647  1.000000  1.000000  0.946721  \n6   0.850000  1.000000  1.000000  0.987903  \n7   0.740741  0.991489  0.909091  0.970833  \n8   0.592593  1.000000  1.000000  0.990426  \n9   0.838710  0.936000  0.764706  0.959016  \n10  0.947368  0.994845  0.857143  0.998276  \n11  0.722222  1.000000  1.000000  0.960630  \n12  0.482759  1.000000  1.000000  0.977712  \n13  0.365854  1.000000  1.000000  0.892562  \n14  0.777778  1.000000  1.000000  0.974359  \n15  1.000000  0.973970  0.571429  1.000000  \n16  1.000000  0.994595  0.941176  1.000000  \n17  0.941176  0.990625  0.842105  0.996855  \n18  0.833333  1.000000  1.000000  0.988235  ",
      "text/html": "<div>\n<style scoped>\n    .dataframe tbody tr th:only-of-type {\n        vertical-align: middle;\n    }\n\n    .dataframe tbody tr th {\n        vertical-align: top;\n    }\n\n    .dataframe thead th {\n        text-align: right;\n    }\n</style>\n<table border=\"1\" class=\"dataframe\">\n  <thead>\n    <tr style=\"text-align: right;\">\n      <th></th>\n      <th>name</th>\n      <th>activity</th>\n      <th>raw_p0</th>\n      <th>raw_r0</th>\n      <th>raw_p1</th>\n      <th>raw_r1</th>\n      <th>mod1_p0</th>\n      <th>mod1_r0</th>\n      <th>mod1_p1</th>\n      <th>mod1_r1</th>\n      <th>mod2_p0</th>\n      <th>mod2_r0</th>\n      <th>mod2_p1</th>\n      <th>mod2_r1</th>\n    </tr>\n  </thead>\n  <tbody>\n    <tr>\n      <th>0</th>\n      <td>InterpolationAccelerometerKubaDownstairs3Apple...</td>\n      <td>downstairs</td>\n      <td>0.086667</td>\n      <td>1.000000</td>\n      <td>1.000000</td>\n      <td>0.041958</td>\n      <td>0.130000</td>\n      <td>1.000000</td>\n      <td>1.000000</td>\n      <td>0.391608</td>\n      <td>0.127451</td>\n      <td>1.000000</td>\n      <td>1.000000</td>\n      <td>0.377622</td>\n    </tr>\n    <tr>\n      <th>1</th>\n      <td>InterpolationAccelerometerKubaDownstairs2Apple...</td>\n      <td>downstairs</td>\n      <td>0.113821</td>\n      <td>1.000000</td>\n      <td>1.000000</td>\n      <td>0.161538</td>\n      <td>0.608696</td>\n      <td>1.000000</td>\n      <td>1.000000</td>\n      <td>0.930769</td>\n      <td>0.560000</td>\n      <td>1.000000</td>\n      <td>1.000000</td>\n      <td>0.915385</td>\n    </tr>\n    <tr>\n      <th>2</th>\n      <td>InterpolationAccelerometerKubaSquatsApple.csv</td>\n      <td>squats</td>\n      <td>0.067568</td>\n      <td>1.000000</td>\n      <td>1.000000</td>\n      <td>0.137500</td>\n      <td>0.750000</td>\n      <td>1.000000</td>\n      <td>1.000000</td>\n      <td>0.979167</td>\n      <td>0.681818</td>\n      <td>1.000000</td>\n      <td>1.000000</td>\n      <td>0.970833</td>\n    </tr>\n    <tr>\n      <th>3</th>\n      <td>InterpolationAccelerometerKubaSittingApple.csv</td>\n      <td>sitting</td>\n      <td>0.032872</td>\n      <td>1.000000</td>\n      <td>1.000000</td>\n      <td>0.145260</td>\n      <td>0.950000</td>\n      <td>1.000000</td>\n      <td>1.000000</td>\n      <td>0.998471</td>\n      <td>0.863636</td>\n      <td>1.000000</td>\n      <td>1.000000</td>\n      <td>0.995413</td>\n    </tr>\n    <tr>\n      <th>4</th>\n      <td>InterpolationAccelerometerKubaSquats2Apple.csv</td>\n      <td>squats</td>\n      <td>0.092025</td>\n      <td>0.990000</td>\n      <td>0.937500</td>\n      <td>0.400810</td>\n      <td>0.764706</td>\n      <td>0.987805</td>\n      <td>0.812500</td>\n      <td>0.983806</td>\n      <td>0.736842</td>\n      <td>0.991803</td>\n      <td>0.875000</td>\n      <td>0.979757</td>\n    </tr>\n    <tr>\n      <th>5</th>\n      <td>InterpolationAccelerometerKubaSquats3Apple.csv</td>\n      <td>squats</td>\n      <td>0.094595</td>\n      <td>1.000000</td>\n      <td>1.000000</td>\n      <td>0.176230</td>\n      <td>0.656250</td>\n      <td>1.000000</td>\n      <td>1.000000</td>\n      <td>0.954918</td>\n      <td>0.617647</td>\n      <td>1.000000</td>\n      <td>1.000000</td>\n      <td>0.946721</td>\n    </tr>\n    <tr>\n      <th>6</th>\n      <td>InterpolationAccelerometerKubaStanding2Apple.csv</td>\n      <td>standing</td>\n      <td>0.063492</td>\n      <td>0.923077</td>\n      <td>0.941176</td>\n      <td>0.048387</td>\n      <td>0.888889</td>\n      <td>0.995951</td>\n      <td>0.941176</td>\n      <td>0.991935</td>\n      <td>0.850000</td>\n      <td>1.000000</td>\n      <td>1.000000</td>\n      <td>0.987903</td>\n    </tr>\n    <tr>\n      <th>7</th>\n      <td>InterpolationAccelerometerKubaStanding3Apple.csv</td>\n      <td>standing</td>\n      <td>0.079365</td>\n      <td>0.800000</td>\n      <td>0.909091</td>\n      <td>0.033333</td>\n      <td>0.760000</td>\n      <td>0.987342</td>\n      <td>0.863636</td>\n      <td>0.975000</td>\n      <td>0.740741</td>\n      <td>0.991489</td>\n      <td>0.909091</td>\n      <td>0.970833</td>\n    </tr>\n    <tr>\n      <th>8</th>\n      <td>InterpolationAccelerometerKubaWalking2Apple.csv</td>\n      <td>walking</td>\n      <td>0.019512</td>\n      <td>1.000000</td>\n      <td>1.000000</td>\n      <td>0.300261</td>\n      <td>0.640000</td>\n      <td>1.000000</td>\n      <td>1.000000</td>\n      <td>0.992167</td>\n      <td>0.592593</td>\n      <td>1.000000</td>\n      <td>1.000000</td>\n      <td>0.990426</td>\n    </tr>\n    <tr>\n      <th>9</th>\n      <td>InterpolationAccelerometerKubaDownstairsApple.csv</td>\n      <td>downstairs</td>\n      <td>0.262295</td>\n      <td>0.941176</td>\n      <td>0.941176</td>\n      <td>0.262295</td>\n      <td>0.862069</td>\n      <td>0.929134</td>\n      <td>0.735294</td>\n      <td>0.967213</td>\n      <td>0.838710</td>\n      <td>0.936000</td>\n      <td>0.764706</td>\n      <td>0.959016</td>\n    </tr>\n    <tr>\n      <th>10</th>\n      <td>InterpolationAccelerometerKubaSitting2Apple.csv</td>\n      <td>sitting</td>\n      <td>0.039139</td>\n      <td>0.988889</td>\n      <td>0.952381</td>\n      <td>0.153448</td>\n      <td>1.000000</td>\n      <td>0.993151</td>\n      <td>0.809524</td>\n      <td>1.000000</td>\n      <td>0.947368</td>\n      <td>0.994845</td>\n      <td>0.857143</td>\n      <td>0.998276</td>\n    </tr>\n    <tr>\n      <th>11</th>\n      <td>InterpolationAccelerometerKubaUpstairsApple.csv</td>\n      <td>upstairs</td>\n      <td>0.119266</td>\n      <td>1.000000</td>\n      <td>1.000000</td>\n      <td>0.244094</td>\n      <td>0.812500</td>\n      <td>1.000000</td>\n      <td>1.000000</td>\n      <td>0.976378</td>\n      <td>0.722222</td>\n      <td>1.000000</td>\n      <td>1.000000</td>\n      <td>0.960630</td>\n    </tr>\n    <tr>\n      <th>12</th>\n      <td>InterpolationAccelerometerKubaWalkingApple.csv</td>\n      <td>walking</td>\n      <td>0.023569</td>\n      <td>1.000000</td>\n      <td>1.000000</td>\n      <td>0.138187</td>\n      <td>0.518519</td>\n      <td>1.000000</td>\n      <td>1.000000</td>\n      <td>0.980684</td>\n      <td>0.482759</td>\n      <td>1.000000</td>\n      <td>1.000000</td>\n      <td>0.977712</td>\n    </tr>\n    <tr>\n      <th>13</th>\n      <td>InterpolationAccelerometerKubaStandingApple.csv</td>\n      <td>standing</td>\n      <td>0.064378</td>\n      <td>1.000000</td>\n      <td>1.000000</td>\n      <td>0.099174</td>\n      <td>0.384615</td>\n      <td>1.000000</td>\n      <td>1.000000</td>\n      <td>0.900826</td>\n      <td>0.365854</td>\n      <td>1.000000</td>\n      <td>1.000000</td>\n      <td>0.892562</td>\n    </tr>\n    <tr>\n      <th>14</th>\n      <td>InterpolationAccelerometerKubaUpstairs2Apple.csv</td>\n      <td>upstairs</td>\n      <td>0.100775</td>\n      <td>0.975610</td>\n      <td>0.928571</td>\n      <td>0.256410</td>\n      <td>0.812500</td>\n      <td>0.993506</td>\n      <td>0.928571</td>\n      <td>0.980769</td>\n      <td>0.777778</td>\n      <td>1.000000</td>\n      <td>1.000000</td>\n      <td>0.974359</td>\n    </tr>\n    <tr>\n      <th>15</th>\n      <td>InterpolationAccelerometerKubaLying3Apple.csv</td>\n      <td>lying</td>\n      <td>0.053824</td>\n      <td>0.927419</td>\n      <td>0.678571</td>\n      <td>0.256125</td>\n      <td>1.000000</td>\n      <td>0.969762</td>\n      <td>0.500000</td>\n      <td>1.000000</td>\n      <td>1.000000</td>\n      <td>0.973970</td>\n      <td>0.571429</td>\n      <td>1.000000</td>\n    </tr>\n    <tr>\n      <th>16</th>\n      <td>InterpolationAccelerometerKubaLying2Apple.csv</td>\n      <td>lying</td>\n      <td>0.111111</td>\n      <td>0.969697</td>\n      <td>0.882353</td>\n      <td>0.347826</td>\n      <td>1.000000</td>\n      <td>0.983957</td>\n      <td>0.823529</td>\n      <td>1.000000</td>\n      <td>1.000000</td>\n      <td>0.994595</td>\n      <td>0.941176</td>\n      <td>1.000000</td>\n    </tr>\n    <tr>\n      <th>17</th>\n      <td>InterpolationAccelerometerKubaLyingApple.csv</td>\n      <td>lying</td>\n      <td>0.073469</td>\n      <td>0.989130</td>\n      <td>0.947368</td>\n      <td>0.286164</td>\n      <td>1.000000</td>\n      <td>0.987578</td>\n      <td>0.789474</td>\n      <td>1.000000</td>\n      <td>0.941176</td>\n      <td>0.990625</td>\n      <td>0.842105</td>\n      <td>0.996855</td>\n    </tr>\n    <tr>\n      <th>18</th>\n      <td>InterpolationAccelerometerKasperDownstairsAppl...</td>\n      <td>downstairs</td>\n      <td>0.056604</td>\n      <td>0.952381</td>\n      <td>0.900000</td>\n      <td>0.117647</td>\n      <td>0.900000</td>\n      <td>0.994118</td>\n      <td>0.900000</td>\n      <td>0.994118</td>\n      <td>0.833333</td>\n      <td>1.000000</td>\n      <td>1.000000</td>\n      <td>0.988235</td>\n    </tr>\n  </tbody>\n</table>\n</div>"
     },
     "execution_count": 36,
     "metadata": {},
     "output_type": "execute_result"
    }
   ],
   "source": [
    "results.head(19)"
   ],
   "metadata": {
    "collapsed": false
   }
  },
  {
   "cell_type": "code",
   "execution_count": 367,
   "outputs": [
    {
     "name": "stderr",
     "output_type": "stream",
     "text": [
      "C:\\Users\\gad\\AppData\\Local\\Temp/ipykernel_6860/3123434673.py:1: FutureWarning: Dropping of nuisance columns in DataFrame reductions (with 'numeric_only=None') is deprecated; in a future version this will raise TypeError.  Select only valid columns before calling the reduction.\n",
      "  rev_data_nomag_ada.drop(9).mean(axis=0)\n"
     ]
    },
    {
     "data": {
      "text/plain": [
       "raw_p0     0.121466\n",
       "raw_r0     0.982180\n",
       "raw_p1     0.840276\n",
       "raw_r1     0.574264\n",
       "mod1_p0    0.967484\n",
       "mod1_r0    0.985640\n",
       "mod1_p1    0.778013\n",
       "mod1_r1    0.997889\n",
       "mod2_p0    0.921062\n",
       "mod2_r0    0.990134\n",
       "mod2_p1    0.848955\n",
       "mod2_r1    0.994299\n",
       "dtype: float64"
      ]
     },
     "execution_count": 367,
     "metadata": {},
     "output_type": "execute_result"
    }
   ],
   "source": [
    "rev_data_nomag_ada.drop(9).mean(axis=0)"
   ],
   "metadata": {
    "collapsed": false
   }
  },
  {
   "cell_type": "code",
   "execution_count": 161,
   "outputs": [
    {
     "name": "stderr",
     "output_type": "stream",
     "text": [
      "C:\\Users\\gad\\AppData\\Local\\Temp/ipykernel_28624/1755374979.py:10: FutureWarning: Dropping of nuisance columns in DataFrame reductions (with 'numeric_only=None') is deprecated; in a future version this will raise TypeError.  Select only valid columns before calling the reduction.\n",
      "  df_result = pd.concat([rev_data.mean(axis=0), notrev_data.mean(axis=0), rev_data_nomag.mean(axis=0), data_nomag.mean(axis=0), rev_data_nomag_ada.mean(axis=0), data_nomag_ada.mean(axis=0), rev_data_nomag_c0d1.mean(axis=0),  rev_data_nomag_c0d05.mean(axis=0), rev_data_nomag_c5.mean(axis=0)], axis=1)\n"
     ]
    },
    {
     "data": {
      "text/html": [
       "<div>\n",
       "<style scoped>\n",
       "    .dataframe tbody tr th:only-of-type {\n",
       "        vertical-align: middle;\n",
       "    }\n",
       "\n",
       "    .dataframe tbody tr th {\n",
       "        vertical-align: top;\n",
       "    }\n",
       "\n",
       "    .dataframe thead th {\n",
       "        text-align: right;\n",
       "    }\n",
       "</style>\n",
       "<table border=\"1\" class=\"dataframe\">\n",
       "  <thead>\n",
       "    <tr style=\"text-align: right;\">\n",
       "      <th></th>\n",
       "      <th>normal_r</th>\n",
       "      <th>normal</th>\n",
       "      <th>normal_r_nomag</th>\n",
       "      <th>normal_nomag</th>\n",
       "      <th>normal_r_nomag_ada</th>\n",
       "      <th>normal_nomag_ada</th>\n",
       "      <th>normal_r_nomag_c0d1</th>\n",
       "      <th>normal_r_nomag_c0d05</th>\n",
       "      <th>normal_r_nomag_d5</th>\n",
       "    </tr>\n",
       "  </thead>\n",
       "  <tbody>\n",
       "    <tr>\n",
       "      <th>raw_p0</th>\n",
       "      <td>0.121358</td>\n",
       "      <td>0.127569</td>\n",
       "      <td>0.102795</td>\n",
       "      <td>0.110507</td>\n",
       "      <td>0.137287</td>\n",
       "      <td>0.139015</td>\n",
       "      <td>0.088489</td>\n",
       "      <td>0.082257</td>\n",
       "      <td>0.083208</td>\n",
       "    </tr>\n",
       "    <tr>\n",
       "      <th>raw_r0</th>\n",
       "      <td>0.981184</td>\n",
       "      <td>0.982804</td>\n",
       "      <td>0.981096</td>\n",
       "      <td>0.978786</td>\n",
       "      <td>0.978339</td>\n",
       "      <td>0.979202</td>\n",
       "      <td>0.962091</td>\n",
       "      <td>0.955505</td>\n",
       "      <td>0.972500</td>\n",
       "    </tr>\n",
       "    <tr>\n",
       "      <th>raw_p1</th>\n",
       "      <td>0.879364</td>\n",
       "      <td>0.896445</td>\n",
       "      <td>0.907354</td>\n",
       "      <td>0.882446</td>\n",
       "      <td>0.836078</td>\n",
       "      <td>0.856087</td>\n",
       "      <td>0.963252</td>\n",
       "      <td>0.973961</td>\n",
       "      <td>0.951011</td>\n",
       "    </tr>\n",
       "    <tr>\n",
       "      <th>raw_r1</th>\n",
       "      <td>0.482859</td>\n",
       "      <td>0.540050</td>\n",
       "      <td>0.375700</td>\n",
       "      <td>0.460028</td>\n",
       "      <td>0.580612</td>\n",
       "      <td>0.601222</td>\n",
       "      <td>0.223077</td>\n",
       "      <td>0.161224</td>\n",
       "      <td>0.193833</td>\n",
       "    </tr>\n",
       "    <tr>\n",
       "      <th>mod1_p0</th>\n",
       "      <td>0.939783</td>\n",
       "      <td>0.936971</td>\n",
       "      <td>0.917396</td>\n",
       "      <td>0.928169</td>\n",
       "      <td>0.969290</td>\n",
       "      <td>0.967435</td>\n",
       "      <td>0.793512</td>\n",
       "      <td>0.673767</td>\n",
       "      <td>0.752152</td>\n",
       "    </tr>\n",
       "    <tr>\n",
       "      <th>mod1_r0</th>\n",
       "      <td>0.984076</td>\n",
       "      <td>0.984603</td>\n",
       "      <td>0.984697</td>\n",
       "      <td>0.983385</td>\n",
       "      <td>0.978613</td>\n",
       "      <td>0.981412</td>\n",
       "      <td>0.991255</td>\n",
       "      <td>0.992371</td>\n",
       "      <td>0.990455</td>\n",
       "    </tr>\n",
       "    <tr>\n",
       "      <th>mod1_p1</th>\n",
       "      <td>0.818476</td>\n",
       "      <td>0.837794</td>\n",
       "      <td>0.843520</td>\n",
       "      <td>0.800361</td>\n",
       "      <td>0.757666</td>\n",
       "      <td>0.795482</td>\n",
       "      <td>0.911206</td>\n",
       "      <td>0.931835</td>\n",
       "      <td>0.900206</td>\n",
       "    </tr>\n",
       "    <tr>\n",
       "      <th>mod1_r1</th>\n",
       "      <td>0.995994</td>\n",
       "      <td>0.995756</td>\n",
       "      <td>0.993808</td>\n",
       "      <td>0.996658</td>\n",
       "      <td>0.998006</td>\n",
       "      <td>0.997877</td>\n",
       "      <td>0.976899</td>\n",
       "      <td>0.891682</td>\n",
       "      <td>0.944651</td>\n",
       "    </tr>\n",
       "    <tr>\n",
       "      <th>mod2_p0</th>\n",
       "      <td>0.888699</td>\n",
       "      <td>0.881841</td>\n",
       "      <td>0.868868</td>\n",
       "      <td>0.888199</td>\n",
       "      <td>0.925447</td>\n",
       "      <td>0.919165</td>\n",
       "      <td>0.744046</td>\n",
       "      <td>0.633033</td>\n",
       "      <td>0.713700</td>\n",
       "    </tr>\n",
       "    <tr>\n",
       "      <th>mod2_r0</th>\n",
       "      <td>0.987873</td>\n",
       "      <td>0.988376</td>\n",
       "      <td>0.988508</td>\n",
       "      <td>0.988348</td>\n",
       "      <td>0.983539</td>\n",
       "      <td>0.986074</td>\n",
       "      <td>0.993503</td>\n",
       "      <td>0.938766</td>\n",
       "      <td>0.992963</td>\n",
       "    </tr>\n",
       "    <tr>\n",
       "      <th>mod2_p1</th>\n",
       "      <td>0.873605</td>\n",
       "      <td>0.887697</td>\n",
       "      <td>0.891631</td>\n",
       "      <td>0.867428</td>\n",
       "      <td>0.827935</td>\n",
       "      <td>0.857013</td>\n",
       "      <td>0.938879</td>\n",
       "      <td>0.954256</td>\n",
       "      <td>0.931147</td>\n",
       "    </tr>\n",
       "    <tr>\n",
       "      <th>mod2_r1</th>\n",
       "      <td>0.991319</td>\n",
       "      <td>0.991104</td>\n",
       "      <td>0.989205</td>\n",
       "      <td>0.993187</td>\n",
       "      <td>0.994616</td>\n",
       "      <td>0.994172</td>\n",
       "      <td>0.970519</td>\n",
       "      <td>0.885178</td>\n",
       "      <td>0.938572</td>\n",
       "    </tr>\n",
       "  </tbody>\n",
       "</table>\n",
       "</div>"
      ],
      "text/plain": [
       "         normal_r    normal  normal_r_nomag  normal_nomag  normal_r_nomag_ada  \\\n",
       "raw_p0   0.121358  0.127569        0.102795      0.110507            0.137287   \n",
       "raw_r0   0.981184  0.982804        0.981096      0.978786            0.978339   \n",
       "raw_p1   0.879364  0.896445        0.907354      0.882446            0.836078   \n",
       "raw_r1   0.482859  0.540050        0.375700      0.460028            0.580612   \n",
       "mod1_p0  0.939783  0.936971        0.917396      0.928169            0.969290   \n",
       "mod1_r0  0.984076  0.984603        0.984697      0.983385            0.978613   \n",
       "mod1_p1  0.818476  0.837794        0.843520      0.800361            0.757666   \n",
       "mod1_r1  0.995994  0.995756        0.993808      0.996658            0.998006   \n",
       "mod2_p0  0.888699  0.881841        0.868868      0.888199            0.925447   \n",
       "mod2_r0  0.987873  0.988376        0.988508      0.988348            0.983539   \n",
       "mod2_p1  0.873605  0.887697        0.891631      0.867428            0.827935   \n",
       "mod2_r1  0.991319  0.991104        0.989205      0.993187            0.994616   \n",
       "\n",
       "         normal_nomag_ada  normal_r_nomag_c0d1  normal_r_nomag_c0d05  \\\n",
       "raw_p0           0.139015             0.088489              0.082257   \n",
       "raw_r0           0.979202             0.962091              0.955505   \n",
       "raw_p1           0.856087             0.963252              0.973961   \n",
       "raw_r1           0.601222             0.223077              0.161224   \n",
       "mod1_p0          0.967435             0.793512              0.673767   \n",
       "mod1_r0          0.981412             0.991255              0.992371   \n",
       "mod1_p1          0.795482             0.911206              0.931835   \n",
       "mod1_r1          0.997877             0.976899              0.891682   \n",
       "mod2_p0          0.919165             0.744046              0.633033   \n",
       "mod2_r0          0.986074             0.993503              0.938766   \n",
       "mod2_p1          0.857013             0.938879              0.954256   \n",
       "mod2_r1          0.994172             0.970519              0.885178   \n",
       "\n",
       "         normal_r_nomag_d5  \n",
       "raw_p0            0.083208  \n",
       "raw_r0            0.972500  \n",
       "raw_p1            0.951011  \n",
       "raw_r1            0.193833  \n",
       "mod1_p0           0.752152  \n",
       "mod1_r0           0.990455  \n",
       "mod1_p1           0.900206  \n",
       "mod1_r1           0.944651  \n",
       "mod2_p0           0.713700  \n",
       "mod2_r0           0.992963  \n",
       "mod2_p1           0.931147  \n",
       "mod2_r1           0.938572  "
      ]
     },
     "execution_count": 161,
     "metadata": {},
     "output_type": "execute_result"
    }
   ],
   "source": [
    "SVC_low = pd.read_csv('a_SVC_test.csv')\n",
    "SVC_low = SVC_low[SVC_low[\"raw_p0\"]>0]\n",
    "df_result = pd.concat([SVC_low.mean(axis=0), ], axis=1)\n",
    "df_result.columns = ['SVC_low', 'normal', 'normal_r_nomag', 'normal_nomag', 'normal_r_nomag_ada', 'normal_nomag_ada', 'normal_r_nomag_c0d1', 'normal_r_nomag_c0d05', 'normal_r_nomag_d5']\n",
    "df_result.head(len(df_result))"
   ],
   "metadata": {
    "collapsed": false
   }
  },
  {
   "cell_type": "code",
   "execution_count": null,
   "outputs": [],
   "source": [],
   "metadata": {
    "collapsed": false
   }
  }
 ],
 "metadata": {
  "kernelspec": {
   "display_name": "Python 3",
   "language": "python",
   "name": "python3"
  },
  "language_info": {
   "codemirror_mode": {
    "name": "ipython",
    "version": 2
   },
   "file_extension": ".py",
   "mimetype": "text/x-python",
   "name": "python",
   "nbconvert_exporter": "python",
   "pygments_lexer": "ipython2",
   "version": "2.7.6"
  }
 },
 "nbformat": 4,
 "nbformat_minor": 0
}
